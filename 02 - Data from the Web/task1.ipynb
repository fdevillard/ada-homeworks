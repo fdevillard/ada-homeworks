{
 "cells": [
  {
   "cell_type": "code",
   "execution_count": 1,
   "metadata": {
    "collapsed": true
   },
   "outputs": [],
   "source": [
    "%matplotlib inline\n",
    "import pandas as pd\n",
    "import numpy as np\n",
    "import matplotlib.pyplot as plt\n",
    "import seaborn as sns\n",
    "sns.set_context('notebook')\n",
    "# New imports for HW3:\n",
    "import requests\n",
    "from bs4 import BeautifulSoup"
   ]
  },
  {
   "cell_type": "markdown",
   "metadata": {},
   "source": [
    "# Intro\n",
    "\n",
    "## IS-Academia\n",
    "\n",
    "After looking at the webpage and some requests (using Postman), we can derive the following:\n",
    "* the URL for the search form\n",
    "* the URL for the querries\n",
    "* the base parameters used for querries (espacially the `ww_x_GPS` set to -1 to get all the answers)"
   ]
  },
  {
   "cell_type": "code",
   "execution_count": 2,
   "metadata": {
    "collapsed": true
   },
   "outputs": [],
   "source": [
    "form_url = 'http://isa.epfl.ch/imoniteur_ISAP/!GEDPUBLICREPORTS.filter'\n",
    "base_url = 'http://isa.epfl.ch/imoniteur_ISAP/!GEDPUBLICREPORTS.html'\n",
    "params = {'ww_i_reportModel':'133685247', \n",
    "          'ww_i_reportModelXsl':'133685270', \n",
    "          'ww_x_GPS':'-1'}"
   ]
  },
  {
   "cell_type": "code",
   "execution_count": 3,
   "metadata": {
    "collapsed": false
   },
   "outputs": [],
   "source": [
    "page = requests.get(form_url, params)"
   ]
  },
  {
   "cell_type": "markdown",
   "metadata": {},
   "source": [
    "Now that we get the page, we can use Beautifulsoup to parse it and retrieve all the select fields and their corresponding options:"
   ]
  },
  {
   "cell_type": "code",
   "execution_count": 4,
   "metadata": {
    "collapsed": false
   },
   "outputs": [],
   "source": [
    "soup = BeautifulSoup(page.content, 'lxml')\n",
    "keys = {}\n",
    "for s in soup.find_all('select'):\n",
    "    for o in s.find_all('option'):\n",
    "        if o.text != '': # No need for empty (default values)\n",
    "            keys.setdefault(s['name'], {}).update({o.text: o['value']})\n",
    "\n",
    "# A helper method to change a parameter\n",
    "# name : the parameter\n",
    "# key : the key in plain text (eg. 'Bachelor semestre 1')\n",
    "def updateParam(name, key):\n",
    "    return params.update({name: keys[name][key]})"
   ]
  },
  {
   "cell_type": "markdown",
   "metadata": {},
   "source": [
    "Now we have the information needed to querry the server.  \n",
    "__Remark:__ the field for winter/spring semester is purely redondent. (eg. selecting 'Bachelor semester 1' and spring semester produces an empty answer.)\n",
    "\n",
    "## Task 1\n",
    "\n",
    "We thought of different methods/assumptions:\n",
    "1. __Look for min(Bachelor sem. 1) and max(Bachelor sem. 5, Bachelor sem. 6)__  \n",
    "1.1. + This would count all the time spent in Bachelor for every student  \n",
    "1.2. - We can't know if students for recent years are finished or not  \n",
    "2. __Take all semesters and sum them__  \n",
    "2.1. + We get a fined grained result of the semesters spent by a student in Bachelor  \n",
    "2.2. - Students who changed section during their Bachelor are counted wrong _(There's one who has only 4 sem.)_  \n",
    "3. __Take min(Bachelor sem. 1) and min(Bachelor sem. 6)__  \n",
    "3.1. + This should be more relevent as all results are present  \n",
    "3.2. - It's only indicating the time taken from BA1 to BA6 (\"first attempt\")  \n",
    "\n",
    "__Decision:__ To best compute _\"Compute how many months it took each student to go from the first to the sixth semester\"_, we decided to:\n",
    "* Take point 3 (from above).\n",
    "* This should mean that results are plain years (as uneven sem. are winter sem. and vice-versa)\n",
    "* All results should be $>=3$"
   ]
  },
  {
   "cell_type": "code",
   "execution_count": 5,
   "metadata": {
    "collapsed": false
   },
   "outputs": [],
   "source": [
    "# Preparing the keys for the querries:\n",
    "updateParam('ww_x_UNITE_ACAD', 'Informatique')\n",
    "years = keys['ww_x_PERIODE_ACAD']\n",
    "semesters = ['Bachelor semestre 1', 'Bachelor semestre 6']\n",
    "\n",
    "# Helper method to get the correct year from encoding YYYY-YYYY\n",
    "# sem : the semester (eg. Bachelor semestre 1)\n",
    "# year : the encoded year (eg. 2007-2008)\n",
    "def getYear(sem, year):\n",
    "    s = int(sem[-1])\n",
    "    return int(year.split('-')[(0 if s % 2 == 1 else 1)])\n",
    "\n",
    "# Requesting all the needed students' information:\n",
    "students = {}\n",
    "for year in years.keys():\n",
    "    for sem in semesters:\n",
    "        updateParam('ww_x_PERIODE_ACAD', year)\n",
    "        updateParam('ww_x_PERIODE_PEDAGO', sem)\n",
    "        r = requests.get(base_url, params).text\n",
    "        soup = BeautifulSoup(r, 'lxml')\n",
    "        for row in soup.findAll('tr'):\n",
    "            if row.contents[0].name != 'th':\n",
    "                gender = 'M' if row.contents[0].text == 'Monsieur' else 'F'\n",
    "                sciper = row.contents[10].text\n",
    "                if not sciper in students:\n",
    "                    students[sciper] = {'gender':gender}\n",
    "                if not sem in students[sciper]:\n",
    "                    students[sciper][sem] = []\n",
    "                students[sciper][sem].append(getYear(sem, year))"
   ]
  },
  {
   "cell_type": "code",
   "execution_count": 6,
   "metadata": {
    "collapsed": false
   },
   "outputs": [
    {
     "data": {
      "text/html": [
       "<div>\n",
       "<table border=\"1\" class=\"dataframe\">\n",
       "  <thead>\n",
       "    <tr style=\"text-align: right;\">\n",
       "      <th>gender</th>\n",
       "      <th>F</th>\n",
       "      <th>M</th>\n",
       "    </tr>\n",
       "    <tr>\n",
       "      <th>duration</th>\n",
       "      <th></th>\n",
       "      <th></th>\n",
       "    </tr>\n",
       "  </thead>\n",
       "  <tbody>\n",
       "    <tr>\n",
       "      <th>36</th>\n",
       "      <td>26.0</td>\n",
       "      <td>301.0</td>\n",
       "    </tr>\n",
       "    <tr>\n",
       "      <th>48</th>\n",
       "      <td>3.0</td>\n",
       "      <td>63.0</td>\n",
       "    </tr>\n",
       "    <tr>\n",
       "      <th>60</th>\n",
       "      <td>0.0</td>\n",
       "      <td>4.0</td>\n",
       "    </tr>\n",
       "  </tbody>\n",
       "</table>\n",
       "</div>"
      ],
      "text/plain": [
       "gender       F      M\n",
       "duration             \n",
       "36        26.0  301.0\n",
       "48         3.0   63.0\n",
       "60         0.0    4.0"
      ]
     },
     "execution_count": 6,
     "metadata": {},
     "output_type": "execute_result"
    },
    {
     "data": {
      "image/png": "[encoded data removed]",
      "text/plain": [
       "<matplotlib.figure.Figure at 0x11753d668>"
      ]
     },
     "metadata": {},
     "output_type": "display_data"
    }
   ],
   "source": [
    "# Filtering the results to keep only the relevant ones:\n",
    "students_finished = []\n",
    "for sciper, v in students.items():\n",
    "    if all (sem in v for sem in ('Bachelor semestre 1', 'Bachelor semestre 6')):\n",
    "        duration = (min(v['Bachelor semestre 6']) - min(v['Bachelor semestre 1'])) * 12\n",
    "        gender = v['gender']\n",
    "        students_finished.append({'gender':gender, 'duration':duration})\n",
    "        \n",
    "# Creating a nice representation and plotting the results:\n",
    "df = pd.DataFrame(students_finished).groupby(['duration', 'gender']).agg(len).unstack().fillna(0)\n",
    "df.apply(lambda x: x / df.sum(), axis=1).plot.bar()\n",
    "df\n"
   ]
  },
  {
   "cell_type": "code",
   "execution_count": 7,
   "metadata": {
    "collapsed": false
   },
   "outputs": [],
   "source": [
    "groups = pd.DataFrame(students_finished).groupby(['gender'])\n",
    "males = groups.get_group('M').drop('gender', axis=1)\n",
    "females = groups.get_group('F').drop('gender', axis=1)"
   ]
  },
  {
   "cell_type": "code",
   "execution_count": 8,
   "metadata": {
    "collapsed": false
   },
   "outputs": [
    {
     "data": {
      "text/plain": [
       "duration    37.241379\n",
       "dtype: float64"
      ]
     },
     "execution_count": 8,
     "metadata": {},
     "output_type": "execute_result"
    }
   ],
   "source": [
    "females.mean()"
   ]
  },
  {
   "cell_type": "code",
   "execution_count": 9,
   "metadata": {
    "collapsed": false
   },
   "outputs": [
    {
     "data": {
      "text/plain": [
       "duration    38.315217\n",
       "dtype: float64"
      ]
     },
     "execution_count": 9,
     "metadata": {},
     "output_type": "execute_result"
    }
   ],
   "source": [
    "males.mean()"
   ]
  },
  {
   "cell_type": "markdown",
   "metadata": {},
   "source": [
    "### Significant \n",
    "Let now check the statistical significance.\n",
    "\n",
    "The distribution of the number of years spent is not normal for at least these two reasons:\n",
    "* Students can't do it in less than 3 years\n",
    "* Most of students finished in 3 years\n",
    "\n",
    "Slide 25 of the [course](https://docs.google.com/presentation/d/1ePWXvwJkUrYBvoAzOqIigFLOh4ZDjhh3x1gkp8znCrg/edit#slide=id.g179faf3a1c_0_95) suggests that _Mann-Whitney_ test is a good test. Indeed,\n",
    "- Two samples\n",
    "- Non-normal distribution (previous argument)\n",
    "- Unpaired samples (as explained by [this](http://www.sjsu.edu/faculty/gerstman/StatPrimer/paired.pdf))\n",
    "\n",
    "This test is implemented in Scipy."
   ]
  },
  {
   "cell_type": "code",
   "execution_count": 10,
   "metadata": {
    "collapsed": false
   },
   "outputs": [
    {
     "data": {
      "text/plain": [
       "0.1398187300313633"
      ]
     },
     "execution_count": 10,
     "metadata": {},
     "output_type": "execute_result"
    }
   ],
   "source": [
    "from scipy import stats\n",
    "\n",
    "T, p_value = stats.mannwhitneyu(females, males)\n",
    "p_value"
   ]
  },
  {
   "cell_type": "code",
   "execution_count": null,
   "metadata": {
    "collapsed": true
   },
   "outputs": [],
   "source": []
  }
 ],
 "metadata": {
  "anaconda-cloud": {},
  "kernelspec": {
   "display_name": "Python [Root]",
   "language": "python",
   "name": "Python [Root]"
  },
  "language_info": {
   "codemirror_mode": {
    "name": "ipython",
    "version": 3
   },
   "file_extension": ".py",
   "mimetype": "text/x-python",
   "name": "python",
   "nbconvert_exporter": "python",
   "pygments_lexer": "ipython3",
   "version": "3.5.2"
  }
 },
 "nbformat": 4,
 "nbformat_minor": 0
}
