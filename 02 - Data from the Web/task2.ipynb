{
 "cells": [
  {
   "cell_type": "code",
   "execution_count": 1,
   "metadata": {
    "collapsed": true
   },
   "outputs": [],
   "source": [
    "%matplotlib inline\n",
    "import pandas as pd\n",
    "import numpy as np\n",
    "import matplotlib.pyplot as plt\n",
    "import seaborn as sns\n",
    "sns.set_context('notebook')\n",
    "# New imports for HW2:\n",
    "import requests\n",
    "from bs4 import BeautifulSoup"
   ]
  },
  {
   "cell_type": "code",
   "execution_count": 2,
   "metadata": {
    "collapsed": true
   },
   "outputs": [],
   "source": [
    "form_url = 'http://isa.epfl.ch/imoniteur_ISAP/!GEDPUBLICREPORTS.filter'\n",
    "base_url = 'http://isa.epfl.ch/imoniteur_ISAP/!GEDPUBLICREPORTS.html'\n",
    "params = {'ww_i_reportModel':'133685247', \n",
    "          'ww_i_reportModelXsl':'133685270', \n",
    "          'ww_x_GPS':'-1'}"
   ]
  },
  {
   "cell_type": "code",
   "execution_count": 3,
   "metadata": {
    "collapsed": true
   },
   "outputs": [],
   "source": [
    "page = requests.get(form_url, params)"
   ]
  },
  {
   "cell_type": "code",
   "execution_count": 4,
   "metadata": {
    "collapsed": true
   },
   "outputs": [],
   "source": [
    "soup = BeautifulSoup(page.content, 'lxml')\n",
    "keys = {}\n",
    "for s in soup.find_all('select'):\n",
    "    for o in s.find_all('option'):\n",
    "        if o.text != '': # No need for empty (default values)\n",
    "            keys.setdefault(s['name'], {}).update({o.text: o['value']})\n",
    "            \n",
    "# A helper method to change a parameter\n",
    "# name : the parameter\n",
    "# key : the key in plain text (eg. 'Bachelor semestre 1')\n",
    "def updateParam(name, key):\n",
    "    return params.update({name: keys[name][key]})"
   ]
  },
  {
   "cell_type": "code",
   "execution_count": 5,
   "metadata": {
    "collapsed": false
   },
   "outputs": [
    {
     "data": {
      "text/plain": [
       "{'Bachelor semestre 1': '249108',\n",
       " 'Bachelor semestre 2': '249114',\n",
       " 'Bachelor semestre 3': '942155',\n",
       " 'Bachelor semestre 4': '942163',\n",
       " 'Bachelor semestre 5': '942120',\n",
       " 'Bachelor semestre 5b': '2226768',\n",
       " 'Bachelor semestre 6': '942175',\n",
       " 'Bachelor semestre 6b': '2226785',\n",
       " 'Master semestre 1': '2230106',\n",
       " 'Master semestre 2': '942192',\n",
       " 'Master semestre 3': '2230128',\n",
       " 'Master semestre 4': '2230140',\n",
       " 'Mineur semestre 1': '2335667',\n",
       " 'Mineur semestre 2': '2335676',\n",
       " 'Mise à niveau': '2063602308',\n",
       " 'Projet Master automne': '249127',\n",
       " 'Projet Master printemps': '3781783',\n",
       " 'Semestre automne': '953159',\n",
       " 'Semestre printemps': '2754553',\n",
       " 'Stage automne 3ème année': '953137',\n",
       " 'Stage automne 4ème année': '2226616',\n",
       " 'Stage printemps 3ème année': '983606',\n",
       " 'Stage printemps 4ème année': '2226626',\n",
       " 'Stage printemps master': '2227132'}"
      ]
     },
     "execution_count": 5,
     "metadata": {},
     "output_type": "execute_result"
    }
   ],
   "source": [
    "updateParam('ww_x_UNITE_ACAD', 'Informatique')\n",
    "keys['ww_x_PERIODE_PEDAGO']"
   ]
  },
  {
   "cell_type": "code",
   "execution_count": 8,
   "metadata": {
    "collapsed": false
   },
   "outputs": [
    {
     "data": {
      "text/plain": [
       "['Projet Master printemps',\n",
       " 'Master semestre 2',\n",
       " 'Master semestre 4',\n",
       " 'Master semestre 3',\n",
       " 'Master semestre 1',\n",
       " 'Projet Master automne']"
      ]
     },
     "execution_count": 8,
     "metadata": {},
     "output_type": "execute_result"
    }
   ],
   "source": [
    "semestres = [s for s in keys['ww_x_PERIODE_PEDAGO'] if (s.find('Master') != -1)]\n",
    "years = keys['ww_x_PERIODE_ACAD']\n",
    "semestres"
   ]
  },
  {
   "cell_type": "code",
   "execution_count": 9,
   "metadata": {
    "collapsed": false
   },
   "outputs": [],
   "source": [
    "students = {}\n",
    "for year in years.keys():\n",
    "    for sem in semestres:\n",
    "        updateParam('ww_x_PERIODE_ACAD', year)\n",
    "        updateParam('ww_x_PERIODE_PEDAGO', sem)\n",
    "        r = requests.get(base_url, params).text\n",
    "        soup = BeautifulSoup(r, 'lxml')\n",
    "        for row in soup.findAll('tr'):\n",
    "            if row.contents[0].name != 'th':\n",
    "                gender = 'M' if row.contents[0].text == 'Monsieur' else 'F'\n",
    "                sciper = row.contents[10].text\n",
    "                spe = row.contents[4].text\n",
    "                minor = row.contents[6].text                    \n",
    "                if not sciper in students:\n",
    "                    students[sciper] = {'gender':gender, 'spe':'', 'minor':''}\n",
    "                if not sem in students[sciper]:\n",
    "                    students[sciper][sem] = 0\n",
    "                if len(spe) > 0:\n",
    "                    students[sciper]['spe'] = spe\n",
    "                if len(minor) > 0:\n",
    "                    students[sciper]['minor'] = minor\n",
    "                students[sciper][sem] += 0.5"
   ]
  },
  {
   "cell_type": "code",
   "execution_count": 10,
   "metadata": {
    "collapsed": true
   },
   "outputs": [],
   "source": [
    "# Filtering only finished students\n",
    "students_finished = {}\n",
    "for sciper, v in students.items():\n",
    "    if any (sem in v for sem in ('Master semestre 1', 'Master semestre 2')):\n",
    "        if any (sem in v for sem in ('Master semestre 2', 'Master semestre 3')):\n",
    "            if (v['spe'] != '' and 'Master semestre 3' in v and v['Master semestre 3'] == 0):\n",
    "                print(sciper) # should print if no sem. 3 but spe. not empty\n",
    "            students_finished[sciper] = v"
   ]
  },
  {
   "cell_type": "code",
   "execution_count": 11,
   "metadata": {
    "collapsed": false
   },
   "outputs": [
    {
     "data": {
      "text/plain": [
       "2.3346456692913384"
      ]
     },
     "execution_count": 11,
     "metadata": {},
     "output_type": "execute_result"
    }
   ],
   "source": [
    "# Mean of students with specialization\n",
    "with_spe = {k: v for k,v in students_finished.items() if v['spe'] != ''}\n",
    "pf = pd.DataFrame(with_spe).drop(['gender', 'minor', 'spe'])\n",
    "ps = pf.loc[['Master semestre 1', 'Master semestre 2', 'Master semestre 3']].fillna(0)\n",
    "ps = ps.apply(sum)\n",
    "pm = pf.loc[['Projet Master automne', 'Projet Master printemps']].fillna(0)\n",
    "pm = pm.apply(sum).replace(0, 0.5)\n",
    "lengths = pd.concat([ps, pm], axis=1, join_axes=[ps.index]).apply(sum, axis=1)\n",
    "lengths.mean()"
   ]
  },
  {
   "cell_type": "code",
   "execution_count": 12,
   "metadata": {
    "collapsed": false
   },
   "outputs": [
    {
     "data": {
      "text/plain": [
       "1.997196261682243"
      ]
     },
     "execution_count": 12,
     "metadata": {},
     "output_type": "execute_result"
    }
   ],
   "source": [
    "# Mean without specialization\n",
    "no_spe = {k: v for k,v in students_finished.items() if v['spe'] == ''}\n",
    "pf = pd.DataFrame(no_spe).drop(['gender', 'minor', 'spe'])\n",
    "ps = pf.loc[['Master semestre 1', 'Master semestre 2', 'Master semestre 3']].fillna(0)\n",
    "ps = ps.apply(sum)\n",
    "pm = pf.loc[['Projet Master automne', 'Projet Master printemps']].fillna(0)\n",
    "pm = pm.apply(sum).replace(0, 0.5)\n",
    "lengths = pd.concat([ps, pm], axis=1, join_axes=[ps.index]).apply(sum, axis=1)\n",
    "lengths.mean()"
   ]
  },
  {
   "cell_type": "code",
   "execution_count": null,
   "metadata": {
    "collapsed": true
   },
   "outputs": [],
   "source": []
  }
 ],
 "metadata": {
  "kernelspec": {
   "display_name": "Python [Root]",
   "language": "python",
   "name": "Python [Root]"
  },
  "language_info": {
   "codemirror_mode": {
    "name": "ipython",
    "version": 3
   },
   "file_extension": ".py",
   "mimetype": "text/x-python",
   "name": "python",
   "nbconvert_exporter": "python",
   "pygments_lexer": "ipython3",
   "version": "3.5.2"
  }
 },
 "nbformat": 4,
 "nbformat_minor": 0
}
