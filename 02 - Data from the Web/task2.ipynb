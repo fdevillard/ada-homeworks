{
 "cells": [
  {
   "cell_type": "code",
   "execution_count": 1,
   "metadata": {
    "collapsed": true
   },
   "outputs": [],
   "source": [
    "%matplotlib inline\n",
    "import pandas as pd\n",
    "import numpy as np\n",
    "import matplotlib.pyplot as plt\n",
    "import seaborn as sns\n",
    "sns.set_context('notebook')\n",
    "# New imports for HW2:\n",
    "import requests\n",
    "from bs4 import BeautifulSoup"
   ]
  },
  {
   "cell_type": "markdown",
   "metadata": {},
   "source": [
    "See task1.ipynb for explanations regarding the next four cells."
   ]
  },
  {
   "cell_type": "code",
   "execution_count": 2,
   "metadata": {
    "collapsed": true
   },
   "outputs": [],
   "source": [
    "form_url = 'http://isa.epfl.ch/imoniteur_ISAP/!GEDPUBLICREPORTS.filter'\n",
    "base_url = 'http://isa.epfl.ch/imoniteur_ISAP/!GEDPUBLICREPORTS.html'\n",
    "params = {'ww_i_reportModel':'133685247', \n",
    "          'ww_i_reportModelXsl':'133685270', \n",
    "          'ww_x_GPS':'-1'}"
   ]
  },
  {
   "cell_type": "code",
   "execution_count": 3,
   "metadata": {
    "collapsed": true
   },
   "outputs": [],
   "source": [
    "page = requests.get(form_url, params)"
   ]
  },
  {
   "cell_type": "code",
   "execution_count": 4,
   "metadata": {
    "collapsed": true
   },
   "outputs": [],
   "source": [
    "soup = BeautifulSoup(page.content, 'lxml')\n",
    "keys = {}\n",
    "for s in soup.find_all('select'):\n",
    "    for o in s.find_all('option'):\n",
    "        if o.text != '': # No need for empty (default values)\n",
    "            keys.setdefault(s['name'], {}).update({o.text: o['value']})\n",
    "            \n",
    "# A helper method to change a parameter\n",
    "# name : the parameter\n",
    "# key : the key in plain text (eg. 'Bachelor semestre 1')\n",
    "def updateParam(name, key):\n",
    "    return params.update({name: keys[name][key]})"
   ]
  },
  {
   "cell_type": "code",
   "execution_count": 5,
   "metadata": {
    "collapsed": false
   },
   "outputs": [],
   "source": [
    "updateParam('ww_x_UNITE_ACAD', 'Informatique')\n"
   ]
  },
  {
   "cell_type": "markdown",
   "metadata": {},
   "source": [
    "Let's compute a list of semesters types and years that interest us."
   ]
  },
  {
   "cell_type": "code",
   "execution_count": 6,
   "metadata": {
    "collapsed": false
   },
   "outputs": [],
   "source": [
    "semestres = [s for s in keys['ww_x_PERIODE_PEDAGO'] if (s.find('Master') != -1)]\n",
    "years = keys['ww_x_PERIODE_ACAD']\n"
   ]
  },
  {
   "cell_type": "markdown",
   "metadata": {},
   "source": [
    "## Retrieveing the data\n",
    "\n",
    "For each possible combination of years and semester types, we retrieve the relevant table. Then, we parse the HTML table using [pandas.read_html](http://pandas.pydata.org/pandas-docs/stable/generated/pandas.read_html.html).\n",
    "\n",
    "Then, we add the semester and the year in a column and save the dataframe in the `dataframes` which we then concatenate to the data that we will work with."
   ]
  },
  {
   "cell_type": "code",
   "execution_count": 14,
   "metadata": {
    "collapsed": true
   },
   "outputs": [],
   "source": [
    "students = {}\n",
    "dataframes = []\n",
    "for year in years.keys():\n",
    "    for sem in semestres:\n",
    "        updateParam('ww_x_PERIODE_ACAD', year)\n",
    "        updateParam('ww_x_PERIODE_PEDAGO', sem)\n",
    "        r = requests.get(base_url, params)\n",
    "        try:\n",
    "            data = pd.read_html(r.content, header=1)#, index_col=10)\n",
    "            if not data:\n",
    "                continue\n",
    "            data = data[0]\n",
    "            data[\"sem\"] = sem\n",
    "            data[\"year\"] = year\n",
    "            dataframes.append(data)\n",
    "        except ValueError:\n",
    "            continue\n",
    "\n",
    "data = pd.concat(dataframes)"
   ]
  },
  {
   "cell_type": "markdown",
   "metadata": {},
   "source": [
    "## Cleaning \n",
    "We replace NaNs with empty strings on string columns, and clean the gender column."
   ]
  },
  {
   "cell_type": "code",
   "execution_count": 16,
   "metadata": {
    "collapsed": false
   },
   "outputs": [],
   "source": [
    "def gender(row):\n",
    "    if row[\"Civilité\"] == \"Monsieur\":\n",
    "        return \"M\" \n",
    "    elif row[\"Civilité\"] == \"Madame\":\n",
    "        return \"F\"\n",
    "    else:\n",
    "        return \"U\"\n",
    "\n",
    "data[\"gender\"] = data.apply(gender, axis=1)\n",
    "data[\"mineur\"] = data[\"Mineur\"].fillna(\"\")#.apply(mineur_exists, axis=1)\n",
    "data[\"spe\"] = data[\"Spécialisation\"].fillna(\"\")#apply(spe, axis=1)"
   ]
  },
  {
   "cell_type": "markdown",
   "metadata": {},
   "source": [
    "## Aggregation and filtering\n",
    "\n",
    "We then aggregate and unstack the data and filter on the following criterions:\n",
    "\n",
    "  * Remove all entries where the student has\n",
    "      * No specialization/minor AND no semester 1 & 2\n",
    "      * A specialization/minor AND no semester 1 & 3"
   ]
  },
  {
   "cell_type": "code",
   "execution_count": null,
   "metadata": {
    "collapsed": true
   },
   "outputs": [],
   "source": [
    "data = data[[\"No Sciper\", \"spe\", \"mineur\", \"sem\", \"gender\"]]\n",
    "data[\"sem_count\"] = 0.5 # used for aggregation\n",
    "\n",
    "aggregate = data.groupby([\"No Sciper\", \"sem\", \"gender\"]).agg({\"sem_count\":\"sum\", \"mineur\":\"last\", \"spe\": \"last\"})\n",
    "aggregate = aggregate.reset_index().set_index([\"No Sciper\", \"sem\", \"gender\", \"mineur\", \"spe\"])\n",
    "unstacked = aggregate.unstack(level=1)\n",
    "\n",
    "# Split the DF in two different DFs to perform aggregation and then concatenate\n",
    "# because aggregating on a multilevel column is not easy.\n",
    "\n",
    "semesters = unstacked.reset_index()[[\"No Sciper\", \"gender\", \"sem_count\"]].groupby([\"No Sciper\", \"gender\"]).sum()\n",
    "mineur_spe = unstacked.reset_index()[[\"No Sciper\", \"gender\", \"spe\", \"mineur\"]].replace(np.nan, \"\").groupby([\"No Sciper\", \"gender\"]).last()\n",
    "concatenated = pd.concat([mineur_spe, semesters], axis=1)\n",
    "\n",
    "# Drop ppl with minor because they will skew the averages\n",
    "#filtered = concatenated[(concatenated[\"mineur\"] == \"\")]\n",
    "filtered = filtered[(filtered[\"sem_count\"][\"Master semestre 1\"] > 0) | (concatenated[\"sem_count\"][\"Master semestre 2\"] > 0)]\n",
    "filtered = filtered[(filtered[\"sem_count\"][\"Master semestre 2\"] > 0) | (filtered[\"sem_count\"][\"Master semestre 3\"] > 0)]\n",
    "filtered = filtered[((filtered[\"spe\"] == \"\") & (filtered[\"mineur\"] == \"\"))|\\\n",
    "                     ((filtered[\"sem_count\"][\"Master semestre 1\"] > 0) & (filtered[\"sem_count\"][\"Master semestre 3\"] > 0))]"
   ]
  },
  {
   "cell_type": "markdown",
   "metadata": {},
   "source": [
    "## Correcting missing data\n",
    "Lots of entries have missing data regarding the master project. We assume that all students with enough master semesters likely did a master project, so we add an entry where data is missing."
   ]
  },
  {
   "cell_type": "code",
   "execution_count": 23,
   "metadata": {
    "collapsed": false
   },
   "outputs": [
    {
     "name": "stderr",
     "output_type": "stream",
     "text": [
      "//anaconda/lib/python3.5/site-packages/pandas/core/base.py:320: PerformanceWarning: dropping on a non-lexsorted multi-index without a level parameter may impact performance.\n",
      "  return self.obj.drop(self.exclusions, axis=1)\n"
     ]
    }
   ],
   "source": [
    "\n",
    "\n",
    "def fix_master_project(row):\n",
    "    if pd.isnull(row[\"sem_count\"][\"Projet Master automne\"]) and pd.isnull(row[\"sem_count\"][\"Projet Master printemps\"]):\n",
    "        return 0.5\n",
    "    return row[\"sem_count\"][\"Projet Master automne\"]\n",
    "\n",
    "filtered[(\"sem_count\", \"Projet Master automne\")] = filtered.apply(fix_master_project, axis=1)"
   ]
  },
  {
   "cell_type": "markdown",
   "metadata": {},
   "source": [
    "## General average time to finish master's degree"
   ]
  },
  {
   "cell_type": "code",
   "execution_count": 24,
   "metadata": {
    "collapsed": false
   },
   "outputs": [
    {
     "name": "stdout",
     "output_type": "stream",
     "text": [
      "Average Time to finish the master : 2.089519650655022 semesters\n"
     ]
    }
   ],
   "source": [
    "general_mean = filtered.stack().groupby(level=[0,1]).sum()[\"sem_count\"].mean()\n",
    "print(\"Average Time to finish the master's degree : {} semesters\".format(str(general_mean)))"
   ]
  },
  {
   "cell_type": "markdown",
   "metadata": {},
   "source": [
    "## Average time to finish master's degree per specialization"
   ]
  },
  {
   "cell_type": "code",
   "execution_count": 25,
   "metadata": {
    "collapsed": false
   },
   "outputs": [
    {
     "data": {
      "text/html": [
       "<div>\n",
       "<table border=\"1\" class=\"dataframe\">\n",
       "  <thead>\n",
       "    <tr style=\"text-align: right;\">\n",
       "      <th></th>\n",
       "      <th>sem_count</th>\n",
       "    </tr>\n",
       "    <tr>\n",
       "      <th>spe</th>\n",
       "      <th></th>\n",
       "    </tr>\n",
       "  </thead>\n",
       "  <tbody>\n",
       "    <tr>\n",
       "      <th></th>\n",
       "      <td>1.945887</td>\n",
       "    </tr>\n",
       "    <tr>\n",
       "      <th>Biocomputing</th>\n",
       "      <td>2.500000</td>\n",
       "    </tr>\n",
       "    <tr>\n",
       "      <th>Computer Engineering - SP</th>\n",
       "      <td>2.315789</td>\n",
       "    </tr>\n",
       "    <tr>\n",
       "      <th>Computer Science Theory</th>\n",
       "      <td>2.000000</td>\n",
       "    </tr>\n",
       "    <tr>\n",
       "      <th>Data Analytics</th>\n",
       "      <td>2.000000</td>\n",
       "    </tr>\n",
       "    <tr>\n",
       "      <th>Foundations of Software</th>\n",
       "      <td>2.447368</td>\n",
       "    </tr>\n",
       "    <tr>\n",
       "      <th>Information Security - SP</th>\n",
       "      <td>2.142857</td>\n",
       "    </tr>\n",
       "    <tr>\n",
       "      <th>Internet Information Systems</th>\n",
       "      <td>2.000000</td>\n",
       "    </tr>\n",
       "    <tr>\n",
       "      <th>Internet computing</th>\n",
       "      <td>2.375000</td>\n",
       "    </tr>\n",
       "    <tr>\n",
       "      <th>Service science</th>\n",
       "      <td>2.125000</td>\n",
       "    </tr>\n",
       "    <tr>\n",
       "      <th>Signals, Images and Interfaces</th>\n",
       "      <td>2.603448</td>\n",
       "    </tr>\n",
       "    <tr>\n",
       "      <th>Software Systems</th>\n",
       "      <td>2.156250</td>\n",
       "    </tr>\n",
       "  </tbody>\n",
       "</table>\n",
       "</div>"
      ],
      "text/plain": [
       "                                sem_count\n",
       "spe                                      \n",
       "                                 1.945887\n",
       "Biocomputing                     2.500000\n",
       "Computer Engineering - SP        2.315789\n",
       "Computer Science Theory          2.000000\n",
       "Data Analytics                   2.000000\n",
       "Foundations of Software          2.447368\n",
       "Information Security - SP        2.142857\n",
       "Internet Information Systems     2.000000\n",
       "Internet computing               2.375000\n",
       "Service science                  2.125000\n",
       "Signals, Images and Interfaces   2.603448\n",
       "Software Systems                 2.156250"
      ]
     },
     "execution_count": 25,
     "metadata": {},
     "output_type": "execute_result"
    }
   ],
   "source": [
    "stacked = filtered.stack()\n",
    "stacked = stacked.reset_index().drop([\"sem\", \"mineur\"], axis=1)#.groupby([\"No Sciper\",\"spe\"]).sum()\n",
    "stacked[\"sem_count\"] = stacked[\"sem_count\"].fillna(0)\n",
    "stacked[\"spe\"] = stacked[\"spe\"].fillna(\"\")\n",
    "semesters_per_student = stacked.groupby(\"No Sciper\").agg({\"sem_count\": \"sum\", \"spe\": \"first\"})\n",
    "grouped_by_spe = semesters_per_student.groupby(\"spe\")\n",
    "semesters_avg_per_spe = grouped_by_spe.mean()\n",
    "semesters_avg_per_spe"
   ]
  },
  {
   "cell_type": "markdown",
   "metadata": {},
   "source": [
    "## Statistical significance \n",
    "\n",
    "We use the Mann-Whitney U test again to compare each specialization average time against the general average, and list all specializations for which the p-value is less than 0.05. See task1.ipynb for more explanations about the Mann-Whitney U test."
   ]
  },
  {
   "cell_type": "code",
   "execution_count": 27,
   "metadata": {
    "collapsed": false
   },
   "outputs": [
    {
     "name": "stdout",
     "output_type": "stream",
     "text": [
      "# Specializations for which the time to finish the degree is statistically significant.\n"
     ]
    },
    {
     "data": {
      "text/html": [
       "<div>\n",
       "<table border=\"1\" class=\"dataframe\">\n",
       "  <thead>\n",
       "    <tr style=\"text-align: right;\">\n",
       "      <th></th>\n",
       "      <th>0</th>\n",
       "    </tr>\n",
       "  </thead>\n",
       "  <tbody>\n",
       "    <tr>\n",
       "      <th>0</th>\n",
       "      <td>Computer Engineering - SP</td>\n",
       "    </tr>\n",
       "    <tr>\n",
       "      <th>1</th>\n",
       "      <td>Foundations of Software</td>\n",
       "    </tr>\n",
       "    <tr>\n",
       "      <th>2</th>\n",
       "      <td>Internet computing</td>\n",
       "    </tr>\n",
       "    <tr>\n",
       "      <th>3</th>\n",
       "      <td>Signals, Images and Interfaces</td>\n",
       "    </tr>\n",
       "  </tbody>\n",
       "</table>\n",
       "</div>"
      ],
      "text/plain": [
       "                                0\n",
       "0       Computer Engineering - SP\n",
       "1         Foundations of Software\n",
       "2              Internet computing\n",
       "3  Signals, Images and Interfaces"
      ]
     },
     "execution_count": 27,
     "metadata": {},
     "output_type": "execute_result"
    }
   ],
   "source": [
    "from scipy import stats\n",
    "\n",
    "significant_spe = []\n",
    "for spe in semesters_avg_per_spe.index.unique():\n",
    "    if spe == \"\":\n",
    "        continue\n",
    "    T, p_value = stats.mannwhitneyu(\n",
    "        semesters_per_student[\"sem_count\"], \n",
    "        grouped_by_spe.get_group(spe)[\"sem_count\"]\n",
    "    )\n",
    "    if p_value < 0.05:\n",
    "        significant_spe.append(spe)\n",
    "pd.DataFrame(significant_spe)"
   ]
  },
  {
   "cell_type": "code",
   "execution_count": null,
   "metadata": {
    "collapsed": true
   },
   "outputs": [],
   "source": []
  }
 ],
 "metadata": {
  "anaconda-cloud": {},
  "kernelspec": {
   "display_name": "Python [Root]",
   "language": "python",
   "name": "Python [Root]"
  },
  "language_info": {
   "codemirror_mode": {
    "name": "ipython",
    "version": 3
   },
   "file_extension": ".py",
   "mimetype": "text/x-python",
   "name": "python",
   "nbconvert_exporter": "python",
   "pygments_lexer": "ipython3",
   "version": "3.5.2"
  }
 },
 "nbformat": 4,
 "nbformat_minor": 0
}
