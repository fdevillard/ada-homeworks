{
 "cells": [
  {
   "cell_type": "markdown",
   "metadata": {},
   "source": [
    "# HW3: Where is the Röstigraben?"
   ]
  },
  {
   "cell_type": "code",
   "execution_count": null,
   "metadata": {
    "collapsed": true
   },
   "outputs": [],
   "source": [
    "%matplotlib inline\n",
    "import pandas as pd\n",
    "import numpy as np\n",
    "import matplotlib.pyplot as plt\n",
    "import seaborn as sns\n",
    "import requests as rq"
   ]
  },
  {
   "cell_type": "markdown",
   "metadata": {},
   "source": [
    "## Data Wrangling"
   ]
  },
  {
   "cell_type": "code",
   "execution_count": null,
   "metadata": {
    "collapsed": false
   },
   "outputs": [],
   "source": [
    "df = pd.read_csv('data/P3_GrantExport.csv', delimiter=';', \n",
    "                 index_col=0, na_values=['Nicht zuteilbar - NA', 'data not included in P3'],\n",
    "                 parse_dates=[\"Start Date\", \"End Date\"])"
   ]
  },
  {
   "cell_type": "code",
   "execution_count": null,
   "metadata": {
    "collapsed": false
   },
   "outputs": [],
   "source": [
    "no_amount = df[['Approved Amount']].isnull().mean()[0]\n",
    "print('{:d}% of \\'Approved Amount\\' is NaN'.format(int(100*no_amount)))"
   ]
  },
  {
   "cell_type": "code",
   "execution_count": null,
   "metadata": {
    "collapsed": false
   },
   "outputs": [],
   "source": [
    "universities = df['University'].str.split(' - ', expand=True).rename(columns={0:'Name', 1:'Abbr'})\n",
    "universities.dropna(axis=0,inplace=True)\n",
    "universities.drop_duplicates(inplace=True)\n",
    "universities.size"
   ]
  },
  {
   "cell_type": "code",
   "execution_count": null,
   "metadata": {
    "collapsed": false
   },
   "outputs": [],
   "source": [
    "cantons = pd.read_csv('data/cantons_codes.csv', header=None, names=['Name'])\n",
    "cantons.head()"
   ]
  },
  {
   "cell_type": "code",
   "execution_count": null,
   "metadata": {
    "collapsed": false
   },
   "outputs": [],
   "source": [
    "# Making the canton\n",
    "universities['Canton'] = universities['Abbr'].apply(lambda x: x if x in cantons.values else None)\n",
    "universities['Canton'].isnull().sum()"
   ]
  },
  {
   "cell_type": "code",
   "execution_count": null,
   "metadata": {
    "collapsed": false
   },
   "outputs": [],
   "source": [
    "# Use Google to fill the missing values\n",
    "from keys import GOOGLE_KEY\n",
    "import json\n",
    "\n",
    "def search_canton(json):\n",
    "    if json['results'] and 'address_components' in json['results'][0]:\n",
    "            for cs in json['results'][0]['address_components']:\n",
    "                if 'short_name' in cs:\n",
    "                    name = cs['short_name']\n",
    "                    if name in cantons.values:\n",
    "                        return name\n",
    "    return None\n",
    "\n",
    "URL = 'https://maps.googleapis.com/maps/api/geocode/json'\n",
    "for idx in universities.index:\n",
    "    if not universities.loc[idx]['Canton']:\n",
    "        name = universities.loc[idx]['Name']\n",
    "        r = rq.get(URL, params={'key':GOOGLE_KEY,'address':name,'region':'CH'})\n",
    "        j = json.loads(r.text)\n",
    "        key = search_canton(j)\n",
    "        universities.loc[idx]['Canton'] = key\n",
    "\n",
    "universities['Canton'].isnull().sum()"
   ]
  },
  {
   "cell_type": "code",
   "execution_count": null,
   "metadata": {
    "collapsed": false
   },
   "outputs": [],
   "source": [
    "universities[universities['Canton'].isnull()]"
   ]
  },
  {
   "cell_type": "code",
   "execution_count": null,
   "metadata": {
    "collapsed": false
   },
   "outputs": [],
   "source": [
    "\n",
    "r = rq.get(URL2, params={'key':GOOGLE_KEY,'address':'IHEID','region':'CH'})\n",
    "j = json.loads(r.text)\n",
    "j\n"
   ]
  },
  {
   "cell_type": "code",
   "execution_count": null,
   "metadata": {
    "collapsed": true
   },
   "outputs": [],
   "source": []
  }
 ],
 "metadata": {
  "kernelspec": {
   "display_name": "Python [Root]",
   "language": "python",
   "name": "Python [Root]"
  },
  "language_info": {
   "codemirror_mode": {
    "name": "ipython",
    "version": 3
   },
   "file_extension": ".py",
   "mimetype": "text/x-python",
   "name": "python",
   "nbconvert_exporter": "python",
   "pygments_lexer": "ipython3",
   "version": "3.5.2"
  }
 },
 "nbformat": 4,
 "nbformat_minor": 0
}
