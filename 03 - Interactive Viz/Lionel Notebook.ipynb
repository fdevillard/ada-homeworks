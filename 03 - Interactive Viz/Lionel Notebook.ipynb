{
 "cells": [
  {
   "cell_type": "markdown",
   "metadata": {},
   "source": [
    "# HW3: Where is the Röstigraben?"
   ]
  },
  {
   "cell_type": "code",
   "execution_count": 1,
   "metadata": {
    "collapsed": true
   },
   "outputs": [],
   "source": [
    "%matplotlib inline\n",
    "import pandas as pd\n",
    "import numpy as np\n",
    "import matplotlib.pyplot as plt\n",
    "import seaborn as sns\n",
    "import requests as rq"
   ]
  },
  {
   "cell_type": "markdown",
   "metadata": {},
   "source": [
    "## Data loading and preparation"
   ]
  },
  {
   "cell_type": "code",
   "execution_count": 2,
   "metadata": {
    "collapsed": false
   },
   "outputs": [],
   "source": [
    "# Defining NaN values:\n",
    "na = ['Nicht zuteilbar - NA',       # Not classifiable\n",
    "      'data not included in P3']    # Missing value\n",
    "# Getting the data:\n",
    "df = pd.read_csv('data/P3_GrantExport.csv', delimiter=';', na_values=na, usecols=[0,7,13], index_col=0)\n",
    "# Universities not classable or not within Switzerland:\n",
    "no_chance = ['NPO (Biblioth., Museen, Verwalt.) - NPO',\n",
    "             'Firmen/Privatwirtschaft - FP',\n",
    "             'Weitere Institute - FINST',\n",
    "             'Weitere Spitäler - ASPIT',\n",
    "             'Istituto Svizzero di Roma - ISR']\n",
    "df = df.replace(no_chance, np.NAN)\n",
    "df = df[df['Approved Amount'].notnull() & df['University'].notnull()] # Retain only relevant info\n",
    "# The 26 swiss cantons:\n",
    "cantons = pd.read_csv('data/cantons_codes.csv', header=None, names=['Name'])"
   ]
  },
  {
   "cell_type": "code",
   "execution_count": 3,
   "metadata": {
    "collapsed": false
   },
   "outputs": [],
   "source": [
    "unis = df['University'].drop_duplicates().dropna()"
   ]
  },
  {
   "cell_type": "code",
   "execution_count": 5,
   "metadata": {
    "collapsed": false
   },
   "outputs": [],
   "source": [
    "# Using Google to retrieve missing canton and all locations:\n",
    "# pip install python-google-places\n",
    "from googleplaces import GooglePlaces, types, lang\n",
    "from keys import GOOGLE_KEY\n",
    "google_places = GooglePlaces(GOOGLE_KEY)\n",
    "\n",
    "def search_google(place):\n",
    "    place.get_details()\n",
    "    location = place.geo_location\n",
    "    for address in place.details['address_components']:\n",
    "        canton = address['short_name']\n",
    "        if canton in cantons.values:\n",
    "            return canton, location\n",
    "    return None, location\n",
    "\n",
    "locations = {}\n",
    "try:\n",
    "    locations = pd.read_json('data/unis.json').to_dict()\n",
    "except:\n",
    "    for name in unis.values:\n",
    "        if name in locations.keys():\n",
    "            continue\n",
    "        r = google_places.text_search(query=name.split(' - ')[0]+' Schweiz')\n",
    "        if r and r.places:\n",
    "            canton, location = search_google(r.places[0]) # 1st result from query\n",
    "            locations.update({name:{'canton':canton,'location':location}})\n",
    "    manual = { \n",
    "    #'Eidg. Material und Prüfungsanstalt':{'canton':'ZH','location':{'lat':47.429403 ,'lng':8.614036}},\n",
    "    'Physikal.-Meteorolog. Observatorium Davos - PMOD':{'canton':'GR', 'location':{'lat':46.814241, 'lng':9.844508}},\n",
    "    'Forschungsinstitut für Opthalmologie - IRO':{'canton':'VS', 'location':{'lat':46.233131,  'lng':7.383104}},\n",
    "    'Swiss Institute of Bioinformatics - SIB':{'canton':'VD', 'location':{'lat':46.519433, 'lng':6.574533}},\n",
    "    'Pädag. Hochschule Tessin (Teilschule SUPSI) - ASP':{'canton':'TI', 'location':{'lat':46.023528, 'lng':8.917150}},\n",
    "    'Staatsunabh. Theologische Hochschule Basel - STHB':{'canton':'BL', 'location':{'lat':47.577821, 'lng':7.650187}},\n",
    "    'Forschungskommission SAGW':{'canton':'LU', 'location': {'lat':47.050179, 'lng':8.312586}}, \n",
    "    }\n",
    "    pd.DataFrame(dict(locations,**manual)).to_json('data/unis.json')"
   ]
  },
  {
   "cell_type": "code",
   "execution_count": null,
   "metadata": {
    "collapsed": false
   },
   "outputs": [],
   "source": [
    "df['Canton'] = np.NAN\n",
    "for i, row in df.iterrows():\n",
    "    canton = locations[row['University']]\n",
    "    df.iloc[i]['Canton'] = canton"
   ]
  },
  {
   "cell_type": "code",
   "execution_count": 7,
   "metadata": {
    "collapsed": false
   },
   "outputs": [
    {
     "data": {
      "text/plain": [
       "71"
      ]
     },
     "execution_count": 7,
     "metadata": {},
     "output_type": "execute_result"
    }
   ],
   "source": [
    "len(locations)"
   ]
  },
  {
   "cell_type": "code",
   "execution_count": null,
   "metadata": {
    "collapsed": false
   },
   "outputs": [],
   "source": [
    "# Look at universities on a map\n",
    "import folium\n",
    "map1 = folium.Map(location=[46.798333, 8.231944],zoom_start=8)\n",
    "\n",
    "for uni,v in locations.items():\n",
    "    l = v['location']\n",
    "    p = uni\n",
    "    folium.Marker([l['lat'],l['lng']],popup=p).add_to(map1)\n",
    "\n",
    "map1.save('swiss_universities.html')"
   ]
  },
  {
   "cell_type": "code",
   "execution_count": null,
   "metadata": {
    "collapsed": false
   },
   "outputs": [],
   "source": [
    "map1"
   ]
  },
  {
   "cell_type": "code",
   "execution_count": null,
   "metadata": {
    "collapsed": true
   },
   "outputs": [],
   "source": []
  }
 ],
 "metadata": {
  "anaconda-cloud": {},
  "kernelspec": {
   "display_name": "Python [Root]",
   "language": "python",
   "name": "Python [Root]"
  },
  "language_info": {
   "codemirror_mode": {
    "name": "ipython",
    "version": 3
   },
   "file_extension": ".py",
   "mimetype": "text/x-python",
   "name": "python",
   "nbconvert_exporter": "python",
   "pygments_lexer": "ipython3",
   "version": "3.5.2"
  }
 },
 "nbformat": 4,
 "nbformat_minor": 0
}
