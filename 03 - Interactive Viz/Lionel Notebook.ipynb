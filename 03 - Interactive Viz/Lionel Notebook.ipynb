{
 "cells": [
  {
   "cell_type": "markdown",
   "metadata": {},
   "source": [
    "# HW3: Where is the Röstigraben?"
   ]
  },
  {
   "cell_type": "code",
   "execution_count": null,
   "metadata": {
    "collapsed": true
   },
   "outputs": [],
   "source": [
    "%matplotlib inline\n",
    "import pandas as pd\n",
    "import numpy as np\n",
    "import matplotlib.pyplot as plt\n",
    "import seaborn as sns\n",
    "import requests as rq"
   ]
  },
  {
   "cell_type": "markdown",
   "metadata": {},
   "source": [
    "## Data Wrangling"
   ]
  },
  {
   "cell_type": "code",
   "execution_count": null,
   "metadata": {
    "collapsed": false
   },
   "outputs": [],
   "source": [
    "# Defining NaN values:\n",
    "na = ['NPO (Biblioth., Museen, Verwalt.)',# \"Not precise enough\"\n",
    "       'Weitere Institute',                # Other institutes \n",
    "       'Firmen/Privatwirtschaft',          # \"Not precise enough\"\n",
    "       'Nicht zuteilbar - NA',             # Not classifiable\n",
    "       'data not included in P3']          # Missing value\n",
    "\n",
    "df = pd.read_csv('data/P3_GrantExport.csv', delimiter=';', index_col=0, na_values=na,\n",
    "                 parse_dates=[\"Start Date\", \"End Date\"])\n",
    "cantons = pd.read_csv('data/cantons_codes.csv', header=None, names=['Name'])"
   ]
  },
  {
   "cell_type": "code",
   "execution_count": null,
   "metadata": {
    "collapsed": false
   },
   "outputs": [],
   "source": [
    "no_amount = df[['Approved Amount']].isnull().mean()[0]\n",
    "print('{:d}% of \\'Approved Amount\\' is NaN.'.format(int(100*no_amount)))"
   ]
  },
  {
   "cell_type": "code",
   "execution_count": null,
   "metadata": {
    "collapsed": false
   },
   "outputs": [],
   "source": [
    "# Splitting university name and abbreviation:\n",
    "universities = df['University'].str.split(' - ', expand=True).rename(columns={0:'Name', 1:'Abbr'})\n",
    "universities.dropna(axis=0,inplace=True)\n",
    "universities.drop_duplicates(inplace=True)\n",
    "universities = universities.set_index('Name')\n",
    "print('There are {} different universities.'.format(universities.count()[0]))\n",
    "\n",
    "# Filling the canton from abbreviations and add a location column:\n",
    "universities['Canton'] = universities['Abbr'].apply(lambda x: x if x in cantons.values else None)\n",
    "missing = universities['Canton'].isnull().sum()\n",
    "print('We are still missing {} universities.'.format(missing))"
   ]
  },
  {
   "cell_type": "code",
   "execution_count": null,
   "metadata": {
    "collapsed": false
   },
   "outputs": [],
   "source": [
    "universities.head()"
   ]
  },
  {
   "cell_type": "code",
   "execution_count": null,
   "metadata": {
    "collapsed": false
   },
   "outputs": [],
   "source": [
    "# Using Google to retrieve missing canton and all locations:\n",
    "# pip install python-google-places\n",
    "from googleplaces import GooglePlaces, types, lang\n",
    "from keys import GOOGLE_KEY\n",
    "google_places = GooglePlaces(GOOGLE_KEY)\n",
    "\n",
    "def search_google(place):\n",
    "    place.get_details()\n",
    "    location = place.geo_location\n",
    "    for address in place.details['address_components']:\n",
    "        canton = address['short_name']\n",
    "        if canton in cantons.values:\n",
    "            return canton, location\n",
    "    return None, location\n",
    "\n",
    "locations = {}\n",
    "try:\n",
    "    locations = pd.read_json('data/unis.json').to_dict()\n",
    "except:\n",
    "    for name in universities.index:\n",
    "        r = google_places.text_search(query=name+' Schweiz')\n",
    "        if r and r.places:\n",
    "            canton, location = search_google(r.places[0]) # 1st result from query\n",
    "            if not universities.at[name, 'Canton']:\n",
    "                iversities.at[name, 'Canton'] = canton\n",
    "            locations.update({name:{'Canton':canton,'Location':location}})\n",
    "    \n",
    "    manual = { \n",
    "    'Eidg. Material und Prüfungsanstalt':{'Canton':'ZH','Location':{'lat':47.429403 ,'lng':8.614036}},\n",
    "    'Physikal.-Meteorolog. Observatorium Davos':{'Canton':'GR', 'Location':{'lat':46.814241, 'lng':9.844508}},\n",
    "    'Forschungsinstitut für Opthalmologie':{'Canton':'VS', 'Location':{'lat':46.233131,  'lng':7.383104}},\n",
    "    'Swiss Institute of Bioinformatics':{'Canton':'VD', 'Location':{'lat':46.519433, 'lng':6.574533}},\n",
    "    'Pädag. Hochschule Tessin (Teilschule SUPSI)':{'Canton':'TI', 'Location':{'lat':46.023528, 'lng':8.917150}},\n",
    "    'Staatsunabh. Theologische Hochschule Basel':{'Canton':'BL', 'Location':{'lat':47.577821, 'lng':7.650187}} \n",
    "    }\n",
    "    unis = pd.DataFrame(dict(locations, **manual))\n",
    "    unis.to_json('data/unis.json')\n",
    "    locations = unis.to_dict()\n",
    "print('Loaded {} universities.'.format(len(locations)))"
   ]
  },
  {
   "cell_type": "code",
   "execution_count": null,
   "metadata": {
    "collapsed": false
   },
   "outputs": [],
   "source": [
    "# Look at universities on a map\n",
    "import folium\n",
    "map1 = folium.Map(location=[46.798333, 8.231944],zoom_start=8)\n",
    "\n",
    "for uni,v in locations.items():\n",
    "    l = v['Location']\n",
    "    c = v['Canton'] if v['Canton'] else ''\n",
    "    p = uni+' - '+c\n",
    "    folium.Marker([l['lat'],l['lng']],popup=p).add_to(map1)\n",
    "\n",
    "map1.save('swiss_universities.html')"
   ]
  },
  {
   "cell_type": "code",
   "execution_count": null,
   "metadata": {
    "collapsed": false
   },
   "outputs": [],
   "source": [
    "map1"
   ]
  },
  {
   "cell_type": "code",
   "execution_count": null,
   "metadata": {
    "collapsed": true
   },
   "outputs": [],
   "source": []
  }
 ],
 "metadata": {
  "kernelspec": {
   "display_name": "Python [Root]",
   "language": "python",
   "name": "Python [Root]"
  },
  "language_info": {
   "codemirror_mode": {
    "name": "ipython",
    "version": 3
   },
   "file_extension": ".py",
   "mimetype": "text/x-python",
   "name": "python",
   "nbconvert_exporter": "python",
   "pygments_lexer": "ipython3",
   "version": "3.5.2"
  }
 },
 "nbformat": 4,
 "nbformat_minor": 0
}
