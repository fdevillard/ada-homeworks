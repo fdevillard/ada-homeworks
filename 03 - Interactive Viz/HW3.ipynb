{
 "cells": [
  {
   "cell_type": "markdown",
   "metadata": {},
   "source": [
    "# HW3: Where is the Röstigraben?"
   ]
  },
  {
   "cell_type": "code",
   "execution_count": null,
   "metadata": {
    "collapsed": true
   },
   "outputs": [],
   "source": [
    "%matplotlib inline\n",
    "import pandas as pd\n",
    "import numpy as np\n",
    "import matplotlib.pyplot as plt\n",
    "import folium"
   ]
  },
  {
   "cell_type": "markdown",
   "metadata": {},
   "source": [
    "## Data loading and preparation\n",
    "\n",
    "A first glance at the data give us usefull information:\n",
    "* `'Nicht zuteilbar - NA'` => values not classifiable\n",
    "* `'data not included in P3'` => missing values\n",
    "\n",
    "Then we can import the data and only keep the relevant columns which are:\n",
    "* `'University'`\n",
    "* `'Approved Amount'`\n",
    "\n",
    "By doing some data wrangling, we observed that out of 76 possible values for `'University'`, a few of them are useless because they cannot help in classifying in Cantons. And that one of the university is located in Italy. So we choose to remove all these rows.  \n",
    "We also prepared an extraction of the 26 cantons in a file that we can easily load to proceed further."
   ]
  },
  {
   "cell_type": "code",
   "execution_count": null,
   "metadata": {
    "collapsed": false
   },
   "outputs": [],
   "source": [
    "na = ['Nicht zuteilbar - NA',       # Not classifiable\n",
    "      'data not included in P3']    # Missing value\n",
    "df = pd.read_csv('data/P3_GrantExport.csv', delimiter=';', na_values=na, usecols=[7,13])\n",
    "# Universities not classable or not within Switzerland:\n",
    "no_chance = ['NPO (Biblioth., Museen, Verwalt.) - NPO',\n",
    "             'Firmen/Privatwirtschaft - FP',\n",
    "             'Weitere Institute - FINST',\n",
    "             'Weitere Spitäler - ASPIT',\n",
    "             'Istituto Svizzero di Roma - ISR']\n",
    "df = df.replace(no_chance, np.NAN)\n",
    "df = df[df['Approved Amount'].notnull() & df['University'].notnull()] # Retain only relevant info\n",
    "# The 26 swiss cantons:\n",
    "cantons = pd.read_csv('data/cantons_codes.csv', header=None, names=['Name'])\n",
    "unis = df['University'].drop_duplicates().dropna()"
   ]
  },
  {
   "cell_type": "markdown",
   "metadata": {
    "collapsed": false
   },
   "source": [
    "Now that we obtained all the relevant information, we can search for the addresses (geolocations) using the Google Places API. The idea is to parse all the different universities and store every finding in a dict then save it to the disk. At the end we had to manually add 6 entries which were not solved by the API."
   ]
  },
  {
   "cell_type": "code",
   "execution_count": null,
   "metadata": {
    "collapsed": false
   },
   "outputs": [],
   "source": [
    "# Using Google to retrieve missing canton and all locations:\n",
    "# pip install python-google-places\n",
    "from googleplaces import GooglePlaces, types, lang\n",
    "from keys import GOOGLE_KEY\n",
    "google_places = GooglePlaces(GOOGLE_KEY)\n",
    "\n",
    "def search_google(place):\n",
    "    place.get_details()\n",
    "    location = place.geo_location\n",
    "    for address in place.details['address_components']:\n",
    "        canton = address['short_name']\n",
    "        if canton in cantons.values:\n",
    "            return canton, location\n",
    "    return None, location\n",
    "\n",
    "locations = {}\n",
    "try:\n",
    "    locations = pd.read_json('data/unis.json').to_dict()\n",
    "except:\n",
    "    for name in unis.values:\n",
    "        if name in locations.keys():\n",
    "            continue\n",
    "        r = google_places.text_search(query=name.split(' - ')[0]+' Schweiz')\n",
    "        if r and r.places:\n",
    "            canton, location = search_google(r.places[0]) # 1st result from query\n",
    "            locations.update({name:{'canton':canton,'location':location}})\n",
    "    manual = { \n",
    "    'Physikal.-Meteorolog. Observatorium Davos - PMOD':{'canton':'GR', 'location':{'lat':46.814241, 'lng':9.844508}},\n",
    "    'Forschungsinstitut für Opthalmologie - IRO':{'canton':'VS', 'location':{'lat':46.233131,  'lng':7.383104}},\n",
    "    'Swiss Institute of Bioinformatics - SIB':{'canton':'VD', 'location':{'lat':46.519433, 'lng':6.574533}},\n",
    "    'Pädag. Hochschule Tessin (Teilschule SUPSI) - ASP':{'canton':'TI', 'location':{'lat':46.023528, 'lng':8.917150}},\n",
    "    'Staatsunabh. Theologische Hochschule Basel - STHB':{'canton':'BL', 'location':{'lat':47.577821, 'lng':7.650187}},\n",
    "    'Forschungskommission SAGW':{'canton':'LU', 'location': {'lat':47.050179, 'lng':8.312586}}, \n",
    "    }\n",
    "    pd.DataFrame(dict(locations,**manual)).to_json('data/unis.json')\n",
    "print('{}/{} locations loaded... :)'.format(len(locations),len(unis)))"
   ]
  },
  {
   "cell_type": "markdown",
   "metadata": {},
   "source": [
    "Now we can join the cantons to the universities and update the dataframe."
   ]
  },
  {
   "cell_type": "code",
   "execution_count": null,
   "metadata": {
    "collapsed": false
   },
   "outputs": [],
   "source": [
    "uni_canton = pd.DataFrame([locations[uni]['canton'] for uni in df['University']], \n",
    "                          index=df.index, columns=['Canton'])\n",
    "df = pd.concat([df, uni_canton], axis=1, join_axes=[df.index])"
   ]
  },
  {
   "cell_type": "markdown",
   "metadata": {},
   "source": [
    "Let put everything together:\n",
    "* add missing canton values to 0\n",
    "* group by the cantons\n",
    "* sum up the amounts.\n",
    "\n",
    "Then display the 5 first entries sorted in descending order."
   ]
  },
  {
   "cell_type": "code",
   "execution_count": null,
   "metadata": {
    "collapsed": false
   },
   "outputs": [],
   "source": [
    "per_canton = df[['Canton', 'Approved Amount']].groupby('Canton').agg(sum)/1e6\n",
    "for canton in cantons['Name']:\n",
    "    if not canton in per_canton.index:\n",
    "        per_canton.loc[canton] = 0\n",
    "print(per_canton.sort_values(by='Approved Amount', ascending=False).head())"
   ]
  },
  {
   "cell_type": "markdown",
   "metadata": {},
   "source": [
    "## Vizualization\n"
   ]
  },
  {
   "cell_type": "code",
   "execution_count": null,
   "metadata": {
    "collapsed": false
   },
   "outputs": [],
   "source": [
    "geo_path = 'data/ch-cantons.topojson.json'\n",
    "data = per_canton.reset_index()\n",
    "map = folium.Map(location=[46.88, 8.23],zoom_start=8)\n",
    "map.choropleth(geo_path=geo_path, data_out='data1.json', data=data,\n",
    "               columns=['Canton', 'Approved Amount'],\n",
    "               threshold_scale=[0, 30, 120, 300, 1000, 2000],\n",
    "               key_on='feature.id',\n",
    "               fill_color='PuRd', fill_opacity=0.7, line_opacity=0.3,\n",
    "               legend_name='Total amount of SNF grants (MCHF)',\n",
    "               topojson='objects.cantons')\n",
    "map.save('map.html')\n",
    "map"
   ]
  },
  {
   "cell_type": "markdown",
   "metadata": {},
   "source": [
    "#### DEBUG the universities' locations"
   ]
  },
  {
   "cell_type": "code",
   "execution_count": null,
   "metadata": {
    "collapsed": false
   },
   "outputs": [],
   "source": [
    "debug = folium.Map(location=[46.798333, 8.231944],zoom_start=8)\n",
    "for uni,v in locations.items():\n",
    "    l = v['location']\n",
    "    p = uni\n",
    "    folium.Marker([l['lat'],l['lng']],popup=p).add_to(debug)\n",
    "debug"
   ]
  },
  {
   "cell_type": "code",
   "execution_count": null,
   "metadata": {
    "collapsed": true
   },
   "outputs": [],
   "source": []
  }
 ],
 "metadata": {
  "anaconda-cloud": {},
  "kernelspec": {
   "display_name": "Python [Root]",
   "language": "python",
   "name": "Python [Root]"
  },
  "language_info": {
   "codemirror_mode": {
    "name": "ipython",
    "version": 3
   },
   "file_extension": ".py",
   "mimetype": "text/x-python",
   "name": "python",
   "nbconvert_exporter": "python",
   "pygments_lexer": "ipython3",
   "version": "3.5.2"
  }
 },
 "nbformat": 4,
 "nbformat_minor": 0
}
