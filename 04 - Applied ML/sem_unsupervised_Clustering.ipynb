{
 "cells": [
  {
   "cell_type": "markdown",
   "metadata": {},
   "source": [
    "## Part 2: Unsupervised clustering"
   ]
  },
  {
   "cell_type": "code",
   "execution_count": 34,
   "metadata": {
    "collapsed": true
   },
   "outputs": [],
   "source": [
    "import os\n",
    "import pandas as pd\n",
    "import numpy as np\n",
    "import sklearn\n",
    "\n",
    "%matplotlib inline\n",
    "import matplotlib.pyplot as plt                         # Matplotlib's pyplot: MATLAB-like syntax\n",
    "import seaborn as sns                                   # For pretty plots\n",
    "\n",
    "import warnings\n",
    "warnings.filterwarnings('ignore')"
   ]
  },
  {
   "cell_type": "markdown",
   "metadata": {},
   "source": [
    "This part is exactly the same as in part 1, see its notebook for more info."
   ]
  },
  {
   "cell_type": "code",
   "execution_count": 35,
   "metadata": {
    "collapsed": false,
    "scrolled": true
   },
   "outputs": [],
   "source": [
    "df = pd.read_csv(os.path.join('data', 'CrowdstormingDataJuly1st.csv'))\n",
    "dfd = pd.read_csv(os.path.join('data', 'crowdstorm_disaggregated.csv'))\n",
    "df_cols = set(df.columns)\n",
    "dfd_cols = set(dfd.columns)\n",
    "df['skintone'] = 0.5 * (df['rater1']+df['rater2'])\n",
    "df_skinton = df[[\"playerShort\", \"skintone\"]].reset_index().groupby('playerShort', axis=0).mean()\n",
    "mean_skin = set(df_skinton['skintone'].dropna().unique().tolist())\n",
    "unique_skin = set(df['skintone'].dropna().unique().tolist())\n",
    "LABEL_FIELDS = ['club', 'leagueCountry', 'position', 'Alpha_3']\n",
    "UNKNOWN_LABEL = 'MISSING'\n",
    "label_encoders = {}\n",
    "\n",
    "from sklearn.preprocessing import LabelEncoder\n",
    "\n",
    "df_categorized = df.copy()\n",
    "\n",
    "for label in LABEL_FIELDS:\n",
    "    encoder = LabelEncoder()\n",
    "    values = df_categorized[label].fillna(UNKNOWN_LABEL, inplace=False)\n",
    "    encoder.fit(values)\n",
    "    transformed = encoder.transform(values)\n",
    "    df_categorized[label] = transformed\n",
    "    \n",
    "    label_encoders[label] = encoder\n",
    "    \n",
    "# Special case for the skintone where we need to keep NaN values\n",
    "encoder = LabelEncoder()\n",
    "skintone = df_categorized['skintone']\n",
    "skintone = skintone[skintone.notnull()]\n",
    "encoder.fit(skintone)\n",
    "df_categorized.loc[skintone.index, 'skintone'] = encoder.transform(skintone)\n",
    "label_encoders['skintone'] = encoder\n",
    "\n",
    "\n",
    "df_subset = df_categorized[['playerShort', 'club', 'leagueCountry', 'position','games', 'yellowCards', 'redCards', 'meanIAT', 'skintone', 'birthday', 'height',\n",
    "       'weight', 'victories', 'ties', 'defeats', 'goals']].copy()\n",
    "\n",
    "for f in ['meanIAT', 'yellowCards', 'redCards']:\n",
    "    df_subset[f].fillna(0, inplace=True)\n",
    "df_subset[\"skintone\"] = df[\"skintone\"]\n",
    "df_subset[\"cost\"] = df_subset['meanIAT']*(df_subset['yellowCards'] + 3*df_subset['redCards'])*df_subset[\"games\"]"
   ]
  },
  {
   "cell_type": "markdown",
   "metadata": {},
   "source": [
    "# Unsupervised clustering\n",
    "\n",
    "We keep the dataframe `df_subset` because we want to keep the `cost` column from part 1 as a likely useful aggregate of racial bias that a player received.\n",
    "\n"
   ]
  },
  {
   "cell_type": "code",
   "execution_count": 36,
   "metadata": {
    "collapsed": false
   },
   "outputs": [],
   "source": [
    "df_aggregated = df_subset.drop([\"meanIAT\", \"club\", \"leagueCountry\"], 1).set_index([\"playerShort\"]).groupby(level=0).agg(\n",
    "    {\n",
    "        \"skintone\": \"mean\",\n",
    "        \"height\": \"mean\",\n",
    "        \"weight\": \"mean\",\n",
    "        \"position\": \"first\",\n",
    "        \"games\": \"sum\",\n",
    "        \"yellowCards\": \"sum\",\n",
    "        \"redCards\": \"sum\",\n",
    "        \"cost\": \"sum\",\n",
    "        \"victories\": \"max\",\n",
    "        \"ties\": \"max\",\n",
    "        \"defeats\": \"max\",\n",
    "        \"goals\": \"max\",\n",
    "     }\n",
    ").reset_index().drop([\"playerShort\"], 1).dropna()\n",
    "df_aggregated[\"yellowCards\"] = df_aggregated[\"yellowCards\"] / df_aggregated[\"games\"]\n",
    "df_aggregated[\"redCards\"] = df_aggregated[\"redCards\"] / df_aggregated[\"games\"]\n",
    "df_aggregated[\"cost\"] = df_aggregated[\"cost\"] / df_aggregated[\"games\"]\n",
    "\n",
    "orig_x = df_aggregated.drop([\"games\", \"skintone\"], axis=1)\n",
    "\n",
    "x = orig_x.copy()\n",
    "data = sklearn.preprocessing.scale(x.as_matrix())\n",
    "features = list(x.columns)\n",
    "\n",
    "from sklearn.cluster import KMeans\n",
    "from sklearn.metrics import silhouette_score\n",
    "\n",
    "kmeans = KMeans(n_clusters=2, random_state=0).fit(data)"
   ]
  },
  {
   "cell_type": "markdown",
   "metadata": {},
   "source": [
    "We arbitrarily split the skintone feature in two parts, the ones strictly below 0.5 and the ones equal or above 0.5."
   ]
  },
  {
   "cell_type": "code",
   "execution_count": 37,
   "metadata": {
    "collapsed": false
   },
   "outputs": [
    {
     "name": "stdout",
     "output_type": "stream",
     "text": [
      "Original silhouette score: 0.2041511586863509 \t accuracy: 0.5460358056265985\n",
      "['defeats', 'ties', 'position', 'height', 'victories', 'goals', 'weight', 'redCards', 'cost', 'yellowCards']\n",
      "Dropping cost gives Silhouette score 0.1961789358486745 \t accuracy: 0.5607416879795397\n",
      "Dropping position gives Silhouette score 0.22167562819333234 \t accuracy: 0.5652173913043479\n",
      "Dropping defeats gives Silhouette score 0.20314673724726415 \t accuracy: 0.571611253196931\n",
      "Dropping height gives Silhouette score 0.2344718699049821 \t accuracy: 0.579923273657289\n",
      "Dropping ties gives Silhouette score 0.23748648860185428 \t accuracy: 0.6368286445012787\n"
     ]
    }
   ],
   "source": [
    "def accuracy(skintone, labels):\n",
    "    skintone = skintone < 0.5\n",
    "    score = ((skintone - labels).apply(np.abs)).mean()\n",
    "    if score < 0.5:\n",
    "        return 1 - score\n",
    "    return score\n",
    "\n",
    "cur_score = silhouette_score(data, kmeans.labels_)\n",
    "cur_acc = accuracy(df_aggregated[\"skintone\"], kmeans.labels_)\n",
    "\n",
    "print(\"Original silhouette score: {} \\t accuracy: {}\".format(cur_score, cur_acc))\n",
    "\n",
    "print(features)\n",
    "for i in range(0, len(features)-1):\n",
    "    score_changed = False\n",
    "    for f in features:\n",
    "        data = sklearn.preprocessing.scale(x.drop(f, 1).as_matrix())\n",
    "        kmeans = KMeans(n_clusters=2, random_state=0).fit(data)\n",
    "        score = silhouette_score(data, kmeans.labels_)\n",
    "        acc = accuracy(df_aggregated[\"skintone\"], kmeans.labels_)\n",
    "        if acc > cur_acc:\n",
    "            print(\"Dropping {} gives Silhouette score {} \\t accuracy: {}\".format(f, score, acc))\n",
    "            #print(pd.concat([df_aggregated.reset_index()[\"skintone\"], pd.Series(kmeans.labels_)], axis=1))\n",
    "            del(features[features.index(f)])\n",
    "            cur_score = score\n",
    "            cur_acc = acc\n",
    "            x = x.drop(f, 1)\n",
    "            break\n"
   ]
  },
  {
   "cell_type": "markdown",
   "metadata": {
    "collapsed": true
   },
   "source": [
    "We see that whatever feature we drop we don't get anything better than 63% accuracy which is basically 13% better than a random classifier. Let's try another classifier."
   ]
  },
  {
   "cell_type": "code",
   "execution_count": 38,
   "metadata": {
    "collapsed": false
   },
   "outputs": [
    {
     "name": "stdout",
     "output_type": "stream",
     "text": [
      "Original silhouette score: 0.34029044932690966 \t accuracy: 0.7576726342710998\n"
     ]
    }
   ],
   "source": [
    "from sklearn.cluster import SpectralClustering\n",
    "\n",
    "x = orig_x.copy()\n",
    "features = list(x.columns)\n",
    "data = sklearn.preprocessing.scale(x.as_matrix())\n",
    "\n",
    "classifier = SpectralClustering(n_clusters=2,\n",
    "                              eigen_solver='amg',\n",
    "                              affinity=\"rbf\")\n",
    "spectral = classifier.fit(data)\n",
    "\n",
    "cur_score = silhouette_score(data, spectral.labels_)\n",
    "cur_acc = accuracy(df_aggregated[\"skintone\"], spectral.labels_)\n",
    "\n",
    "print(\"Original silhouette score: {} \\t accuracy: {}\".format(cur_score, cur_acc))\n"
   ]
  },
  {
   "cell_type": "markdown",
   "metadata": {
    "collapsed": true
   },
   "source": [
    "75% accuracy is quite better than with KMeans, let's try to remove features now."
   ]
  },
  {
   "cell_type": "code",
   "execution_count": 39,
   "metadata": {
    "collapsed": false
   },
   "outputs": [
    {
     "name": "stdout",
     "output_type": "stream",
     "text": [
      "Dropping defeats gives Silhouette score 0.3592034629889609 \t accuracy: 0.7576726342710998\n",
      "Dropping ties gives Silhouette score 0.4292783662765878 \t accuracy: 0.7589514066496164\n",
      "Dropping goals gives Silhouette score 0.4856503015170032 \t accuracy: 0.7576726342710998\n",
      "Dropping position gives Silhouette score 0.5256528436120402 \t accuracy: 0.7576726342710998\n",
      "Dropping yellowCards gives Silhouette score 0.5624662958621395 \t accuracy: 0.7576726342710998\n",
      "Dropping weight gives Silhouette score 0.5821891941509146 \t accuracy: 0.7589514066496164\n",
      "Dropping height gives Silhouette score 0.6086258378129109 \t accuracy: 0.7576726342710998\n",
      "Dropping victories gives Silhouette score 0.7170147246501964 \t accuracy: 0.7576726342710998\n",
      "Dropping redCards gives Silhouette score 0.7566283280168588 \t accuracy: 0.7576726342710998\n"
     ]
    }
   ],
   "source": [
    "for i in range(0, len(features)-1):\n",
    "    score_changed = False\n",
    "    for f in features:\n",
    "        data = sklearn.preprocessing.scale(x.drop(f, 1).as_matrix())\n",
    "        results = classifier.fit(data)\n",
    "        score = silhouette_score(data, results.labels_)\n",
    "        acc = accuracy(df_aggregated[\"skintone\"], results.labels_)\n",
    "        if score > cur_score:\n",
    "            print(\"Dropping {} gives Silhouette score {} \\t accuracy: {}\".format(f, score, acc))\n",
    "            #print(pd.concat([df_aggregated.reset_index()[\"skintone\"], pd.Series(kmeans.labels_)], axis=1))\n",
    "            del(features[features.index(f)])\n",
    "            cur_score = score\n",
    "            cur_acc = acc\n",
    "            x = x.drop(f, 1)\n",
    "            break"
   ]
  },
  {
   "cell_type": "markdown",
   "metadata": {},
   "source": [
    "As we saw above"
   ]
  },
  {
   "cell_type": "code",
   "execution_count": null,
   "metadata": {
    "collapsed": true
   },
   "outputs": [],
   "source": []
  },
  {
   "cell_type": "code",
   "execution_count": null,
   "metadata": {
    "collapsed": true
   },
   "outputs": [],
   "source": []
  },
  {
   "cell_type": "code",
   "execution_count": null,
   "metadata": {
    "collapsed": true
   },
   "outputs": [],
   "source": []
  }
 ],
 "metadata": {
  "anaconda-cloud": {},
  "kernelspec": {
   "display_name": "Python [Root]",
   "language": "python",
   "name": "Python [Root]"
  },
  "language_info": {
   "codemirror_mode": {
    "name": "ipython",
    "version": 3
   },
   "file_extension": ".py",
   "mimetype": "text/x-python",
   "name": "python",
   "nbconvert_exporter": "python",
   "pygments_lexer": "ipython3",
   "version": "3.5.2"
  }
 },
 "nbformat": 4,
 "nbformat_minor": 0
}
