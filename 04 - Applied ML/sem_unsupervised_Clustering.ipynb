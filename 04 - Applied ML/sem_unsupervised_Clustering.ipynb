{
 "cells": [
  {
   "cell_type": "markdown",
   "metadata": {},
   "source": [
    "## Description\n",
    "The first part is focused on inferring the missing value about skin color rating using machine learning algorithm. The second part try to infer wether referees' behavior change depending of the skin-color of the player.\n",
    "\n",
    "Let start by doing some imports."
   ]
  },
  {
   "cell_type": "code",
   "execution_count": 88,
   "metadata": {
    "collapsed": true
   },
   "outputs": [],
   "source": [
    "import os\n",
    "import pandas as pd\n",
    "import numpy as np\n",
    "import sklearn\n",
    "\n",
    "%matplotlib inline\n",
    "import matplotlib.pyplot as plt                         # Matplotlib's pyplot: MATLAB-like syntax\n",
    "import seaborn as sns                                   # For pretty plots"
   ]
  },
  {
   "cell_type": "code",
   "execution_count": 111,
   "metadata": {
    "collapsed": false,
    "scrolled": true
   },
   "outputs": [],
   "source": [
    "df = pd.read_csv(os.path.join('data', 'CrowdstormingDataJuly1st.csv'))\n",
    "dfd = pd.read_csv(os.path.join('data', 'crowdstorm_disaggregated.csv'))\n",
    "df_cols = set(df.columns)\n",
    "dfd_cols = set(dfd.columns)\n",
    "df['skintone'] = 0.5 * (df['rater1']+df['rater2'])\n",
    "df_skinton = df[[\"playerShort\", \"skintone\"]].reset_index().groupby('playerShort', axis=0).mean()\n",
    "mean_skin = set(df_skinton['skintone'].dropna().unique().tolist())\n",
    "unique_skin = set(df['skintone'].dropna().unique().tolist())\n",
    "LABEL_FIELDS = ['club', 'leagueCountry', 'position', 'Alpha_3']\n",
    "UNKNOWN_LABEL = 'MISSING'\n",
    "label_encoders = {}\n",
    "\n",
    "from sklearn.preprocessing import LabelEncoder\n",
    "\n",
    "df_categorized = df.copy()\n",
    "\n",
    "for label in LABEL_FIELDS:\n",
    "    encoder = LabelEncoder()\n",
    "    values = df_categorized[label].fillna(UNKNOWN_LABEL, inplace=False)\n",
    "    encoder.fit(values)\n",
    "    transformed = encoder.transform(values)\n",
    "    df_categorized[label] = transformed\n",
    "    \n",
    "    label_encoders[label] = encoder\n",
    "    \n",
    "# Special case for the skintone where we need to keep NaN values\n",
    "encoder = LabelEncoder()\n",
    "skintone = df_categorized['skintone']\n",
    "skintone = skintone[skintone.notnull()]\n",
    "encoder.fit(skintone)\n",
    "df_categorized.loc[skintone.index, 'skintone'] = encoder.transform(skintone)\n",
    "label_encoders['skintone'] = encoder\n",
    "\n",
    "\n",
    "df_subset = df_categorized[['playerShort', 'club', 'leagueCountry', 'position','games', 'yellowCards', 'redCards', 'meanIAT', 'skintone', 'birthday', 'height',\n",
    "       'weight', 'victories', 'ties', 'defeats', 'goals']].copy()\n",
    "\n",
    "for f in ['meanIAT', 'yellowCards', 'redCards']:\n",
    "    df_subset[f].fillna(0, inplace=True)\n",
    "df_subset[\"skintone\"] = df[\"skintone\"]\n",
    "df_subset[\"cost\"] = df_subset['meanIAT']*(df_subset['yellowCards'] + 3*df_subset['redCards'])"
   ]
  },
  {
   "cell_type": "markdown",
   "metadata": {},
   "source": [
    "# Unsupervised clustering\n",
    "\n",
    "We keep the dataframe `df_subset` because we want to keep the `cost` column from part 1 as a likely useful aggregate of racial bias that a player received.\n",
    "\n"
   ]
  },
  {
   "cell_type": "code",
   "execution_count": 147,
   "metadata": {
    "collapsed": false
   },
   "outputs": [
    {
     "data": {
      "text/plain": [
       "array([[ 1.50519227, -0.27763032,  2.69206622, ..., -0.69747321,\n",
       "        -1.08764045, -0.95884737],\n",
       "       [ 0.5503674 ,  1.23795022,  1.25605272, ..., -0.26859413,\n",
       "        -1.36742164, -0.60411455],\n",
       "       [ 2.22131092,  0.48015995,  1.6150561 , ..., -0.69747321,\n",
       "         1.7101715 , -1.12672296],\n",
       "       ..., \n",
       "       [ 1.26648605, -0.65652546,  1.6150561 , ...,  1.33970242,\n",
       "        -1.08764045, -0.39334683],\n",
       "       [-1.12057612, -1.0354206 , -1.25697089, ...,  2.56200779,\n",
       "         0.03148433, -0.09501521],\n",
       "       [-0.40445746,  0.10126481,  0.1790426 , ..., -0.69747321,\n",
       "        -0.24829687, -0.61036593]])"
      ]
     },
     "execution_count": 147,
     "metadata": {},
     "output_type": "execute_result"
    }
   ],
   "source": [
    "df_aggregated = df_subset.drop([\"meanIAT\", \"club\", \"leagueCountry\"], 1).set_index([\"playerShort\"]).groupby(level=0).agg(\n",
    "    {\n",
    "        \"skintone\": \"mean\",\n",
    "        \"height\": \"mean\",\n",
    "        \"weight\": \"mean\",\n",
    "        \"position\": \"first\",\n",
    "        \"games\": \"max\",\n",
    "        \"yellowCards\": \"sum\",\n",
    "        \"redCards\": \"sum\",\n",
    "        \"cost\": \"sum\",\n",
    "        \"victories\": \"max\",\n",
    "        \"ties\": \"max\",\n",
    "        \"defeats\": \"max\",\n",
    "        \"goals\": \"max\",\n",
    "     }\n",
    ").reset_index().drop([\"playerShort\"], 1).dropna()\n",
    "df_aggregated[\"yellowCards\"] = df_aggregated[\"yellowCards\"] / df_aggregated[\"games\"]\n",
    "df_aggregated[\"redCards\"] = df_aggregated[\"redCards\"] / df_aggregated[\"games\"]\n",
    "df_aggregated[\"cost\"] = df_aggregated[\"cost\"] / df_aggregated[\"games\"]\n",
    "\n",
    "x = df_aggregated.drop([\"games\", \"skintone\"], axis=1)\n",
    "\n",
    "data = sklearn.preprocessing.scale(x.as_matrix())\n",
    "features = list(x.columns)\n",
    "\n",
    "from sklearn.cluster import KMeans\n",
    "from sklearn.metrics import silhouette_score\n",
    "\n",
    "kmeans = KMeans(n_clusters=2, random_state=0).fit(data)\n",
    "sklearn.preprocessing.scale(x.as_matrix())"
   ]
  },
  {
   "cell_type": "markdown",
   "metadata": {},
   "source": [
    "We arbitrarily split the skintone feature in two parts, the ones strictly below 0.5 and the ones equal or above 0.5."
   ]
  },
  {
   "cell_type": "code",
   "execution_count": 144,
   "metadata": {
    "collapsed": false
   },
   "outputs": [
    {
     "name": "stdout",
     "output_type": "stream",
     "text": [
      "Original silhouette score: 0.17034142025361285 \t accuracy: 0.5287723785166241\n",
      "['victories', 'goals', 'defeats', 'weight', 'yellowCards', 'ties', 'height', 'redCards', 'position', 'cost']\n",
      "Dropping victories gives Silhouette score 0.23899959801234397 \t accuracy: 0.5287723785166241\n",
      "0.608056265985\n",
      "Dropping goals gives Silhouette score 0.2422054038445399 \t accuracy: 0.5300511508951407\n",
      "0.610613810742\n",
      "Dropping weight gives Silhouette score 0.2698625506279337 \t accuracy: 0.5294117647058824\n",
      "0.609974424552\n",
      "Dropping yellowCards gives Silhouette score 0.300717168567046 \t accuracy: 0.5294117647058824\n",
      "0.608695652174\n",
      "Dropping height gives Silhouette score 0.3506022529584603 \t accuracy: 0.5287723785166241\n",
      "0.608056265985\n",
      "Dropping redCards gives Silhouette score 0.40306090631917657 \t accuracy: 0.5287723785166241\n",
      "0.608056265985\n",
      "Dropping defeats gives Silhouette score 0.4120488101318473 \t accuracy: 0.5287723785166241\n",
      "0.608056265985\n",
      "Dropping ties gives Silhouette score 0.41917064228427436 \t accuracy: 0.5287723785166241\n",
      "0.608056265985\n",
      "Dropping position gives Silhouette score 0.642275168798939 \t accuracy: 0.5287723785166241\n",
      "0.608056265985\n"
     ]
    },
    {
     "name": "stderr",
     "output_type": "stream",
     "text": [
      "//anaconda/lib/python3.5/site-packages/sklearn/utils/validation.py:420: DataConversionWarning: Data with input dtype int32 was converted to float64 by the scale function.\n",
      "  warnings.warn(msg, DataConversionWarning)\n"
     ]
    },
    {
     "name": "stdout",
     "output_type": "stream",
     "text": [
      "Dropping cost gives Silhouette score 1.0 \t accuracy: 0.5287723785166241\n",
      "0.608056265985\n"
     ]
    }
   ],
   "source": [
    "def accuracy(skintone, labels):\n",
    "    skintone = skintone < 0.5\n",
    "    score = ((skintone - labels).apply(np.abs)).mean()\n",
    "    if score < 0.5:\n",
    "        return 1 - score\n",
    "    return score\n",
    "\n",
    "x[\"label\"] = kmeans.labels_\n",
    "cur_score = silhouette_score(data, kmeans.labels_)\n",
    "cur_acc = accuracy(df_aggregated[\"skintone\"], kmeans.labels_)\n",
    "\n",
    "print(\"Original silhouette score: {} \\t accuracy: {}\".format(cur_score, acc))\n",
    "\n",
    "print(features)\n",
    "for i in range(0, len(features)):\n",
    "    score_changed = False\n",
    "    for f in features:\n",
    "        data = sklearn.preprocessing.scale(x.drop(f, 1).as_matrix())\n",
    "        kmeans = KMeans(n_clusters=2, random_state=0).fit(data)\n",
    "        score = silhouette_score(data, kmeans.labels_)\n",
    "        acc = accuracy(df_aggregated[\"skintone\"], kmeans.labels_)\n",
    "        if score > cur_score:\n",
    "            print(\"Dropping {} gives Silhouette score {} \\t accuracy: {}\".format(f, score, acc))\n",
    "            print(np.mean(kmeans.labels_))\n",
    "            #print(pd.concat([df_aggregated.reset_index()[\"skintone\"], pd.Series(kmeans.labels_)], axis=1))\n",
    "            del(features[features.index(f)])\n",
    "            cur_score = score\n",
    "            cur_acc = acc\n",
    "            x = x.drop(f, 1)\n",
    "            break\n"
   ]
  },
  {
   "cell_type": "code",
   "execution_count": null,
   "metadata": {
    "collapsed": true
   },
   "outputs": [],
   "source": []
  }
 ],
 "metadata": {
  "anaconda-cloud": {},
  "kernelspec": {
   "display_name": "Python [Root]",
   "language": "python",
   "name": "Python [Root]"
  },
  "language_info": {
   "codemirror_mode": {
    "name": "ipython",
    "version": 3
   },
   "file_extension": ".py",
   "mimetype": "text/x-python",
   "name": "python",
   "nbconvert_exporter": "python",
   "pygments_lexer": "ipython3",
   "version": "3.5.2"
  }
 },
 "nbformat": 4,
 "nbformat_minor": 0
}
