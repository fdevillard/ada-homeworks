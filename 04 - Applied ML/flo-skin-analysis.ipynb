{
 "cells": [
  {
   "cell_type": "markdown",
   "metadata": {},
   "source": [
    "# Description\n",
    "The first part is focused on inferring the missing value about skin color rating using machine learning algorithm. The second part try to infer wether referees' behavior change depending of the skin-color of the player.\n",
    "\n",
    "Let start by doing some imports."
   ]
  },
  {
   "cell_type": "code",
   "execution_count": 1,
   "metadata": {
    "collapsed": true
   },
   "outputs": [],
   "source": [
    "import os\n",
    "import pandas as pd\n",
    "import numpy as np\n",
    "import sklearn\n",
    "\n",
    "%matplotlib inline\n",
    "import matplotlib.pyplot as plt                         # Matplotlib's pyplot: MATLAB-like syntax\n",
    "import seaborn as sns                                   # For pretty plots"
   ]
  },
  {
   "cell_type": "markdown",
   "metadata": {},
   "source": [
    "## Skin-color inferring\n",
    "First, let have a look to [mathewzila's suggestion](https://github.com/mathewzilla/redcard/blob/master/Crowdstorming_visualisation.ipynb) where the dataset is a disaggregate version of `data/CrowdstormingDataJuly1st.csv`. By _disaggregate_, we means that there is one observation per game between a player and a referee (in place of one observation per dyad).\n",
    "\n",
    "Depending of the computations, this dataset might be a better option. Both will be imported in order to do some comparison."
   ]
  },
  {
   "cell_type": "code",
   "execution_count": 2,
   "metadata": {
    "collapsed": false
   },
   "outputs": [
    {
     "name": "stdout",
     "output_type": "stream",
     "text": [
      "          playerShort              player               club leagueCountry  \\\n",
      "0       lucas-wilchez       Lucas Wilchez      Real Zaragoza         Spain   \n",
      "1          john-utaka          John Utaka    Montpellier HSC        France   \n",
      "2         abdon-prats         Abdón Prats       RCD Mallorca         Spain   \n",
      "3          pablo-mari          Pablo Marí       RCD Mallorca         Spain   \n",
      "4          ruben-pena          Rubén Peña    Real Valladolid         Spain   \n",
      "5        aaron-hughes        Aaron Hughes          Fulham FC       England   \n",
      "6  aleksandar-kolarov  Aleksandar Kolarov    Manchester City       England   \n",
      "7    alexander-tettey    Alexander Tettey       Norwich City       England   \n",
      "8   anders-lindegaard   Anders Lindegaard  Manchester United       England   \n",
      "9        andreas-beck        Andreas Beck    1899 Hoffenheim       Germany   \n",
      "\n",
      "     birthday  height  weight              position  games  victories  \\\n",
      "0  31.08.1983   177.0    72.0  Attacking Midfielder      1          0   \n",
      "1  08.01.1982   179.0    82.0          Right Winger      1          0   \n",
      "2  17.12.1992   181.0    79.0                   NaN      1          0   \n",
      "3  31.08.1993   191.0    87.0           Center Back      1          1   \n",
      "4  18.07.1991   172.0    70.0      Right Midfielder      1          1   \n",
      "5  08.11.1979   182.0    71.0           Center Back      1          0   \n",
      "6  10.11.1985   187.0    80.0         Left Fullback      1          1   \n",
      "7  04.04.1986   180.0    68.0  Defensive Midfielder      1          0   \n",
      "8  13.04.1984   193.0    80.0            Goalkeeper      1          0   \n",
      "9  13.03.1987   180.0    70.0        Right Fullback      1          1   \n",
      "\n",
      "     ...     rater2  refNum  refCountry  Alpha_3   meanIAT    nIAT     seIAT  \\\n",
      "0    ...       0.50       1           1      GRC  0.326391   712.0  0.000564   \n",
      "1    ...       0.75       2           2      ZMB  0.203375    40.0  0.010875   \n",
      "2    ...        NaN       3           3      ESP  0.369894  1785.0  0.000229   \n",
      "3    ...        NaN       3           3      ESP  0.369894  1785.0  0.000229   \n",
      "4    ...        NaN       3           3      ESP  0.369894  1785.0  0.000229   \n",
      "5    ...       0.00       4           4      LUX  0.325185   127.0  0.003297   \n",
      "6    ...       0.25       4           4      LUX  0.325185   127.0  0.003297   \n",
      "7    ...       1.00       4           4      LUX  0.325185   127.0  0.003297   \n",
      "8    ...       0.25       4           4      LUX  0.325185   127.0  0.003297   \n",
      "9    ...       0.00       4           4      LUX  0.325185   127.0  0.003297   \n",
      "\n",
      "    meanExp    nExp     seExp  \n",
      "0  0.396000   750.0  0.002696  \n",
      "1 -0.204082    49.0  0.061504  \n",
      "2  0.588297  1897.0  0.001002  \n",
      "3  0.588297  1897.0  0.001002  \n",
      "4  0.588297  1897.0  0.001002  \n",
      "5  0.538462   130.0  0.013752  \n",
      "6  0.538462   130.0  0.013752  \n",
      "7  0.538462   130.0  0.013752  \n",
      "8  0.538462   130.0  0.013752  \n",
      "9  0.538462   130.0  0.013752  \n",
      "\n",
      "[10 rows x 28 columns]\n"
     ]
    }
   ],
   "source": [
    "df = pd.read_csv(os.path.join('data', 'CrowdstormingDataJuly1st.csv'))\n",
    "print(df.head(10))"
   ]
  },
  {
   "cell_type": "code",
   "execution_count": 3,
   "metadata": {
    "collapsed": false
   },
   "outputs": [
    {
     "data": {
      "text/html": [
       "<div>\n",
       "<table border=\"1\" class=\"dataframe\">\n",
       "  <thead>\n",
       "    <tr style=\"text-align: right;\">\n",
       "      <th></th>\n",
       "      <th>playerShort</th>\n",
       "      <th>player</th>\n",
       "      <th>club</th>\n",
       "      <th>leagueCountry</th>\n",
       "      <th>birthday</th>\n",
       "      <th>height</th>\n",
       "      <th>weight</th>\n",
       "      <th>position</th>\n",
       "      <th>games</th>\n",
       "      <th>victories</th>\n",
       "      <th>...</th>\n",
       "      <th>meanIAT</th>\n",
       "      <th>nIAT</th>\n",
       "      <th>seIAT</th>\n",
       "      <th>meanExp</th>\n",
       "      <th>nExp</th>\n",
       "      <th>seExp</th>\n",
       "      <th>skintone</th>\n",
       "      <th>allreds</th>\n",
       "      <th>allredsStrict</th>\n",
       "      <th>refCount</th>\n",
       "    </tr>\n",
       "  </thead>\n",
       "  <tbody>\n",
       "    <tr>\n",
       "      <th>0</th>\n",
       "      <td>lucas-wilchez</td>\n",
       "      <td>Lucas Wilchez</td>\n",
       "      <td>Real Zaragoza</td>\n",
       "      <td>Spain</td>\n",
       "      <td>31.08.1983</td>\n",
       "      <td>177.0</td>\n",
       "      <td>72.0</td>\n",
       "      <td>Attacking Midfielder</td>\n",
       "      <td>1</td>\n",
       "      <td>0</td>\n",
       "      <td>...</td>\n",
       "      <td>0.326391</td>\n",
       "      <td>712.0</td>\n",
       "      <td>0.000564</td>\n",
       "      <td>0.396000</td>\n",
       "      <td>750.0</td>\n",
       "      <td>0.002696</td>\n",
       "      <td>0.375</td>\n",
       "      <td>0</td>\n",
       "      <td>0</td>\n",
       "      <td>1</td>\n",
       "    </tr>\n",
       "    <tr>\n",
       "      <th>1</th>\n",
       "      <td>john-utaka</td>\n",
       "      <td>John Utaka</td>\n",
       "      <td>Montpellier HSC</td>\n",
       "      <td>France</td>\n",
       "      <td>08.01.1982</td>\n",
       "      <td>179.0</td>\n",
       "      <td>82.0</td>\n",
       "      <td>Right Winger</td>\n",
       "      <td>1</td>\n",
       "      <td>0</td>\n",
       "      <td>...</td>\n",
       "      <td>0.203375</td>\n",
       "      <td>40.0</td>\n",
       "      <td>0.010875</td>\n",
       "      <td>-0.204082</td>\n",
       "      <td>49.0</td>\n",
       "      <td>0.061504</td>\n",
       "      <td>0.750</td>\n",
       "      <td>0</td>\n",
       "      <td>0</td>\n",
       "      <td>1</td>\n",
       "    </tr>\n",
       "    <tr>\n",
       "      <th>2</th>\n",
       "      <td>abdon-prats</td>\n",
       "      <td>Abdón Prats</td>\n",
       "      <td>RCD Mallorca</td>\n",
       "      <td>Spain</td>\n",
       "      <td>17.12.1992</td>\n",
       "      <td>181.0</td>\n",
       "      <td>79.0</td>\n",
       "      <td>NaN</td>\n",
       "      <td>1</td>\n",
       "      <td>0</td>\n",
       "      <td>...</td>\n",
       "      <td>0.369894</td>\n",
       "      <td>1785.0</td>\n",
       "      <td>0.000229</td>\n",
       "      <td>0.588297</td>\n",
       "      <td>1897.0</td>\n",
       "      <td>0.001002</td>\n",
       "      <td>NaN</td>\n",
       "      <td>0</td>\n",
       "      <td>0</td>\n",
       "      <td>3</td>\n",
       "    </tr>\n",
       "    <tr>\n",
       "      <th>3</th>\n",
       "      <td>pablo-mari</td>\n",
       "      <td>Pablo Marí</td>\n",
       "      <td>RCD Mallorca</td>\n",
       "      <td>Spain</td>\n",
       "      <td>31.08.1993</td>\n",
       "      <td>191.0</td>\n",
       "      <td>87.0</td>\n",
       "      <td>Center Back</td>\n",
       "      <td>1</td>\n",
       "      <td>1</td>\n",
       "      <td>...</td>\n",
       "      <td>0.369894</td>\n",
       "      <td>1785.0</td>\n",
       "      <td>0.000229</td>\n",
       "      <td>0.588297</td>\n",
       "      <td>1897.0</td>\n",
       "      <td>0.001002</td>\n",
       "      <td>NaN</td>\n",
       "      <td>0</td>\n",
       "      <td>0</td>\n",
       "      <td>3</td>\n",
       "    </tr>\n",
       "    <tr>\n",
       "      <th>4</th>\n",
       "      <td>ruben-pena</td>\n",
       "      <td>Rubén Peña</td>\n",
       "      <td>Real Valladolid</td>\n",
       "      <td>Spain</td>\n",
       "      <td>18.07.1991</td>\n",
       "      <td>172.0</td>\n",
       "      <td>70.0</td>\n",
       "      <td>Right Midfielder</td>\n",
       "      <td>1</td>\n",
       "      <td>1</td>\n",
       "      <td>...</td>\n",
       "      <td>0.369894</td>\n",
       "      <td>1785.0</td>\n",
       "      <td>0.000229</td>\n",
       "      <td>0.588297</td>\n",
       "      <td>1897.0</td>\n",
       "      <td>0.001002</td>\n",
       "      <td>NaN</td>\n",
       "      <td>0</td>\n",
       "      <td>0</td>\n",
       "      <td>3</td>\n",
       "    </tr>\n",
       "    <tr>\n",
       "      <th>5</th>\n",
       "      <td>aaron-hughes</td>\n",
       "      <td>Aaron Hughes</td>\n",
       "      <td>Fulham FC</td>\n",
       "      <td>England</td>\n",
       "      <td>08.11.1979</td>\n",
       "      <td>182.0</td>\n",
       "      <td>71.0</td>\n",
       "      <td>Center Back</td>\n",
       "      <td>1</td>\n",
       "      <td>0</td>\n",
       "      <td>...</td>\n",
       "      <td>0.325185</td>\n",
       "      <td>127.0</td>\n",
       "      <td>0.003297</td>\n",
       "      <td>0.538462</td>\n",
       "      <td>130.0</td>\n",
       "      <td>0.013752</td>\n",
       "      <td>0.125</td>\n",
       "      <td>0</td>\n",
       "      <td>0</td>\n",
       "      <td>30</td>\n",
       "    </tr>\n",
       "    <tr>\n",
       "      <th>6</th>\n",
       "      <td>aleksandar-kolarov</td>\n",
       "      <td>Aleksandar Kolarov</td>\n",
       "      <td>Manchester City</td>\n",
       "      <td>England</td>\n",
       "      <td>10.11.1985</td>\n",
       "      <td>187.0</td>\n",
       "      <td>80.0</td>\n",
       "      <td>Left Fullback</td>\n",
       "      <td>1</td>\n",
       "      <td>1</td>\n",
       "      <td>...</td>\n",
       "      <td>0.325185</td>\n",
       "      <td>127.0</td>\n",
       "      <td>0.003297</td>\n",
       "      <td>0.538462</td>\n",
       "      <td>130.0</td>\n",
       "      <td>0.013752</td>\n",
       "      <td>0.125</td>\n",
       "      <td>0</td>\n",
       "      <td>0</td>\n",
       "      <td>30</td>\n",
       "    </tr>\n",
       "    <tr>\n",
       "      <th>7</th>\n",
       "      <td>alexander-tettey</td>\n",
       "      <td>Alexander Tettey</td>\n",
       "      <td>Norwich City</td>\n",
       "      <td>England</td>\n",
       "      <td>04.04.1986</td>\n",
       "      <td>180.0</td>\n",
       "      <td>68.0</td>\n",
       "      <td>Defensive Midfielder</td>\n",
       "      <td>1</td>\n",
       "      <td>0</td>\n",
       "      <td>...</td>\n",
       "      <td>0.325185</td>\n",
       "      <td>127.0</td>\n",
       "      <td>0.003297</td>\n",
       "      <td>0.538462</td>\n",
       "      <td>130.0</td>\n",
       "      <td>0.013752</td>\n",
       "      <td>1.000</td>\n",
       "      <td>0</td>\n",
       "      <td>0</td>\n",
       "      <td>30</td>\n",
       "    </tr>\n",
       "    <tr>\n",
       "      <th>8</th>\n",
       "      <td>anders-lindegaard</td>\n",
       "      <td>Anders Lindegaard</td>\n",
       "      <td>Manchester United</td>\n",
       "      <td>England</td>\n",
       "      <td>13.04.1984</td>\n",
       "      <td>193.0</td>\n",
       "      <td>80.0</td>\n",
       "      <td>Goalkeeper</td>\n",
       "      <td>1</td>\n",
       "      <td>0</td>\n",
       "      <td>...</td>\n",
       "      <td>0.325185</td>\n",
       "      <td>127.0</td>\n",
       "      <td>0.003297</td>\n",
       "      <td>0.538462</td>\n",
       "      <td>130.0</td>\n",
       "      <td>0.013752</td>\n",
       "      <td>0.250</td>\n",
       "      <td>0</td>\n",
       "      <td>0</td>\n",
       "      <td>30</td>\n",
       "    </tr>\n",
       "    <tr>\n",
       "      <th>9</th>\n",
       "      <td>andreas-beck</td>\n",
       "      <td>Andreas Beck</td>\n",
       "      <td>1899 Hoffenheim</td>\n",
       "      <td>Germany</td>\n",
       "      <td>13.03.1987</td>\n",
       "      <td>180.0</td>\n",
       "      <td>70.0</td>\n",
       "      <td>Right Fullback</td>\n",
       "      <td>1</td>\n",
       "      <td>1</td>\n",
       "      <td>...</td>\n",
       "      <td>0.325185</td>\n",
       "      <td>127.0</td>\n",
       "      <td>0.003297</td>\n",
       "      <td>0.538462</td>\n",
       "      <td>130.0</td>\n",
       "      <td>0.013752</td>\n",
       "      <td>0.000</td>\n",
       "      <td>0</td>\n",
       "      <td>0</td>\n",
       "      <td>30</td>\n",
       "    </tr>\n",
       "  </tbody>\n",
       "</table>\n",
       "<p>10 rows × 32 columns</p>\n",
       "</div>"
      ],
      "text/plain": [
       "          playerShort              player               club leagueCountry  \\\n",
       "0       lucas-wilchez       Lucas Wilchez      Real Zaragoza         Spain   \n",
       "1          john-utaka          John Utaka    Montpellier HSC        France   \n",
       "2         abdon-prats         Abdón Prats       RCD Mallorca         Spain   \n",
       "3          pablo-mari          Pablo Marí       RCD Mallorca         Spain   \n",
       "4          ruben-pena          Rubén Peña    Real Valladolid         Spain   \n",
       "5        aaron-hughes        Aaron Hughes          Fulham FC       England   \n",
       "6  aleksandar-kolarov  Aleksandar Kolarov    Manchester City       England   \n",
       "7    alexander-tettey    Alexander Tettey       Norwich City       England   \n",
       "8   anders-lindegaard   Anders Lindegaard  Manchester United       England   \n",
       "9        andreas-beck        Andreas Beck    1899 Hoffenheim       Germany   \n",
       "\n",
       "     birthday  height  weight              position  games  victories  \\\n",
       "0  31.08.1983   177.0    72.0  Attacking Midfielder      1          0   \n",
       "1  08.01.1982   179.0    82.0          Right Winger      1          0   \n",
       "2  17.12.1992   181.0    79.0                   NaN      1          0   \n",
       "3  31.08.1993   191.0    87.0           Center Back      1          1   \n",
       "4  18.07.1991   172.0    70.0      Right Midfielder      1          1   \n",
       "5  08.11.1979   182.0    71.0           Center Back      1          0   \n",
       "6  10.11.1985   187.0    80.0         Left Fullback      1          1   \n",
       "7  04.04.1986   180.0    68.0  Defensive Midfielder      1          0   \n",
       "8  13.04.1984   193.0    80.0            Goalkeeper      1          0   \n",
       "9  13.03.1987   180.0    70.0        Right Fullback      1          1   \n",
       "\n",
       "     ...      meanIAT    nIAT     seIAT   meanExp    nExp     seExp skintone  \\\n",
       "0    ...     0.326391   712.0  0.000564  0.396000   750.0  0.002696    0.375   \n",
       "1    ...     0.203375    40.0  0.010875 -0.204082    49.0  0.061504    0.750   \n",
       "2    ...     0.369894  1785.0  0.000229  0.588297  1897.0  0.001002      NaN   \n",
       "3    ...     0.369894  1785.0  0.000229  0.588297  1897.0  0.001002      NaN   \n",
       "4    ...     0.369894  1785.0  0.000229  0.588297  1897.0  0.001002      NaN   \n",
       "5    ...     0.325185   127.0  0.003297  0.538462   130.0  0.013752    0.125   \n",
       "6    ...     0.325185   127.0  0.003297  0.538462   130.0  0.013752    0.125   \n",
       "7    ...     0.325185   127.0  0.003297  0.538462   130.0  0.013752    1.000   \n",
       "8    ...     0.325185   127.0  0.003297  0.538462   130.0  0.013752    0.250   \n",
       "9    ...     0.325185   127.0  0.003297  0.538462   130.0  0.013752    0.000   \n",
       "\n",
       "   allreds  allredsStrict  refCount  \n",
       "0        0              0         1  \n",
       "1        0              0         1  \n",
       "2        0              0         3  \n",
       "3        0              0         3  \n",
       "4        0              0         3  \n",
       "5        0              0        30  \n",
       "6        0              0        30  \n",
       "7        0              0        30  \n",
       "8        0              0        30  \n",
       "9        0              0        30  \n",
       "\n",
       "[10 rows x 32 columns]"
      ]
     },
     "execution_count": 3,
     "metadata": {},
     "output_type": "execute_result"
    }
   ],
   "source": [
    "dfd = pd.read_csv(os.path.join('data', 'crowdstorm_disaggregated.csv'))\n",
    "dfd.head(10)"
   ]
  },
  {
   "cell_type": "code",
   "execution_count": 4,
   "metadata": {
    "collapsed": false
   },
   "outputs": [
    {
     "name": "stdout",
     "output_type": "stream",
     "text": [
      "Number of lost columns: 0\n"
     ]
    }
   ],
   "source": [
    "df_cols = set(df.columns)\n",
    "dfd_cols = set(dfd.columns)\n",
    "\n",
    "print(\"Number of lost columns: {}\".format(len(df_cols - dfd_cols)))"
   ]
  },
  {
   "cell_type": "markdown",
   "metadata": {},
   "source": [
    "As we can see, the deaggregated dataset doesn't remove any columns from the base data set."
   ]
  },
  {
   "cell_type": "code",
   "execution_count": 5,
   "metadata": {
    "collapsed": false
   },
   "outputs": [
    {
     "name": "stdout",
     "output_type": "stream",
     "text": [
      "New columns: {'allreds', 'allredsStrict', 'refCount', 'skintone'}\n"
     ]
    }
   ],
   "source": [
    "print(\"New columns: {}\".format(dfd_cols - df_cols))"
   ]
  },
  {
   "cell_type": "markdown",
   "metadata": {},
   "source": [
    "As we can see, new columns are created. Based on [source code](https://osf.io/w7tds/),\n",
    "\n",
    "- allredsStrict: If player has received a red without a yellow\n",
    "- allreds: If player has received a red during this game (either because he had a yellow one before, or if he's directly received a red)\n",
    "- skintone: Average of rater1 and rater2 for this player\n",
    "- refCount: Number of dyads per referee (thus, how many player the referee is linked to)\n",
    "\n",
    "All are indicator variable (either 1 if true, 0 o.w.)\n",
    "\n",
    "**Remark**: the field `games` (i.e. count the number of match between the player and the referee) is redundant on `dfd`, since there is one observation per game."
   ]
  },
  {
   "cell_type": "code",
   "execution_count": 6,
   "metadata": {
    "collapsed": false
   },
   "outputs": [
    {
     "name": "stdout",
     "output_type": "stream",
     "text": [
      "All fields: Index(['playerShort', 'player', 'club', 'leagueCountry', 'birthday', 'height',\n",
      "       'weight', 'position', 'games', 'victories', 'ties', 'defeats', 'goals',\n",
      "       'yellowCards', 'yellowReds', 'redCards', 'photoID', 'rater1', 'rater2',\n",
      "       'refNum', 'refCountry', 'Alpha_3', 'meanIAT', 'nIAT', 'seIAT',\n",
      "       'meanExp', 'nExp', 'seExp', 'skintone', 'allreds', 'allredsStrict',\n",
      "       'refCount'],\n",
      "      dtype='object')\n"
     ]
    }
   ],
   "source": [
    "print(\"All fields: {}\".format(dfd.columns))"
   ]
  },
  {
   "cell_type": "markdown",
   "metadata": {},
   "source": [
    "Let add a `skintone` field to the aggregated version of the data"
   ]
  },
  {
   "cell_type": "code",
   "execution_count": 7,
   "metadata": {
    "collapsed": false
   },
   "outputs": [
    {
     "data": {
      "text/html": [
       "<div>\n",
       "<table border=\"1\" class=\"dataframe\">\n",
       "  <thead>\n",
       "    <tr style=\"text-align: right;\">\n",
       "      <th></th>\n",
       "      <th>playerShort</th>\n",
       "      <th>player</th>\n",
       "      <th>club</th>\n",
       "      <th>leagueCountry</th>\n",
       "      <th>birthday</th>\n",
       "      <th>height</th>\n",
       "      <th>weight</th>\n",
       "      <th>position</th>\n",
       "      <th>games</th>\n",
       "      <th>victories</th>\n",
       "      <th>...</th>\n",
       "      <th>refNum</th>\n",
       "      <th>refCountry</th>\n",
       "      <th>Alpha_3</th>\n",
       "      <th>meanIAT</th>\n",
       "      <th>nIAT</th>\n",
       "      <th>seIAT</th>\n",
       "      <th>meanExp</th>\n",
       "      <th>nExp</th>\n",
       "      <th>seExp</th>\n",
       "      <th>skintone</th>\n",
       "    </tr>\n",
       "  </thead>\n",
       "  <tbody>\n",
       "    <tr>\n",
       "      <th>0</th>\n",
       "      <td>lucas-wilchez</td>\n",
       "      <td>Lucas Wilchez</td>\n",
       "      <td>Real Zaragoza</td>\n",
       "      <td>Spain</td>\n",
       "      <td>31.08.1983</td>\n",
       "      <td>177.0</td>\n",
       "      <td>72.0</td>\n",
       "      <td>Attacking Midfielder</td>\n",
       "      <td>1</td>\n",
       "      <td>0</td>\n",
       "      <td>...</td>\n",
       "      <td>1</td>\n",
       "      <td>1</td>\n",
       "      <td>GRC</td>\n",
       "      <td>0.326391</td>\n",
       "      <td>712.0</td>\n",
       "      <td>0.000564</td>\n",
       "      <td>0.396000</td>\n",
       "      <td>750.0</td>\n",
       "      <td>0.002696</td>\n",
       "      <td>0.375</td>\n",
       "    </tr>\n",
       "    <tr>\n",
       "      <th>1</th>\n",
       "      <td>john-utaka</td>\n",
       "      <td>John Utaka</td>\n",
       "      <td>Montpellier HSC</td>\n",
       "      <td>France</td>\n",
       "      <td>08.01.1982</td>\n",
       "      <td>179.0</td>\n",
       "      <td>82.0</td>\n",
       "      <td>Right Winger</td>\n",
       "      <td>1</td>\n",
       "      <td>0</td>\n",
       "      <td>...</td>\n",
       "      <td>2</td>\n",
       "      <td>2</td>\n",
       "      <td>ZMB</td>\n",
       "      <td>0.203375</td>\n",
       "      <td>40.0</td>\n",
       "      <td>0.010875</td>\n",
       "      <td>-0.204082</td>\n",
       "      <td>49.0</td>\n",
       "      <td>0.061504</td>\n",
       "      <td>0.750</td>\n",
       "    </tr>\n",
       "    <tr>\n",
       "      <th>2</th>\n",
       "      <td>abdon-prats</td>\n",
       "      <td>Abdón Prats</td>\n",
       "      <td>RCD Mallorca</td>\n",
       "      <td>Spain</td>\n",
       "      <td>17.12.1992</td>\n",
       "      <td>181.0</td>\n",
       "      <td>79.0</td>\n",
       "      <td>NaN</td>\n",
       "      <td>1</td>\n",
       "      <td>0</td>\n",
       "      <td>...</td>\n",
       "      <td>3</td>\n",
       "      <td>3</td>\n",
       "      <td>ESP</td>\n",
       "      <td>0.369894</td>\n",
       "      <td>1785.0</td>\n",
       "      <td>0.000229</td>\n",
       "      <td>0.588297</td>\n",
       "      <td>1897.0</td>\n",
       "      <td>0.001002</td>\n",
       "      <td>NaN</td>\n",
       "    </tr>\n",
       "    <tr>\n",
       "      <th>3</th>\n",
       "      <td>pablo-mari</td>\n",
       "      <td>Pablo Marí</td>\n",
       "      <td>RCD Mallorca</td>\n",
       "      <td>Spain</td>\n",
       "      <td>31.08.1993</td>\n",
       "      <td>191.0</td>\n",
       "      <td>87.0</td>\n",
       "      <td>Center Back</td>\n",
       "      <td>1</td>\n",
       "      <td>1</td>\n",
       "      <td>...</td>\n",
       "      <td>3</td>\n",
       "      <td>3</td>\n",
       "      <td>ESP</td>\n",
       "      <td>0.369894</td>\n",
       "      <td>1785.0</td>\n",
       "      <td>0.000229</td>\n",
       "      <td>0.588297</td>\n",
       "      <td>1897.0</td>\n",
       "      <td>0.001002</td>\n",
       "      <td>NaN</td>\n",
       "    </tr>\n",
       "    <tr>\n",
       "      <th>4</th>\n",
       "      <td>ruben-pena</td>\n",
       "      <td>Rubén Peña</td>\n",
       "      <td>Real Valladolid</td>\n",
       "      <td>Spain</td>\n",
       "      <td>18.07.1991</td>\n",
       "      <td>172.0</td>\n",
       "      <td>70.0</td>\n",
       "      <td>Right Midfielder</td>\n",
       "      <td>1</td>\n",
       "      <td>1</td>\n",
       "      <td>...</td>\n",
       "      <td>3</td>\n",
       "      <td>3</td>\n",
       "      <td>ESP</td>\n",
       "      <td>0.369894</td>\n",
       "      <td>1785.0</td>\n",
       "      <td>0.000229</td>\n",
       "      <td>0.588297</td>\n",
       "      <td>1897.0</td>\n",
       "      <td>0.001002</td>\n",
       "      <td>NaN</td>\n",
       "    </tr>\n",
       "  </tbody>\n",
       "</table>\n",
       "<p>5 rows × 29 columns</p>\n",
       "</div>"
      ],
      "text/plain": [
       "     playerShort         player             club leagueCountry    birthday  \\\n",
       "0  lucas-wilchez  Lucas Wilchez    Real Zaragoza         Spain  31.08.1983   \n",
       "1     john-utaka     John Utaka  Montpellier HSC        France  08.01.1982   \n",
       "2    abdon-prats    Abdón Prats     RCD Mallorca         Spain  17.12.1992   \n",
       "3     pablo-mari     Pablo Marí     RCD Mallorca         Spain  31.08.1993   \n",
       "4     ruben-pena     Rubén Peña  Real Valladolid         Spain  18.07.1991   \n",
       "\n",
       "   height  weight              position  games  victories    ...     refNum  \\\n",
       "0   177.0    72.0  Attacking Midfielder      1          0    ...          1   \n",
       "1   179.0    82.0          Right Winger      1          0    ...          2   \n",
       "2   181.0    79.0                   NaN      1          0    ...          3   \n",
       "3   191.0    87.0           Center Back      1          1    ...          3   \n",
       "4   172.0    70.0      Right Midfielder      1          1    ...          3   \n",
       "\n",
       "   refCountry  Alpha_3   meanIAT    nIAT     seIAT   meanExp    nExp  \\\n",
       "0           1      GRC  0.326391   712.0  0.000564  0.396000   750.0   \n",
       "1           2      ZMB  0.203375    40.0  0.010875 -0.204082    49.0   \n",
       "2           3      ESP  0.369894  1785.0  0.000229  0.588297  1897.0   \n",
       "3           3      ESP  0.369894  1785.0  0.000229  0.588297  1897.0   \n",
       "4           3      ESP  0.369894  1785.0  0.000229  0.588297  1897.0   \n",
       "\n",
       "      seExp  skintone  \n",
       "0  0.002696     0.375  \n",
       "1  0.061504     0.750  \n",
       "2  0.001002       NaN  \n",
       "3  0.001002       NaN  \n",
       "4  0.001002       NaN  \n",
       "\n",
       "[5 rows x 29 columns]"
      ]
     },
     "execution_count": 7,
     "metadata": {},
     "output_type": "execute_result"
    }
   ],
   "source": [
    "df['skintone'] = 0.5 * (df['rater1']+df['rater2'])\n",
    "df.head()"
   ]
  },
  {
   "cell_type": "markdown",
   "metadata": {},
   "source": [
    "### Look on skintone\n",
    "As mentioned before, `skintone` is the mean between the two skin-color ratings"
   ]
  },
  {
   "cell_type": "code",
   "execution_count": 8,
   "metadata": {
    "collapsed": false,
    "scrolled": false
   },
   "outputs": [
    {
     "name": "stdout",
     "output_type": "stream",
     "text": [
      "Values not in both: set()\n"
     ]
    }
   ],
   "source": [
    "df_skinton = df[[\"playerShort\", \"skintone\"]].reset_index().groupby('playerShort', axis=0).mean()\n",
    "mean_skin = set(df_skinton['skintone'].dropna().unique().tolist())\n",
    "\n",
    "unique_skin = set(df['skintone'].dropna().unique().tolist())\n",
    "\n",
    "print(\"Values not in both: {}\".format(mean_skin.symmetric_difference(unique_skin)))\n"
   ]
  },
  {
   "cell_type": "markdown",
   "metadata": {},
   "source": [
    "One error in the dataset might have been to have several different `skintone` value for the same user. As the previous code suggests, the mean of the `skintone` over a player doesn't create new value (suggesting that all the `skintone` for a player are the same)."
   ]
  },
  {
   "cell_type": "code",
   "execution_count": 9,
   "metadata": {
    "collapsed": false
   },
   "outputs": [
    {
     "data": {
      "text/plain": [
       "<matplotlib.axes._subplots.AxesSubplot at 0x10d855c18>"
      ]
     },
     "execution_count": 9,
     "metadata": {},
     "output_type": "execute_result"
    },
    {
     "data": {
      "image/png": "[encoded data removed]",
      "text/plain": [
       "<matplotlib.figure.Figure at 0x116c50c18>"
      ]
     },
     "metadata": {},
     "output_type": "display_data"
    }
   ],
   "source": [
    "df_skinton['skintone'].dropna().hist()"
   ]
  },
  {
   "cell_type": "markdown",
   "metadata": {},
   "source": [
    "As we can see, there are more players with a white skin than with a dark one. This need to be taken into consideration for the analysis.\n",
    "\n",
    "### Information about players"
   ]
  },
  {
   "cell_type": "code",
   "execution_count": 10,
   "metadata": {
    "collapsed": false
   },
   "outputs": [
    {
     "data": {
      "text/plain": [
       "count    2053.000000\n",
       "mean       71.129079\n",
       "std        36.171246\n",
       "min         1.000000\n",
       "25%        45.000000\n",
       "50%        67.000000\n",
       "75%        92.000000\n",
       "max       202.000000\n",
       "Name: player, dtype: float64"
      ]
     },
     "execution_count": 10,
     "metadata": {},
     "output_type": "execute_result"
    }
   ],
   "source": [
    "referee_per_player = df.groupby('playerShort').count()['player']\n",
    "referee_per_player.describe()"
   ]
  },
  {
   "cell_type": "markdown",
   "metadata": {},
   "source": [
    "We can see that player have played with a lot of different referee, in general. "
   ]
  },
  {
   "cell_type": "code",
   "execution_count": 11,
   "metadata": {
    "collapsed": false
   },
   "outputs": [
    {
     "data": {
      "text/plain": [
       "<matplotlib.text.Text at 0x10c1407f0>"
      ]
     },
     "execution_count": 11,
     "metadata": {},
     "output_type": "execute_result"
    },
    {
     "data": {
      "image/png": "[encoded data removed]",
      "text/plain": [
       "<matplotlib.figure.Figure at 0x10bdd2e10>"
      ]
     },
     "metadata": {},
     "output_type": "display_data"
    }
   ],
   "source": [
    "referee_per_player.hist()\n",
    "plt.title('Number of referee per player')"
   ]
  },
  {
   "cell_type": "markdown",
   "metadata": {},
   "source": [
    "One issue that might arise is for player having played with only a few referee. Let arbitrarly check for player have played with less than 5 different referees"
   ]
  },
  {
   "cell_type": "code",
   "execution_count": 12,
   "metadata": {
    "collapsed": false
   },
   "outputs": [
    {
     "data": {
      "text/plain": [
       "39"
      ]
     },
     "execution_count": 12,
     "metadata": {},
     "output_type": "execute_result"
    }
   ],
   "source": [
    "(referee_per_player < 5).sum()"
   ]
  },
  {
   "cell_type": "markdown",
   "metadata": {},
   "source": [
    "Let see the full data for these players"
   ]
  },
  {
   "cell_type": "code",
   "execution_count": 13,
   "metadata": {
    "collapsed": false
   },
   "outputs": [
    {
     "name": "stdout",
     "output_type": "stream",
     "text": [
      "P(no skintone | player has less 5 different referees) = 79.7%\n"
     ]
    },
    {
     "name": "stderr",
     "output_type": "stream",
     "text": [
      "/Users/flo/anaconda3/envs/adaenv/lib/python3.5/site-packages/ipykernel/__main__.py:1: UserWarning: Boolean Series key will be reindexed to match DataFrame index.\n",
      "  if __name__ == '__main__':\n"
     ]
    }
   ],
   "source": [
    "player_low_n_referees = df.set_index('playerShort')[referee_per_player < 5]\n",
    "player_low_referee_ratio = player_low_n_referees['skintone'].isnull().mean()\n",
    "\n",
    "print(\"P(no skintone | player has less 5 different referees) = {:0.1f}%\".format(player_low_referee_ratio * 100))"
   ]
  },
  {
   "cell_type": "markdown",
   "metadata": {},
   "source": [
    "As we can see, we don't have skintone information for roughly 80% of the players that have less than 5 different referees. This means that it might be hard to predict the skintone for these players.\n",
    "\n",
    "The situation might be very significant for player having only one referee linked to it."
   ]
  },
  {
   "cell_type": "code",
   "execution_count": 14,
   "metadata": {
    "collapsed": false
   },
   "outputs": [
    {
     "name": "stdout",
     "output_type": "stream",
     "text": [
      "P(no skintone information | player has only one referee linked to him) = 77.8%\n"
     ]
    },
    {
     "name": "stderr",
     "output_type": "stream",
     "text": [
      "/Users/flo/anaconda3/envs/adaenv/lib/python3.5/site-packages/ipykernel/__main__.py:1: UserWarning: Boolean Series key will be reindexed to match DataFrame index.\n",
      "  if __name__ == '__main__':\n"
     ]
    }
   ],
   "source": [
    "player_one_referee = df.set_index('playerShort')[referee_per_player == 1]\n",
    "player_one_referee_ratio = player_one_referee['skintone'].isnull().mean()\n",
    "\n",
    "print(\"P(no skintone information | player has only one referee linked to him) = {:0.1f}%\".format(player_one_referee_ratio*100))"
   ]
  },
  {
   "cell_type": "markdown",
   "metadata": {},
   "source": [
    "For these players, it might be harder to infer skintone."
   ]
  },
  {
   "cell_type": "markdown",
   "metadata": {
    "collapsed": true
   },
   "source": [
    "### Numerize categories\n",
    "Some field are categories but with a string representation. This breaks the random forest algorithm. In this part, we categorize the field as numeric value. \n",
    "\n",
    "** Remark **: Using numeric field has the issue of being ordered (where the categories aren't ordered). But, one alternative is to use dummy features. At this part of the process, dummies features would add a lot of explanatory variable. Therefore, we don't create dummy features yet."
   ]
  },
  {
   "cell_type": "code",
   "execution_count": 15,
   "metadata": {
    "collapsed": false
   },
   "outputs": [
    {
     "data": {
      "text/html": [
       "<div>\n",
       "<table border=\"1\" class=\"dataframe\">\n",
       "  <thead>\n",
       "    <tr style=\"text-align: right;\">\n",
       "      <th></th>\n",
       "      <th>playerShort</th>\n",
       "      <th>player</th>\n",
       "      <th>club</th>\n",
       "      <th>leagueCountry</th>\n",
       "      <th>birthday</th>\n",
       "      <th>height</th>\n",
       "      <th>weight</th>\n",
       "      <th>position</th>\n",
       "      <th>games</th>\n",
       "      <th>victories</th>\n",
       "      <th>...</th>\n",
       "      <th>refNum</th>\n",
       "      <th>refCountry</th>\n",
       "      <th>Alpha_3</th>\n",
       "      <th>meanIAT</th>\n",
       "      <th>nIAT</th>\n",
       "      <th>seIAT</th>\n",
       "      <th>meanExp</th>\n",
       "      <th>nExp</th>\n",
       "      <th>seExp</th>\n",
       "      <th>skintone</th>\n",
       "    </tr>\n",
       "  </thead>\n",
       "  <tbody>\n",
       "    <tr>\n",
       "      <th>0</th>\n",
       "      <td>lucas-wilchez</td>\n",
       "      <td>Lucas Wilchez</td>\n",
       "      <td>82</td>\n",
       "      <td>3</td>\n",
       "      <td>31.08.1983</td>\n",
       "      <td>177.0</td>\n",
       "      <td>72.0</td>\n",
       "      <td>0</td>\n",
       "      <td>1</td>\n",
       "      <td>0</td>\n",
       "      <td>...</td>\n",
       "      <td>1</td>\n",
       "      <td>1</td>\n",
       "      <td>60</td>\n",
       "      <td>0.326391</td>\n",
       "      <td>712.0</td>\n",
       "      <td>0.000564</td>\n",
       "      <td>0.396000</td>\n",
       "      <td>750.0</td>\n",
       "      <td>0.002696</td>\n",
       "      <td>3.0</td>\n",
       "    </tr>\n",
       "    <tr>\n",
       "      <th>1</th>\n",
       "      <td>john-utaka</td>\n",
       "      <td>John Utaka</td>\n",
       "      <td>62</td>\n",
       "      <td>1</td>\n",
       "      <td>08.01.1982</td>\n",
       "      <td>179.0</td>\n",
       "      <td>82.0</td>\n",
       "      <td>12</td>\n",
       "      <td>1</td>\n",
       "      <td>0</td>\n",
       "      <td>...</td>\n",
       "      <td>2</td>\n",
       "      <td>2</td>\n",
       "      <td>159</td>\n",
       "      <td>0.203375</td>\n",
       "      <td>40.0</td>\n",
       "      <td>0.010875</td>\n",
       "      <td>-0.204082</td>\n",
       "      <td>49.0</td>\n",
       "      <td>0.061504</td>\n",
       "      <td>6.0</td>\n",
       "    </tr>\n",
       "    <tr>\n",
       "      <th>2</th>\n",
       "      <td>abdon-prats</td>\n",
       "      <td>Abdón Prats</td>\n",
       "      <td>73</td>\n",
       "      <td>3</td>\n",
       "      <td>17.12.1992</td>\n",
       "      <td>181.0</td>\n",
       "      <td>79.0</td>\n",
       "      <td>9</td>\n",
       "      <td>1</td>\n",
       "      <td>0</td>\n",
       "      <td>...</td>\n",
       "      <td>3</td>\n",
       "      <td>3</td>\n",
       "      <td>47</td>\n",
       "      <td>0.369894</td>\n",
       "      <td>1785.0</td>\n",
       "      <td>0.000229</td>\n",
       "      <td>0.588297</td>\n",
       "      <td>1897.0</td>\n",
       "      <td>0.001002</td>\n",
       "      <td>NaN</td>\n",
       "    </tr>\n",
       "    <tr>\n",
       "      <th>3</th>\n",
       "      <td>pablo-mari</td>\n",
       "      <td>Pablo Marí</td>\n",
       "      <td>73</td>\n",
       "      <td>3</td>\n",
       "      <td>31.08.1993</td>\n",
       "      <td>191.0</td>\n",
       "      <td>87.0</td>\n",
       "      <td>1</td>\n",
       "      <td>1</td>\n",
       "      <td>1</td>\n",
       "      <td>...</td>\n",
       "      <td>3</td>\n",
       "      <td>3</td>\n",
       "      <td>47</td>\n",
       "      <td>0.369894</td>\n",
       "      <td>1785.0</td>\n",
       "      <td>0.000229</td>\n",
       "      <td>0.588297</td>\n",
       "      <td>1897.0</td>\n",
       "      <td>0.001002</td>\n",
       "      <td>NaN</td>\n",
       "    </tr>\n",
       "    <tr>\n",
       "      <th>4</th>\n",
       "      <td>ruben-pena</td>\n",
       "      <td>Rubén Peña</td>\n",
       "      <td>81</td>\n",
       "      <td>3</td>\n",
       "      <td>18.07.1991</td>\n",
       "      <td>172.0</td>\n",
       "      <td>70.0</td>\n",
       "      <td>11</td>\n",
       "      <td>1</td>\n",
       "      <td>1</td>\n",
       "      <td>...</td>\n",
       "      <td>3</td>\n",
       "      <td>3</td>\n",
       "      <td>47</td>\n",
       "      <td>0.369894</td>\n",
       "      <td>1785.0</td>\n",
       "      <td>0.000229</td>\n",
       "      <td>0.588297</td>\n",
       "      <td>1897.0</td>\n",
       "      <td>0.001002</td>\n",
       "      <td>NaN</td>\n",
       "    </tr>\n",
       "    <tr>\n",
       "      <th>5</th>\n",
       "      <td>aaron-hughes</td>\n",
       "      <td>Aaron Hughes</td>\n",
       "      <td>42</td>\n",
       "      <td>0</td>\n",
       "      <td>08.11.1979</td>\n",
       "      <td>182.0</td>\n",
       "      <td>71.0</td>\n",
       "      <td>1</td>\n",
       "      <td>1</td>\n",
       "      <td>0</td>\n",
       "      <td>...</td>\n",
       "      <td>4</td>\n",
       "      <td>4</td>\n",
       "      <td>89</td>\n",
       "      <td>0.325185</td>\n",
       "      <td>127.0</td>\n",
       "      <td>0.003297</td>\n",
       "      <td>0.538462</td>\n",
       "      <td>130.0</td>\n",
       "      <td>0.013752</td>\n",
       "      <td>1.0</td>\n",
       "    </tr>\n",
       "    <tr>\n",
       "      <th>6</th>\n",
       "      <td>aleksandar-kolarov</td>\n",
       "      <td>Aleksandar Kolarov</td>\n",
       "      <td>59</td>\n",
       "      <td>0</td>\n",
       "      <td>10.11.1985</td>\n",
       "      <td>187.0</td>\n",
       "      <td>80.0</td>\n",
       "      <td>6</td>\n",
       "      <td>1</td>\n",
       "      <td>1</td>\n",
       "      <td>...</td>\n",
       "      <td>4</td>\n",
       "      <td>4</td>\n",
       "      <td>89</td>\n",
       "      <td>0.325185</td>\n",
       "      <td>127.0</td>\n",
       "      <td>0.003297</td>\n",
       "      <td>0.538462</td>\n",
       "      <td>130.0</td>\n",
       "      <td>0.013752</td>\n",
       "      <td>1.0</td>\n",
       "    </tr>\n",
       "    <tr>\n",
       "      <th>7</th>\n",
       "      <td>alexander-tettey</td>\n",
       "      <td>Alexander Tettey</td>\n",
       "      <td>65</td>\n",
       "      <td>0</td>\n",
       "      <td>04.04.1986</td>\n",
       "      <td>180.0</td>\n",
       "      <td>68.0</td>\n",
       "      <td>4</td>\n",
       "      <td>1</td>\n",
       "      <td>0</td>\n",
       "      <td>...</td>\n",
       "      <td>4</td>\n",
       "      <td>4</td>\n",
       "      <td>89</td>\n",
       "      <td>0.325185</td>\n",
       "      <td>127.0</td>\n",
       "      <td>0.003297</td>\n",
       "      <td>0.538462</td>\n",
       "      <td>130.0</td>\n",
       "      <td>0.013752</td>\n",
       "      <td>8.0</td>\n",
       "    </tr>\n",
       "    <tr>\n",
       "      <th>8</th>\n",
       "      <td>anders-lindegaard</td>\n",
       "      <td>Anders Lindegaard</td>\n",
       "      <td>60</td>\n",
       "      <td>0</td>\n",
       "      <td>13.04.1984</td>\n",
       "      <td>193.0</td>\n",
       "      <td>80.0</td>\n",
       "      <td>5</td>\n",
       "      <td>1</td>\n",
       "      <td>0</td>\n",
       "      <td>...</td>\n",
       "      <td>4</td>\n",
       "      <td>4</td>\n",
       "      <td>89</td>\n",
       "      <td>0.325185</td>\n",
       "      <td>127.0</td>\n",
       "      <td>0.003297</td>\n",
       "      <td>0.538462</td>\n",
       "      <td>130.0</td>\n",
       "      <td>0.013752</td>\n",
       "      <td>2.0</td>\n",
       "    </tr>\n",
       "    <tr>\n",
       "      <th>9</th>\n",
       "      <td>andreas-beck</td>\n",
       "      <td>Andreas Beck</td>\n",
       "      <td>2</td>\n",
       "      <td>2</td>\n",
       "      <td>13.03.1987</td>\n",
       "      <td>180.0</td>\n",
       "      <td>70.0</td>\n",
       "      <td>10</td>\n",
       "      <td>1</td>\n",
       "      <td>1</td>\n",
       "      <td>...</td>\n",
       "      <td>4</td>\n",
       "      <td>4</td>\n",
       "      <td>89</td>\n",
       "      <td>0.325185</td>\n",
       "      <td>127.0</td>\n",
       "      <td>0.003297</td>\n",
       "      <td>0.538462</td>\n",
       "      <td>130.0</td>\n",
       "      <td>0.013752</td>\n",
       "      <td>0.0</td>\n",
       "    </tr>\n",
       "  </tbody>\n",
       "</table>\n",
       "<p>10 rows × 29 columns</p>\n",
       "</div>"
      ],
      "text/plain": [
       "          playerShort              player  club  leagueCountry    birthday  \\\n",
       "0       lucas-wilchez       Lucas Wilchez    82              3  31.08.1983   \n",
       "1          john-utaka          John Utaka    62              1  08.01.1982   \n",
       "2         abdon-prats         Abdón Prats    73              3  17.12.1992   \n",
       "3          pablo-mari          Pablo Marí    73              3  31.08.1993   \n",
       "4          ruben-pena          Rubén Peña    81              3  18.07.1991   \n",
       "5        aaron-hughes        Aaron Hughes    42              0  08.11.1979   \n",
       "6  aleksandar-kolarov  Aleksandar Kolarov    59              0  10.11.1985   \n",
       "7    alexander-tettey    Alexander Tettey    65              0  04.04.1986   \n",
       "8   anders-lindegaard   Anders Lindegaard    60              0  13.04.1984   \n",
       "9        andreas-beck        Andreas Beck     2              2  13.03.1987   \n",
       "\n",
       "   height  weight  position  games  victories    ...     refNum  refCountry  \\\n",
       "0   177.0    72.0         0      1          0    ...          1           1   \n",
       "1   179.0    82.0        12      1          0    ...          2           2   \n",
       "2   181.0    79.0         9      1          0    ...          3           3   \n",
       "3   191.0    87.0         1      1          1    ...          3           3   \n",
       "4   172.0    70.0        11      1          1    ...          3           3   \n",
       "5   182.0    71.0         1      1          0    ...          4           4   \n",
       "6   187.0    80.0         6      1          1    ...          4           4   \n",
       "7   180.0    68.0         4      1          0    ...          4           4   \n",
       "8   193.0    80.0         5      1          0    ...          4           4   \n",
       "9   180.0    70.0        10      1          1    ...          4           4   \n",
       "\n",
       "   Alpha_3   meanIAT    nIAT     seIAT   meanExp    nExp     seExp  skintone  \n",
       "0       60  0.326391   712.0  0.000564  0.396000   750.0  0.002696       3.0  \n",
       "1      159  0.203375    40.0  0.010875 -0.204082    49.0  0.061504       6.0  \n",
       "2       47  0.369894  1785.0  0.000229  0.588297  1897.0  0.001002       NaN  \n",
       "3       47  0.369894  1785.0  0.000229  0.588297  1897.0  0.001002       NaN  \n",
       "4       47  0.369894  1785.0  0.000229  0.588297  1897.0  0.001002       NaN  \n",
       "5       89  0.325185   127.0  0.003297  0.538462   130.0  0.013752       1.0  \n",
       "6       89  0.325185   127.0  0.003297  0.538462   130.0  0.013752       1.0  \n",
       "7       89  0.325185   127.0  0.003297  0.538462   130.0  0.013752       8.0  \n",
       "8       89  0.325185   127.0  0.003297  0.538462   130.0  0.013752       2.0  \n",
       "9       89  0.325185   127.0  0.003297  0.538462   130.0  0.013752       0.0  \n",
       "\n",
       "[10 rows x 29 columns]"
      ]
     },
     "execution_count": 15,
     "metadata": {},
     "output_type": "execute_result"
    }
   ],
   "source": [
    "LABEL_FIELDS = ['club', 'leagueCountry', 'position', 'Alpha_3']\n",
    "UNKNOWN_LABEL = 'MISSING'\n",
    "\n",
    "label_encoders = {}\n",
    "\n",
    "from sklearn.preprocessing import LabelEncoder\n",
    "\n",
    "df_categorized = df.copy()\n",
    "\n",
    "for label in LABEL_FIELDS:\n",
    "    encoder = LabelEncoder()\n",
    "    values = df_categorized[label].fillna(UNKNOWN_LABEL, inplace=False)\n",
    "    encoder.fit(values)\n",
    "    transformed = encoder.transform(values)\n",
    "    df_categorized[label] = transformed\n",
    "    \n",
    "    label_encoders[label] = encoder\n",
    "    \n",
    "    \n",
    "# Special case for the skintone where we need to keep NaN values\n",
    "encoder = LabelEncoder()\n",
    "skintone = df_categorized['skintone']\n",
    "skintone = skintone[skintone.notnull()]\n",
    "encoder.fit(skintone)\n",
    "df_categorized.loc[skintone.index, 'skintone'] = encoder.transform(skintone)\n",
    "label_encoders['skintone'] = encoder\n",
    "\n",
    "df_categorized.head(10)"
   ]
  },
  {
   "cell_type": "markdown",
   "metadata": {},
   "source": [
    "# Predicting\n",
    "This part focuses on predicting the `skintone`.\n",
    "\n",
    "## Baseline\n",
    "First, let try to do a naive classification with the metric:\n",
    "$$\n",
    "cost(p) = \\sum_{a \\in A(p)} \\cfrac{IAT(a)(\\text{Yellow}(p, a) + 3\\text{Reds}(p,a))}{\\sum_{a\\in A(p)} \\text{Game}(a, p)},\n",
    "$$\n",
    "where $IAT(a)$ is the IAT of the referee $a$, Yellow$(p,a)$ is the number of yellow cards given by $a$ to player $p$, and reds is the number of red cards (similarly than for the yellow), Game$(a,p)$ is the number of games played between $p$ and $a$.\n",
    "\n",
    "We slighlty count that reds are more importants then yellows. Also, note that with this metric the red cards reveived by successive yellow cards are counted more than red cards given directly."
   ]
  },
  {
   "cell_type": "code",
   "execution_count": 16,
   "metadata": {
    "collapsed": false
   },
   "outputs": [
    {
     "name": "stdout",
     "output_type": "stream",
     "text": [
      "     playerShort         player  club  leagueCountry    birthday  height  \\\n",
      "0  lucas-wilchez  Lucas Wilchez    82              3  31.08.1983   177.0   \n",
      "1     john-utaka     John Utaka    62              1  08.01.1982   179.0   \n",
      "2    abdon-prats    Abdón Prats    73              3  17.12.1992   181.0   \n",
      "3     pablo-mari     Pablo Marí    73              3  31.08.1993   191.0   \n",
      "4     ruben-pena     Rubén Peña    81              3  18.07.1991   172.0   \n",
      "\n",
      "   weight  position  games  victories  ties  defeats  goals  yellowCards  \\\n",
      "0    72.0         0      1          0     0        1      0            0   \n",
      "1    82.0        12      1          0     0        1      0            1   \n",
      "2    79.0         9      1          0     1        0      0            1   \n",
      "3    87.0         1      1          1     0        0      0            0   \n",
      "4    70.0        11      1          1     0        0      0            0   \n",
      "\n",
      "   yellowReds  redCards    photoID  rater1  rater2  refNum  refCountry  \\\n",
      "0           0         0  95212.jpg    0.25    0.50       1           1   \n",
      "1           0         0   1663.jpg    0.75    0.75       2           2   \n",
      "2           0         0        NaN     NaN     NaN       3           3   \n",
      "3           0         0        NaN     NaN     NaN       3           3   \n",
      "4           0         0        NaN     NaN     NaN       3           3   \n",
      "\n",
      "   Alpha_3   meanIAT    nIAT     seIAT   meanExp    nExp     seExp  skintone  \n",
      "0       60  0.326391   712.0  0.000564  0.396000   750.0  0.002696       3.0  \n",
      "1      159  0.203375    40.0  0.010875 -0.204082    49.0  0.061504       6.0  \n",
      "2       47  0.369894  1785.0  0.000229  0.588297  1897.0  0.001002       NaN  \n",
      "3       47  0.369894  1785.0  0.000229  0.588297  1897.0  0.001002       NaN  \n",
      "4       47  0.369894  1785.0  0.000229  0.588297  1897.0  0.001002       NaN  \n"
     ]
    }
   ],
   "source": [
    "with pd.option_context('display.max_columns', 100):\n",
    "    print(df_categorized.head(5))"
   ]
  },
  {
   "cell_type": "code",
   "execution_count": 17,
   "metadata": {
    "collapsed": false
   },
   "outputs": [],
   "source": [
    "df_subset = df_categorized[['playerShort', 'club', 'leagueCountry', 'position','games', 'yellowCards', 'redCards', 'meanIAT', 'skintone']].copy()\n",
    "\n",
    "for f in ['meanIAT', 'yellowCards', 'redCards']:\n",
    "    df_subset[f].fillna(0, inplace=True)\n",
    "\n",
    "df_subset[\"cost\"] = df_subset['meanIAT']*(df_subset['yellowCards'] + 3*df_subset['redCards']) / df_subset['games']"
   ]
  },
  {
   "cell_type": "code",
   "execution_count": 18,
   "metadata": {
    "collapsed": false
   },
   "outputs": [
    {
     "name": "stdout",
     "output_type": "stream",
     "text": [
      "All tested fields are unique for a player\n"
     ]
    }
   ],
   "source": [
    "def check_field_uniqueness_per_player(df, field):\n",
    "    \"\"\"\n",
    "    Check if the field is unique on a user basis\n",
    "    Example:\n",
    "      - Player one: [1,1,1,1]  -> Unique \n",
    "      - Player two: [1,1,1,2]  -> Non-unique\n",
    "      - Player three: [2,2,2]  -> Unique (even if not the same as player one)\n",
    "\n",
    "    Return if uniqueness holds for every player.\n",
    "    \"\"\"\n",
    "    fields = list(set(['playerShort', field]))\n",
    "    number_different_value_per_player = df[fields].groupby('playerShort')[field].nunique()\n",
    "        \n",
    "    return not any(number_different_value_per_player > 1)\n",
    "\n",
    "non_unique_fields = []\n",
    "for f in ['club', 'leagueCountry', 'position', 'skintone']:\n",
    "    if not check_field_uniqueness_per_player(df_subset, f):\n",
    "        non_unique_fields.append(f)\n",
    "        \n",
    "if len(non_unique_fields) > 0:\n",
    "    print(\"Non-unique fields: {}\".format(non_unique_fields))\n",
    "else:\n",
    "    print(\"All tested fields are unique for a player\")\n"
   ]
  },
  {
   "cell_type": "markdown",
   "metadata": {},
   "source": [
    "As we can see, each tested field is unique per player. This means that the data is quite clean (there is no case where the player-specific data is different between two player-referee dyad). Thus, for these fields, we can take an element of the grouped list as aggregator function."
   ]
  },
  {
   "cell_type": "code",
   "execution_count": 19,
   "metadata": {
    "collapsed": true
   },
   "outputs": [],
   "source": [
    "def pick_first(elements):\n",
    "    \"\"\"\n",
    "    Aggregator for fields where each element are the same\n",
    "    \"\"\"\n",
    "    return elements.iloc[0]"
   ]
  },
  {
   "cell_type": "code",
   "execution_count": 20,
   "metadata": {
    "collapsed": false
   },
   "outputs": [
    {
     "data": {
      "text/html": [
       "<div>\n",
       "<table border=\"1\" class=\"dataframe\">\n",
       "  <thead>\n",
       "    <tr style=\"text-align: right;\">\n",
       "      <th></th>\n",
       "      <th>leagueCountry</th>\n",
       "      <th>cost</th>\n",
       "      <th>position</th>\n",
       "      <th>club</th>\n",
       "      <th>skintone</th>\n",
       "    </tr>\n",
       "    <tr>\n",
       "      <th>playerShort</th>\n",
       "      <th></th>\n",
       "      <th></th>\n",
       "      <th></th>\n",
       "      <th></th>\n",
       "      <th></th>\n",
       "    </tr>\n",
       "  </thead>\n",
       "  <tbody>\n",
       "    <tr>\n",
       "      <th>aaron-hughes</th>\n",
       "      <td>0</td>\n",
       "      <td>1.953444</td>\n",
       "      <td>1</td>\n",
       "      <td>42</td>\n",
       "      <td>1.0</td>\n",
       "    </tr>\n",
       "    <tr>\n",
       "      <th>aaron-hunt</th>\n",
       "      <td>2</td>\n",
       "      <td>3.583045</td>\n",
       "      <td>0</td>\n",
       "      <td>110</td>\n",
       "      <td>1.0</td>\n",
       "    </tr>\n",
       "    <tr>\n",
       "      <th>aaron-lennon</th>\n",
       "      <td>0</td>\n",
       "      <td>0.643299</td>\n",
       "      <td>11</td>\n",
       "      <td>100</td>\n",
       "      <td>2.0</td>\n",
       "    </tr>\n",
       "    <tr>\n",
       "      <th>aaron-ramsey</th>\n",
       "      <td>0</td>\n",
       "      <td>5.252303</td>\n",
       "      <td>3</td>\n",
       "      <td>8</td>\n",
       "      <td>0.0</td>\n",
       "    </tr>\n",
       "    <tr>\n",
       "      <th>abdelhamid-el-kaoutari</th>\n",
       "      <td>1</td>\n",
       "      <td>1.171792</td>\n",
       "      <td>1</td>\n",
       "      <td>62</td>\n",
       "      <td>2.0</td>\n",
       "    </tr>\n",
       "    <tr>\n",
       "      <th>abdon-prats</th>\n",
       "      <td>3</td>\n",
       "      <td>2.034415</td>\n",
       "      <td>9</td>\n",
       "      <td>73</td>\n",
       "      <td>NaN</td>\n",
       "    </tr>\n",
       "    <tr>\n",
       "      <th>abdou-dampha</th>\n",
       "      <td>1</td>\n",
       "      <td>1.179793</td>\n",
       "      <td>0</td>\n",
       "      <td>5</td>\n",
       "      <td>NaN</td>\n",
       "    </tr>\n",
       "    <tr>\n",
       "      <th>abdou-traore_2</th>\n",
       "      <td>1</td>\n",
       "      <td>1.332483</td>\n",
       "      <td>11</td>\n",
       "      <td>44</td>\n",
       "      <td>6.0</td>\n",
       "    </tr>\n",
       "    <tr>\n",
       "      <th>abdoul-camara</th>\n",
       "      <td>1</td>\n",
       "      <td>0.979174</td>\n",
       "      <td>8</td>\n",
       "      <td>40</td>\n",
       "      <td>NaN</td>\n",
       "    </tr>\n",
       "    <tr>\n",
       "      <th>abdoulaye-diallo_2</th>\n",
       "      <td>1</td>\n",
       "      <td>0.000000</td>\n",
       "      <td>5</td>\n",
       "      <td>95</td>\n",
       "      <td>7.0</td>\n",
       "    </tr>\n",
       "  </tbody>\n",
       "</table>\n",
       "</div>"
      ],
      "text/plain": [
       "                        leagueCountry      cost  position  club  skintone\n",
       "playerShort                                                              \n",
       "aaron-hughes                        0  1.953444         1    42       1.0\n",
       "aaron-hunt                          2  3.583045         0   110       1.0\n",
       "aaron-lennon                        0  0.643299        11   100       2.0\n",
       "aaron-ramsey                        0  5.252303         3     8       0.0\n",
       "abdelhamid-el-kaoutari              1  1.171792         1    62       2.0\n",
       "abdon-prats                         3  2.034415         9    73       NaN\n",
       "abdou-dampha                        1  1.179793         0     5       NaN\n",
       "abdou-traore_2                      1  1.332483        11    44       6.0\n",
       "abdoul-camara                       1  0.979174         8    40       NaN\n",
       "abdoulaye-diallo_2                  1  0.000000         5    95       7.0"
      ]
     },
     "execution_count": 20,
     "metadata": {},
     "output_type": "execute_result"
    }
   ],
   "source": [
    "df_grouped = df_subset.groupby('playerShort')\n",
    "\n",
    "df_final = df_grouped.agg({\n",
    "        'club': pick_first,\n",
    "        'leagueCountry': pick_first,\n",
    "        'position': pick_first,\n",
    "        'cost': 'sum',\n",
    "        'skintone': pick_first\n",
    "    })\n",
    "\n",
    "\n",
    "df_final.head(10)"
   ]
  },
  {
   "cell_type": "markdown",
   "metadata": {},
   "source": [
    "### Training"
   ]
  },
  {
   "cell_type": "code",
   "execution_count": 21,
   "metadata": {
    "collapsed": false
   },
   "outputs": [
    {
     "name": "stdout",
     "output_type": "stream",
     "text": [
      "[1, 2, 3, 4]\n"
     ]
    }
   ],
   "source": [
    "def split_training_predicting(df, y_label):\n",
    "    \"\"\"\n",
    "    Given a y_label, return the training set (where y_label != NaN), and the predict set\n",
    "    (where y_label == NaN).\n",
    "    \"\"\"\n",
    "    x_predict = df[df[y_label].isnull()].drop(y_label, 1)\n",
    "    \n",
    "    training = df[df[y_label].notnull()]\n",
    "    y_training = training[y_label]\n",
    "    x_training = training.drop(y_label, 1)\n",
    "    \n",
    "    return (x_training, y_training, x_predict)\n",
    "\n",
    "(x_training, y_training, x_predict) = split_training_predicting(df_final, 'skintone')\n",
    "\n",
    "number_of_estimators = list(range(5,100,5))\n",
    "max_features = list(range(1,df_final.shape[1]))\n",
    "\n",
    "print(max_features)\n",
    "\n",
    "params = {\n",
    "    'n_estimators': number_of_estimators,\n",
    "    'max_features': max_features,\n",
    "}\n",
    "\n",
    "from sklearn.ensemble import RandomForestClassifier\n",
    "from sklearn.model_selection import GridSearchCV\n",
    "\n",
    "estimator = RandomForestClassifier(n_jobs=1)    # Strange, looks to work better with 1 job than with max number\n",
    "gscv = GridSearchCV(estimator, params, cv=10)\n",
    "cv_result = gscv.fit(x_training, list(y_training))"
   ]
  },
  {
   "cell_type": "code",
   "execution_count": 22,
   "metadata": {
    "collapsed": false
   },
   "outputs": [
    {
     "name": "stdout",
     "output_type": "stream",
     "text": [
      "0.31356466877\n"
     ]
    },
    {
     "data": {
      "text/plain": [
       "{'max_features': 2, 'n_estimators': 30}"
      ]
     },
     "execution_count": 22,
     "metadata": {},
     "output_type": "execute_result"
    }
   ],
   "source": [
    "print(cv_result.best_score_)\n",
    "cv_result.best_params_"
   ]
  },
  {
   "cell_type": "markdown",
   "metadata": {},
   "source": [
    "### Learning curve \n",
    "Now that we've a good set of parameter, we can plot the learning curves"
   ]
  },
  {
   "cell_type": "code",
   "execution_count": 29,
   "metadata": {
    "collapsed": false
   },
   "outputs": [
    {
     "data": {
      "text/plain": [
       "<module 'matplotlib.pyplot' from '/Users/flo/anaconda3/envs/adaenv/lib/python3.5/site-packages/matplotlib/pyplot.py'>"
      ]
     },
     "execution_count": 29,
     "metadata": {},
     "output_type": "execute_result"
    },
    {
     "data": {
      "image/png": "[encoded data removed]",
      "text/plain": [
       "<matplotlib.figure.Figure at 0x10ea3d780>"
      ]
     },
     "metadata": {},
     "output_type": "display_data"
    }
   ],
   "source": [
    "import helpers\n",
    "\n",
    "from sklearn.dummy import DummyClassifier\n",
    "\n",
    "estimator = RandomForestClassifier(max_features=cv_result.best_params_['max_features'], n_estimators=cv_result.best_params_['n_estimators'])\n",
    "dummy_estimator = DummyClassifier()\n",
    "\n",
    "helpers.plot_learning_curve(estimator, 'Baseline classification', x_training, y_training,n_jobs=-1, cv=20, dummy=dummy_estimator)"
   ]
  },
  {
   "cell_type": "markdown",
   "metadata": {},
   "source": [
    "As [this guide](http://scikit-learn.org/stable/modules/model_evaluation.html) explains, Scikit is based on maximizing the score. As we can see, the _Cross-validation score_ is quite low. Hoepfully, a dummy classifier is slightly less efficient."
   ]
  },
  {
   "cell_type": "markdown",
   "metadata": {},
   "source": [
    "## Regression\n",
    "It's possible to interpret the skintone as a continuous value, thus we can predict it using a RandomForestRegressor.\n",
    "\n",
    "First, we need to have continuous $y$ values:"
   ]
  },
  {
   "cell_type": "code",
   "execution_count": 31,
   "metadata": {
    "collapsed": false
   },
   "outputs": [
    {
     "data": {
      "text/html": [
       "<div>\n",
       "<table border=\"1\" class=\"dataframe\">\n",
       "  <thead>\n",
       "    <tr style=\"text-align: right;\">\n",
       "      <th></th>\n",
       "      <th>leagueCountry</th>\n",
       "      <th>cost</th>\n",
       "      <th>position</th>\n",
       "      <th>club</th>\n",
       "      <th>skintone</th>\n",
       "    </tr>\n",
       "    <tr>\n",
       "      <th>playerShort</th>\n",
       "      <th></th>\n",
       "      <th></th>\n",
       "      <th></th>\n",
       "      <th></th>\n",
       "      <th></th>\n",
       "    </tr>\n",
       "  </thead>\n",
       "  <tbody>\n",
       "    <tr>\n",
       "      <th>aaron-hughes</th>\n",
       "      <td>0</td>\n",
       "      <td>1.953444</td>\n",
       "      <td>1</td>\n",
       "      <td>42</td>\n",
       "      <td>0.125</td>\n",
       "    </tr>\n",
       "    <tr>\n",
       "      <th>aaron-hunt</th>\n",
       "      <td>2</td>\n",
       "      <td>3.583045</td>\n",
       "      <td>0</td>\n",
       "      <td>110</td>\n",
       "      <td>0.125</td>\n",
       "    </tr>\n",
       "    <tr>\n",
       "      <th>aaron-lennon</th>\n",
       "      <td>0</td>\n",
       "      <td>0.643299</td>\n",
       "      <td>11</td>\n",
       "      <td>100</td>\n",
       "      <td>0.250</td>\n",
       "    </tr>\n",
       "    <tr>\n",
       "      <th>aaron-ramsey</th>\n",
       "      <td>0</td>\n",
       "      <td>5.252303</td>\n",
       "      <td>3</td>\n",
       "      <td>8</td>\n",
       "      <td>0.000</td>\n",
       "    </tr>\n",
       "    <tr>\n",
       "      <th>abdelhamid-el-kaoutari</th>\n",
       "      <td>1</td>\n",
       "      <td>1.171792</td>\n",
       "      <td>1</td>\n",
       "      <td>62</td>\n",
       "      <td>0.250</td>\n",
       "    </tr>\n",
       "    <tr>\n",
       "      <th>abdon-prats</th>\n",
       "      <td>3</td>\n",
       "      <td>2.034415</td>\n",
       "      <td>9</td>\n",
       "      <td>73</td>\n",
       "      <td>NaN</td>\n",
       "    </tr>\n",
       "    <tr>\n",
       "      <th>abdou-dampha</th>\n",
       "      <td>1</td>\n",
       "      <td>1.179793</td>\n",
       "      <td>0</td>\n",
       "      <td>5</td>\n",
       "      <td>NaN</td>\n",
       "    </tr>\n",
       "    <tr>\n",
       "      <th>abdou-traore_2</th>\n",
       "      <td>1</td>\n",
       "      <td>1.332483</td>\n",
       "      <td>11</td>\n",
       "      <td>44</td>\n",
       "      <td>0.750</td>\n",
       "    </tr>\n",
       "    <tr>\n",
       "      <th>abdoul-camara</th>\n",
       "      <td>1</td>\n",
       "      <td>0.979174</td>\n",
       "      <td>8</td>\n",
       "      <td>40</td>\n",
       "      <td>NaN</td>\n",
       "    </tr>\n",
       "    <tr>\n",
       "      <th>abdoulaye-diallo_2</th>\n",
       "      <td>1</td>\n",
       "      <td>0.000000</td>\n",
       "      <td>5</td>\n",
       "      <td>95</td>\n",
       "      <td>0.875</td>\n",
       "    </tr>\n",
       "  </tbody>\n",
       "</table>\n",
       "</div>"
      ],
      "text/plain": [
       "                        leagueCountry      cost  position  club  skintone\n",
       "playerShort                                                              \n",
       "aaron-hughes                        0  1.953444         1    42     0.125\n",
       "aaron-hunt                          2  3.583045         0   110     0.125\n",
       "aaron-lennon                        0  0.643299        11   100     0.250\n",
       "aaron-ramsey                        0  5.252303         3     8     0.000\n",
       "abdelhamid-el-kaoutari              1  1.171792         1    62     0.250\n",
       "abdon-prats                         3  2.034415         9    73       NaN\n",
       "abdou-dampha                        1  1.179793         0     5       NaN\n",
       "abdou-traore_2                      1  1.332483        11    44     0.750\n",
       "abdoul-camara                       1  0.979174         8    40       NaN\n",
       "abdoulaye-diallo_2                  1  0.000000         5    95     0.875"
      ]
     },
     "execution_count": 31,
     "metadata": {},
     "output_type": "execute_result"
    }
   ],
   "source": [
    "df_subset['skintone'] = df['skintone'].copy()\n",
    "\n",
    "df_grouped = df_subset.groupby('playerShort')\n",
    "\n",
    "df_final = df_grouped.agg({\n",
    "        'club': pick_first,\n",
    "        'leagueCountry': pick_first,\n",
    "        'position': pick_first,\n",
    "        'cost': 'sum',\n",
    "        'skintone': pick_first\n",
    "    })\n",
    "\n",
    "\n",
    "df_final.head(10)"
   ]
  },
  {
   "cell_type": "code",
   "execution_count": 32,
   "metadata": {
    "collapsed": false
   },
   "outputs": [
    {
     "name": "stdout",
     "output_type": "stream",
     "text": [
      "[1, 2, 3, 4]\n"
     ]
    }
   ],
   "source": [
    "(x_training, y_training, x_predict) = split_training_predicting(df_final, 'skintone')\n",
    "\n",
    "number_of_estimators = list(range(5,100,5))\n",
    "max_features = list(range(1,df_final.shape[1]))\n",
    "\n",
    "print(max_features)\n",
    "\n",
    "params = {\n",
    "    'n_estimators': number_of_estimators,\n",
    "    'max_features': max_features,\n",
    "}\n",
    "\n",
    "from sklearn.ensemble import RandomForestRegressor\n",
    "\n",
    "estimator = RandomForestRegressor()\n",
    "gscv = GridSearchCV(estimator, params, cv=10)\n",
    "cv_result = gscv.fit(x_training, list(y_training))"
   ]
  },
  {
   "cell_type": "code",
   "execution_count": 34,
   "metadata": {
    "collapsed": false
   },
   "outputs": [
    {
     "name": "stdout",
     "output_type": "stream",
     "text": [
      "0.015907145399\n",
      "{'max_features': 1, 'n_estimators': 80}\n"
     ]
    }
   ],
   "source": [
    "print(cv_result.best_score_)\n",
    "print(cv_result.best_params_)"
   ]
  },
  {
   "cell_type": "markdown",
   "metadata": {},
   "source": [
    "### Learning curve"
   ]
  },
  {
   "cell_type": "code",
   "execution_count": 36,
   "metadata": {
    "collapsed": false
   },
   "outputs": [
    {
     "ename": "JoblibValueError",
     "evalue": "JoblibValueError\n___________________________________________________________________________\nMultiprocessing exception:\n...........................................................................\n/Users/flo/anaconda3/envs/adaenv/lib/python3.5/runpy.py in _run_module_as_main(mod_name='ipykernel.__main__', alter_argv=1)\n    179         sys.exit(msg)\n    180     main_globals = sys.modules[\"__main__\"].__dict__\n    181     if alter_argv:\n    182         sys.argv[0] = mod_spec.origin\n    183     return _run_code(code, main_globals, None,\n--> 184                      \"__main__\", mod_spec)\n        mod_spec = ModuleSpec(name='ipykernel.__main__', loader=<_f...b/python3.5/site-packages/ipykernel/__main__.py')\n    185 \n    186 def run_module(mod_name, init_globals=None,\n    187                run_name=None, alter_sys=False):\n    188     \"\"\"Execute a module's code without importing it\n\n...........................................................................\n/Users/flo/anaconda3/envs/adaenv/lib/python3.5/runpy.py in _run_code(code=<code object <module> at 0x103165ae0, file \"/Use...3.5/site-packages/ipykernel/__main__.py\", line 1>, run_globals={'__builtins__': <module 'builtins' (built-in)>, '__cached__': '/Users/flo/anaconda3/envs/adaenv/lib/python3.5/s...ges/ipykernel/__pycache__/__main__.cpython-35.pyc', '__doc__': None, '__file__': '/Users/flo/anaconda3/envs/adaenv/lib/python3.5/site-packages/ipykernel/__main__.py', '__loader__': <_frozen_importlib_external.SourceFileLoader object>, '__name__': '__main__', '__package__': 'ipykernel', '__spec__': ModuleSpec(name='ipykernel.__main__', loader=<_f...b/python3.5/site-packages/ipykernel/__main__.py'), 'app': <module 'ipykernel.kernelapp' from '/Users/flo/a.../python3.5/site-packages/ipykernel/kernelapp.py'>}, init_globals=None, mod_name='__main__', mod_spec=ModuleSpec(name='ipykernel.__main__', loader=<_f...b/python3.5/site-packages/ipykernel/__main__.py'), pkg_name='ipykernel', script_name=None)\n     80                        __cached__ = cached,\n     81                        __doc__ = None,\n     82                        __loader__ = loader,\n     83                        __package__ = pkg_name,\n     84                        __spec__ = mod_spec)\n---> 85     exec(code, run_globals)\n        code = <code object <module> at 0x103165ae0, file \"/Use...3.5/site-packages/ipykernel/__main__.py\", line 1>\n        run_globals = {'__builtins__': <module 'builtins' (built-in)>, '__cached__': '/Users/flo/anaconda3/envs/adaenv/lib/python3.5/s...ges/ipykernel/__pycache__/__main__.cpython-35.pyc', '__doc__': None, '__file__': '/Users/flo/anaconda3/envs/adaenv/lib/python3.5/site-packages/ipykernel/__main__.py', '__loader__': <_frozen_importlib_external.SourceFileLoader object>, '__name__': '__main__', '__package__': 'ipykernel', '__spec__': ModuleSpec(name='ipykernel.__main__', loader=<_f...b/python3.5/site-packages/ipykernel/__main__.py'), 'app': <module 'ipykernel.kernelapp' from '/Users/flo/a.../python3.5/site-packages/ipykernel/kernelapp.py'>}\n     86     return run_globals\n     87 \n     88 def _run_module_code(code, init_globals=None,\n     89                     mod_name=None, mod_spec=None,\n\n...........................................................................\n/Users/flo/anaconda3/envs/adaenv/lib/python3.5/site-packages/ipykernel/__main__.py in <module>()\n      1 \n      2 \n----> 3 \n      4 if __name__ == '__main__':\n      5     from ipykernel import kernelapp as app\n      6     app.launch_new_instance()\n      7 \n      8 \n      9 \n     10 \n\n...........................................................................\n/Users/flo/anaconda3/envs/adaenv/lib/python3.5/site-packages/traitlets/config/application.py in launch_instance(cls=<class 'ipykernel.kernelapp.IPKernelApp'>, argv=None, **kwargs={})\n    653 \n    654         If a global instance already exists, this reinitializes and starts it\n    655         \"\"\"\n    656         app = cls.instance(**kwargs)\n    657         app.initialize(argv)\n--> 658         app.start()\n        app.start = <bound method IPKernelApp.start of <ipykernel.kernelapp.IPKernelApp object>>\n    659 \n    660 #-----------------------------------------------------------------------------\n    661 # utility functions, for convenience\n    662 #-----------------------------------------------------------------------------\n\n...........................................................................\n/Users/flo/anaconda3/envs/adaenv/lib/python3.5/site-packages/ipykernel/kernelapp.py in start(self=<ipykernel.kernelapp.IPKernelApp object>)\n    469             return self.subapp.start()\n    470         if self.poller is not None:\n    471             self.poller.start()\n    472         self.kernel.start()\n    473         try:\n--> 474             ioloop.IOLoop.instance().start()\n    475         except KeyboardInterrupt:\n    476             pass\n    477 \n    478 launch_new_instance = IPKernelApp.launch_instance\n\n...........................................................................\n/Users/flo/anaconda3/envs/adaenv/lib/python3.5/site-packages/zmq/eventloop/ioloop.py in start(self=<zmq.eventloop.ioloop.ZMQIOLoop object>)\n    172             )\n    173         return loop\n    174     \n    175     def start(self):\n    176         try:\n--> 177             super(ZMQIOLoop, self).start()\n        self.start = <bound method ZMQIOLoop.start of <zmq.eventloop.ioloop.ZMQIOLoop object>>\n    178         except ZMQError as e:\n    179             if e.errno == ETERM:\n    180                 # quietly return on ETERM\n    181                 pass\n\n...........................................................................\n/Users/flo/anaconda3/envs/adaenv/lib/python3.5/site-packages/tornado/ioloop.py in start(self=<zmq.eventloop.ioloop.ZMQIOLoop object>)\n    882                 self._events.update(event_pairs)\n    883                 while self._events:\n    884                     fd, events = self._events.popitem()\n    885                     try:\n    886                         fd_obj, handler_func = self._handlers[fd]\n--> 887                         handler_func(fd_obj, events)\n        handler_func = <function wrap.<locals>.null_wrapper>\n        fd_obj = <zmq.sugar.socket.Socket object>\n        events = 1\n    888                     except (OSError, IOError) as e:\n    889                         if errno_from_exception(e) == errno.EPIPE:\n    890                             # Happens when the client closes the connection\n    891                             pass\n\n...........................................................................\n/Users/flo/anaconda3/envs/adaenv/lib/python3.5/site-packages/tornado/stack_context.py in null_wrapper(*args=(<zmq.sugar.socket.Socket object>, 1), **kwargs={})\n    270         # Fast path when there are no active contexts.\n    271         def null_wrapper(*args, **kwargs):\n    272             try:\n    273                 current_state = _state.contexts\n    274                 _state.contexts = cap_contexts[0]\n--> 275                 return fn(*args, **kwargs)\n        args = (<zmq.sugar.socket.Socket object>, 1)\n        kwargs = {}\n    276             finally:\n    277                 _state.contexts = current_state\n    278         null_wrapper._wrapped = True\n    279         return null_wrapper\n\n...........................................................................\n/Users/flo/anaconda3/envs/adaenv/lib/python3.5/site-packages/zmq/eventloop/zmqstream.py in _handle_events(self=<zmq.eventloop.zmqstream.ZMQStream object>, fd=<zmq.sugar.socket.Socket object>, events=1)\n    435             # dispatch events:\n    436             if events & IOLoop.ERROR:\n    437                 gen_log.error(\"got POLLERR event on ZMQStream, which doesn't make sense\")\n    438                 return\n    439             if events & IOLoop.READ:\n--> 440                 self._handle_recv()\n        self._handle_recv = <bound method ZMQStream._handle_recv of <zmq.eventloop.zmqstream.ZMQStream object>>\n    441                 if not self.socket:\n    442                     return\n    443             if events & IOLoop.WRITE:\n    444                 self._handle_send()\n\n...........................................................................\n/Users/flo/anaconda3/envs/adaenv/lib/python3.5/site-packages/zmq/eventloop/zmqstream.py in _handle_recv(self=<zmq.eventloop.zmqstream.ZMQStream object>)\n    467                 gen_log.error(\"RECV Error: %s\"%zmq.strerror(e.errno))\n    468         else:\n    469             if self._recv_callback:\n    470                 callback = self._recv_callback\n    471                 # self._recv_callback = None\n--> 472                 self._run_callback(callback, msg)\n        self._run_callback = <bound method ZMQStream._run_callback of <zmq.eventloop.zmqstream.ZMQStream object>>\n        callback = <function wrap.<locals>.null_wrapper>\n        msg = [<zmq.sugar.frame.Frame object>, <zmq.sugar.frame.Frame object>, <zmq.sugar.frame.Frame object>, <zmq.sugar.frame.Frame object>, <zmq.sugar.frame.Frame object>, <zmq.sugar.frame.Frame object>, <zmq.sugar.frame.Frame object>]\n    473                 \n    474         # self.update_state()\n    475         \n    476 \n\n...........................................................................\n/Users/flo/anaconda3/envs/adaenv/lib/python3.5/site-packages/zmq/eventloop/zmqstream.py in _run_callback(self=<zmq.eventloop.zmqstream.ZMQStream object>, callback=<function wrap.<locals>.null_wrapper>, *args=([<zmq.sugar.frame.Frame object>, <zmq.sugar.frame.Frame object>, <zmq.sugar.frame.Frame object>, <zmq.sugar.frame.Frame object>, <zmq.sugar.frame.Frame object>, <zmq.sugar.frame.Frame object>, <zmq.sugar.frame.Frame object>],), **kwargs={})\n    409         close our socket.\"\"\"\n    410         try:\n    411             # Use a NullContext to ensure that all StackContexts are run\n    412             # inside our blanket exception handler rather than outside.\n    413             with stack_context.NullContext():\n--> 414                 callback(*args, **kwargs)\n        callback = <function wrap.<locals>.null_wrapper>\n        args = ([<zmq.sugar.frame.Frame object>, <zmq.sugar.frame.Frame object>, <zmq.sugar.frame.Frame object>, <zmq.sugar.frame.Frame object>, <zmq.sugar.frame.Frame object>, <zmq.sugar.frame.Frame object>, <zmq.sugar.frame.Frame object>],)\n        kwargs = {}\n    415         except:\n    416             gen_log.error(\"Uncaught exception, closing connection.\",\n    417                           exc_info=True)\n    418             # Close the socket on an uncaught exception from a user callback\n\n...........................................................................\n/Users/flo/anaconda3/envs/adaenv/lib/python3.5/site-packages/tornado/stack_context.py in null_wrapper(*args=([<zmq.sugar.frame.Frame object>, <zmq.sugar.frame.Frame object>, <zmq.sugar.frame.Frame object>, <zmq.sugar.frame.Frame object>, <zmq.sugar.frame.Frame object>, <zmq.sugar.frame.Frame object>, <zmq.sugar.frame.Frame object>],), **kwargs={})\n    270         # Fast path when there are no active contexts.\n    271         def null_wrapper(*args, **kwargs):\n    272             try:\n    273                 current_state = _state.contexts\n    274                 _state.contexts = cap_contexts[0]\n--> 275                 return fn(*args, **kwargs)\n        args = ([<zmq.sugar.frame.Frame object>, <zmq.sugar.frame.Frame object>, <zmq.sugar.frame.Frame object>, <zmq.sugar.frame.Frame object>, <zmq.sugar.frame.Frame object>, <zmq.sugar.frame.Frame object>, <zmq.sugar.frame.Frame object>],)\n        kwargs = {}\n    276             finally:\n    277                 _state.contexts = current_state\n    278         null_wrapper._wrapped = True\n    279         return null_wrapper\n\n...........................................................................\n/Users/flo/anaconda3/envs/adaenv/lib/python3.5/site-packages/ipykernel/kernelbase.py in dispatcher(msg=[<zmq.sugar.frame.Frame object>, <zmq.sugar.frame.Frame object>, <zmq.sugar.frame.Frame object>, <zmq.sugar.frame.Frame object>, <zmq.sugar.frame.Frame object>, <zmq.sugar.frame.Frame object>, <zmq.sugar.frame.Frame object>])\n    271         if self.control_stream:\n    272             self.control_stream.on_recv(self.dispatch_control, copy=False)\n    273 \n    274         def make_dispatcher(stream):\n    275             def dispatcher(msg):\n--> 276                 return self.dispatch_shell(stream, msg)\n        msg = [<zmq.sugar.frame.Frame object>, <zmq.sugar.frame.Frame object>, <zmq.sugar.frame.Frame object>, <zmq.sugar.frame.Frame object>, <zmq.sugar.frame.Frame object>, <zmq.sugar.frame.Frame object>, <zmq.sugar.frame.Frame object>]\n    277             return dispatcher\n    278 \n    279         for s in self.shell_streams:\n    280             s.on_recv(make_dispatcher(s), copy=False)\n\n...........................................................................\n/Users/flo/anaconda3/envs/adaenv/lib/python3.5/site-packages/ipykernel/kernelbase.py in dispatch_shell(self=<ipykernel.ipkernel.IPythonKernel object>, stream=<zmq.eventloop.zmqstream.ZMQStream object>, msg={'buffers': [], 'content': {'allow_stdin': True, 'code': 'estimator = RandomForestRegressor(max_features=c...training,n_jobs=-1, cv=20, dummy=dummy_estimator)', 'silent': False, 'stop_on_error': True, 'store_history': True, 'user_expressions': {}}, 'header': {'date': '2016-11-20T14:51:37.804963', 'msg_id': 'A9794A1BFA72442681D7F6739E17CAC5', 'msg_type': 'execute_request', 'session': '2310805B2F6D4A128C1173DDC45AFA06', 'username': 'username', 'version': '5.0'}, 'metadata': {}, 'msg_id': 'A9794A1BFA72442681D7F6739E17CAC5', 'msg_type': 'execute_request', 'parent_header': {}})\n    223             self.log.error(\"UNKNOWN MESSAGE TYPE: %r\", msg_type)\n    224         else:\n    225             self.log.debug(\"%s: %s\", msg_type, msg)\n    226             self.pre_handler_hook()\n    227             try:\n--> 228                 handler(stream, idents, msg)\n        handler = <bound method Kernel.execute_request of <ipykernel.ipkernel.IPythonKernel object>>\n        stream = <zmq.eventloop.zmqstream.ZMQStream object>\n        idents = [b'2310805B2F6D4A128C1173DDC45AFA06']\n        msg = {'buffers': [], 'content': {'allow_stdin': True, 'code': 'estimator = RandomForestRegressor(max_features=c...training,n_jobs=-1, cv=20, dummy=dummy_estimator)', 'silent': False, 'stop_on_error': True, 'store_history': True, 'user_expressions': {}}, 'header': {'date': '2016-11-20T14:51:37.804963', 'msg_id': 'A9794A1BFA72442681D7F6739E17CAC5', 'msg_type': 'execute_request', 'session': '2310805B2F6D4A128C1173DDC45AFA06', 'username': 'username', 'version': '5.0'}, 'metadata': {}, 'msg_id': 'A9794A1BFA72442681D7F6739E17CAC5', 'msg_type': 'execute_request', 'parent_header': {}}\n    229             except Exception:\n    230                 self.log.error(\"Exception in message handler:\", exc_info=True)\n    231             finally:\n    232                 self.post_handler_hook()\n\n...........................................................................\n/Users/flo/anaconda3/envs/adaenv/lib/python3.5/site-packages/ipykernel/kernelbase.py in execute_request(self=<ipykernel.ipkernel.IPythonKernel object>, stream=<zmq.eventloop.zmqstream.ZMQStream object>, ident=[b'2310805B2F6D4A128C1173DDC45AFA06'], parent={'buffers': [], 'content': {'allow_stdin': True, 'code': 'estimator = RandomForestRegressor(max_features=c...training,n_jobs=-1, cv=20, dummy=dummy_estimator)', 'silent': False, 'stop_on_error': True, 'store_history': True, 'user_expressions': {}}, 'header': {'date': '2016-11-20T14:51:37.804963', 'msg_id': 'A9794A1BFA72442681D7F6739E17CAC5', 'msg_type': 'execute_request', 'session': '2310805B2F6D4A128C1173DDC45AFA06', 'username': 'username', 'version': '5.0'}, 'metadata': {}, 'msg_id': 'A9794A1BFA72442681D7F6739E17CAC5', 'msg_type': 'execute_request', 'parent_header': {}})\n    385         if not silent:\n    386             self.execution_count += 1\n    387             self._publish_execute_input(code, parent, self.execution_count)\n    388 \n    389         reply_content = self.do_execute(code, silent, store_history,\n--> 390                                         user_expressions, allow_stdin)\n        user_expressions = {}\n        allow_stdin = True\n    391 \n    392         # Flush output before sending the reply.\n    393         sys.stdout.flush()\n    394         sys.stderr.flush()\n\n...........................................................................\n/Users/flo/anaconda3/envs/adaenv/lib/python3.5/site-packages/ipykernel/ipkernel.py in do_execute(self=<ipykernel.ipkernel.IPythonKernel object>, code='estimator = RandomForestRegressor(max_features=c...training,n_jobs=-1, cv=20, dummy=dummy_estimator)', silent=False, store_history=True, user_expressions={}, allow_stdin=True)\n    191 \n    192         self._forward_input(allow_stdin)\n    193 \n    194         reply_content = {}\n    195         try:\n--> 196             res = shell.run_cell(code, store_history=store_history, silent=silent)\n        res = undefined\n        shell.run_cell = <bound method ZMQInteractiveShell.run_cell of <ipykernel.zmqshell.ZMQInteractiveShell object>>\n        code = 'estimator = RandomForestRegressor(max_features=c...training,n_jobs=-1, cv=20, dummy=dummy_estimator)'\n        store_history = True\n        silent = False\n    197         finally:\n    198             self._restore_input()\n    199 \n    200         if res.error_before_exec is not None:\n\n...........................................................................\n/Users/flo/anaconda3/envs/adaenv/lib/python3.5/site-packages/ipykernel/zmqshell.py in run_cell(self=<ipykernel.zmqshell.ZMQInteractiveShell object>, *args=('estimator = RandomForestRegressor(max_features=c...training,n_jobs=-1, cv=20, dummy=dummy_estimator)',), **kwargs={'silent': False, 'store_history': True})\n    496             )\n    497         self.payload_manager.write_payload(payload)\n    498 \n    499     def run_cell(self, *args, **kwargs):\n    500         self._last_traceback = None\n--> 501         return super(ZMQInteractiveShell, self).run_cell(*args, **kwargs)\n        self.run_cell = <bound method ZMQInteractiveShell.run_cell of <ipykernel.zmqshell.ZMQInteractiveShell object>>\n        args = ('estimator = RandomForestRegressor(max_features=c...training,n_jobs=-1, cv=20, dummy=dummy_estimator)',)\n        kwargs = {'silent': False, 'store_history': True}\n    502 \n    503     def _showtraceback(self, etype, evalue, stb):\n    504         # try to preserve ordering of tracebacks and print statements\n    505         sys.stdout.flush()\n\n...........................................................................\n/Users/flo/anaconda3/envs/adaenv/lib/python3.5/site-packages/IPython/core/interactiveshell.py in run_cell(self=<ipykernel.zmqshell.ZMQInteractiveShell object>, raw_cell='estimator = RandomForestRegressor(max_features=c...training,n_jobs=-1, cv=20, dummy=dummy_estimator)', store_history=True, silent=False, shell_futures=True)\n   2712                 self.displayhook.exec_result = result\n   2713 \n   2714                 # Execute the user code\n   2715                 interactivity = \"none\" if silent else self.ast_node_interactivity\n   2716                 has_raised = self.run_ast_nodes(code_ast.body, cell_name,\n-> 2717                    interactivity=interactivity, compiler=compiler, result=result)\n        interactivity = 'last_expr'\n        compiler = <IPython.core.compilerop.CachingCompiler object>\n   2718                 \n   2719                 self.last_execution_succeeded = not has_raised\n   2720 \n   2721                 # Reset this so later displayed values do not modify the\n\n...........................................................................\n/Users/flo/anaconda3/envs/adaenv/lib/python3.5/site-packages/IPython/core/interactiveshell.py in run_ast_nodes(self=<ipykernel.zmqshell.ZMQInteractiveShell object>, nodelist=[<_ast.Assign object>, <_ast.Expr object>], cell_name='<ipython-input-36-c185615abed1>', interactivity='last', compiler=<IPython.core.compilerop.CachingCompiler object>, result=<ExecutionResult object at 10de15ef0, execution_..._before_exec=None error_in_exec=None result=None>)\n   2822                     return True\n   2823 \n   2824             for i, node in enumerate(to_run_interactive):\n   2825                 mod = ast.Interactive([node])\n   2826                 code = compiler(mod, cell_name, \"single\")\n-> 2827                 if self.run_code(code, result):\n        self.run_code = <bound method InteractiveShell.run_code of <ipykernel.zmqshell.ZMQInteractiveShell object>>\n        code = <code object <module> at 0x10e0a34b0, file \"<ipython-input-36-c185615abed1>\", line 2>\n        result = <ExecutionResult object at 10de15ef0, execution_..._before_exec=None error_in_exec=None result=None>\n   2828                     return True\n   2829 \n   2830             # Flush softspace\n   2831             if softspace(sys.stdout, 0):\n\n...........................................................................\n/Users/flo/anaconda3/envs/adaenv/lib/python3.5/site-packages/IPython/core/interactiveshell.py in run_code(self=<ipykernel.zmqshell.ZMQInteractiveShell object>, code_obj=<code object <module> at 0x10e0a34b0, file \"<ipython-input-36-c185615abed1>\", line 2>, result=<ExecutionResult object at 10de15ef0, execution_..._before_exec=None error_in_exec=None result=None>)\n   2876         outflag = 1  # happens in more places, so it's easier as default\n   2877         try:\n   2878             try:\n   2879                 self.hooks.pre_run_code_hook()\n   2880                 #rprint('Running code', repr(code_obj)) # dbg\n-> 2881                 exec(code_obj, self.user_global_ns, self.user_ns)\n        code_obj = <code object <module> at 0x10e0a34b0, file \"<ipython-input-36-c185615abed1>\", line 2>\n        self.user_global_ns = {'DummyClassifier': <class 'sklearn.dummy.DummyClassifier'>, 'GridSearchCV': <class 'sklearn.model_selection._search.GridSearchCV'>, 'In': ['', 'import os\\nimport pandas as pd\\nimport numpy as np...                               # For pretty plots', \"df = pd.read_csv(os.path.join('data', 'CrowdstormingDataJuly1st.csv'))\\nprint(df.head(10))\", \"dfd = pd.read_csv(os.path.join('data', 'crowdstorm_disaggregated.csv'))\\ndfd.head(10)\", 'df_cols = set(df.columns)\\ndfd_cols = set(dfd.col...ost columns: {}\".format(len(df_cols - dfd_cols)))', 'print(\"New columns: {}\".format(dfd_cols - df_cols))', 'print(\"All fields: {}\".format(dfd.columns))', \"df['skintone'] = 0.5 * (df['rater1']+df['rater2'])\\ndf.head()\", 'df_skinton = df[[\"playerShort\", \"skintone\"]].res...mat(mean_skin.symmetric_difference(unique_skin)))', \"df_skinton['skintone'].dropna().hist()\", \"referee_per_player = df.groupby('playerShort').count()['player']\\nreferee_per_player.describe()\", \"referee_per_player.hist()\\nplt.title('Number of referee per player')\", '(referee_per_player < 5).sum()', 'player_low_n_referees = df.set_index(\\'playerShor...{:0.1f}%\".format(player_low_referee_ratio * 100))', 'player_one_referee = df.set_index(\\'playerShort\\')...= {:0.1f}%\".format(player_one_referee_ratio*100))', \"LABEL_FIELDS = ['club', 'leagueCountry', 'positi...rs['skintone'] = encoder\\n\\ndf_categorized.head(10)\", \"with pd.option_context('display.max_columns', 100):\\n    print(df_categorized.head(5))\", \"df_subset = df_categorized[['playerShort', 'club...] + 3*df_subset['redCards']) / df_subset['games']\", 'def check_field_uniqueness_per_player(df, field)...rint(\"All tested fields are unique for a player\")', 'def pick_first(elements):\\n    \"\"\"\\n    Aggregator... are the same\\n    \"\"\"\\n    return elements.iloc[0]', ...], 'LABEL_FIELDS': ['club', 'leagueCountry', 'position', 'Alpha_3'], 'LabelEncoder': <class 'sklearn.preprocessing.label.LabelEncoder'>, 'Out': {3:           playerShort              player       ...            0        30  \n\n[10 rows x 32 columns], 7:      playerShort         player             club...  \n4  0.001002       NaN  \n\n[5 rows x 29 columns], 9: <matplotlib.axes._subplots.AxesSubplot object>, 10: count    2053.000000\nmean       71.129079\nstd   ...max       202.000000\nName: player, dtype: float64, 11: <matplotlib.text.Text object>, 12: 39, 15:           playerShort              player  club ...0.0  0.013752       0.0  \n\n[10 rows x 29 columns], 20:                         leagueCountry      cost ...            1  0.000000         5    95       7.0, 22: {'max_features': 2, 'n_estimators': 30}, 25: <module 'matplotlib.pyplot' from '/Users/flo/ana...ib/python3.5/site-packages/matplotlib/pyplot.py'>, ...}, 'RandomForestClassifier': <class 'sklearn.ensemble.forest.RandomForestClassifier'>, 'RandomForestRegressor': <class 'sklearn.ensemble.forest.RandomForestRegressor'>, 'UNKNOWN_LABEL': 'MISSING', '_':                         leagueCountry      cost ...            1  0.000000         5    95     0.875, ...}\n        self.user_ns = {'DummyClassifier': <class 'sklearn.dummy.DummyClassifier'>, 'GridSearchCV': <class 'sklearn.model_selection._search.GridSearchCV'>, 'In': ['', 'import os\\nimport pandas as pd\\nimport numpy as np...                               # For pretty plots', \"df = pd.read_csv(os.path.join('data', 'CrowdstormingDataJuly1st.csv'))\\nprint(df.head(10))\", \"dfd = pd.read_csv(os.path.join('data', 'crowdstorm_disaggregated.csv'))\\ndfd.head(10)\", 'df_cols = set(df.columns)\\ndfd_cols = set(dfd.col...ost columns: {}\".format(len(df_cols - dfd_cols)))', 'print(\"New columns: {}\".format(dfd_cols - df_cols))', 'print(\"All fields: {}\".format(dfd.columns))', \"df['skintone'] = 0.5 * (df['rater1']+df['rater2'])\\ndf.head()\", 'df_skinton = df[[\"playerShort\", \"skintone\"]].res...mat(mean_skin.symmetric_difference(unique_skin)))', \"df_skinton['skintone'].dropna().hist()\", \"referee_per_player = df.groupby('playerShort').count()['player']\\nreferee_per_player.describe()\", \"referee_per_player.hist()\\nplt.title('Number of referee per player')\", '(referee_per_player < 5).sum()', 'player_low_n_referees = df.set_index(\\'playerShor...{:0.1f}%\".format(player_low_referee_ratio * 100))', 'player_one_referee = df.set_index(\\'playerShort\\')...= {:0.1f}%\".format(player_one_referee_ratio*100))', \"LABEL_FIELDS = ['club', 'leagueCountry', 'positi...rs['skintone'] = encoder\\n\\ndf_categorized.head(10)\", \"with pd.option_context('display.max_columns', 100):\\n    print(df_categorized.head(5))\", \"df_subset = df_categorized[['playerShort', 'club...] + 3*df_subset['redCards']) / df_subset['games']\", 'def check_field_uniqueness_per_player(df, field)...rint(\"All tested fields are unique for a player\")', 'def pick_first(elements):\\n    \"\"\"\\n    Aggregator... are the same\\n    \"\"\"\\n    return elements.iloc[0]', ...], 'LABEL_FIELDS': ['club', 'leagueCountry', 'position', 'Alpha_3'], 'LabelEncoder': <class 'sklearn.preprocessing.label.LabelEncoder'>, 'Out': {3:           playerShort              player       ...            0        30  \n\n[10 rows x 32 columns], 7:      playerShort         player             club...  \n4  0.001002       NaN  \n\n[5 rows x 29 columns], 9: <matplotlib.axes._subplots.AxesSubplot object>, 10: count    2053.000000\nmean       71.129079\nstd   ...max       202.000000\nName: player, dtype: float64, 11: <matplotlib.text.Text object>, 12: 39, 15:           playerShort              player  club ...0.0  0.013752       0.0  \n\n[10 rows x 29 columns], 20:                         leagueCountry      cost ...            1  0.000000         5    95       7.0, 22: {'max_features': 2, 'n_estimators': 30}, 25: <module 'matplotlib.pyplot' from '/Users/flo/ana...ib/python3.5/site-packages/matplotlib/pyplot.py'>, ...}, 'RandomForestClassifier': <class 'sklearn.ensemble.forest.RandomForestClassifier'>, 'RandomForestRegressor': <class 'sklearn.ensemble.forest.RandomForestRegressor'>, 'UNKNOWN_LABEL': 'MISSING', '_':                         leagueCountry      cost ...            1  0.000000         5    95     0.875, ...}\n   2882             finally:\n   2883                 # Reset our crash handler in place\n   2884                 sys.excepthook = old_excepthook\n   2885         except SystemExit as e:\n\n...........................................................................\n/Users/flo/Documents/Etudes/EPFL/ma3/ada/ada-homeworks/04 - Applied ML/<ipython-input-36-c185615abed1> in <module>()\n      1 \n----> 2 \n      3 \n      4 \n      5 estimator = RandomForestRegressor(max_features=cv_result.best_params_['max_features'], n_estimators=cv_result.best_params_['n_estimators'])\n      6 helpers.plot_learning_curve(estimator, 'Baseline regression', x_training, y_training,n_jobs=-1, cv=20, dummy=dummy_estimator)\n      7 \n      8 \n      9 \n     10 \n\n...........................................................................\n/Users/flo/Documents/Etudes/EPFL/ma3/ada/ada-homeworks/04 - Applied ML/helpers.py in plot_learning_curve(estimator=RandomForestRegressor(bootstrap=True, criterion=..., random_state=None, verbose=0, warm_start=False), title='Baseline regression', X=                        leagueCountry       cost...2.052402         4    80\n\n[1585 rows x 4 columns], y=playerShort\naaron-hughes              0.125\naaro...             0.000\nName: skintone, dtype: float64, ylim=None, cv=20, n_jobs=-1, train_sizes=array([ 150,  489,  827, 1166, 1505]), scoring=None, dummy=DummyClassifier(constant=None, random_state=None, strategy='stratified'))\n     78              label=\"Cross-validation score\")\n     79     \n     80     if dummy is not None:\n     81         _, _, dummy_scores = learning_curve(\n     82             dummy, X, y, cv=cv, n_jobs=n_jobs, train_sizes=train_sizes, scoring=scoring\n---> 83         )\n     84         dummy_mean = np.mean(dummy_scores, axis=1)\n     85         dummy_std = np.std(dummy_scores, axis=1)\n     86 \n     87         plt.fill_between(train_sizes, dummy_mean - dummy_std,\n\n...........................................................................\n/Users/flo/anaconda3/envs/adaenv/lib/python3.5/site-packages/sklearn/model_selection/_validation.py in learning_curve(estimator=DummyClassifier(constant=None, random_state=None, strategy='stratified'), X=                        leagueCountry       cost...2.052402         4    80\n\n[1585 rows x 4 columns], y=playerShort\naaron-hughes              0.125\naaro...             0.000\nName: skintone, dtype: float64, groups=None, train_sizes=array([ 150,  489,  827, 1166, 1505]), cv=KFold(n_splits=20, random_state=None, shuffle=False), scoring=None, exploit_incremental_learning=False, n_jobs=-1, pre_dispatch='all', verbose=0)\n    767             scorer, verbose) for train, test in cv_iter)\n    768     else:\n    769         out = parallel(delayed(_fit_and_score)(\n    770             clone(estimator), X, y, scorer, train[:n_train_samples], test,\n    771             verbose, parameters=None, fit_params=None, return_train_score=True)\n--> 772             for train, test in cv_iter\n        cv_iter = [(array([  80,   81,   82, ..., 1582, 1583, 1584]), array([ 0,  1,  2,  3,  4,  5,  6,  7,  8,  9, 1... 68, 69, 70, 71, 72, 73, 74, 75, 76, 77, 78, 79])), (array([   0,    1,    2, ..., 1582, 1583, 1584]), array([ 80,  81,  82,  83,  84,  85,  86,  87,  ..., 152, 153, 154, 155, 156, 157,\n       158, 159])), (array([   0,    1,    2, ..., 1582, 1583, 1584]), array([160, 161, 162, 163, 164, 165, 166, 167, 1..., 232, 233, 234, 235, 236, 237,\n       238, 239])), (array([   0,    1,    2, ..., 1582, 1583, 1584]), array([240, 241, 242, 243, 244, 245, 246, 247, 2..., 312, 313, 314, 315, 316, 317,\n       318, 319])), (array([   0,    1,    2, ..., 1582, 1583, 1584]), array([320, 321, 322, 323, 324, 325, 326, 327, 3..., 392, 393, 394, 395, 396, 397,\n       398, 399])), (array([   0,    1,    2, ..., 1582, 1583, 1584]), array([400, 401, 402, 403, 404, 405, 406, 407, 4...69, 470, 471, 472, 473, 474, 475, 476, 477, 478])), (array([   0,    1,    2, ..., 1582, 1583, 1584]), array([479, 480, 481, 482, 483, 484, 485, 486, 4...48, 549, 550, 551, 552, 553, 554, 555, 556, 557])), (array([   0,    1,    2, ..., 1582, 1583, 1584]), array([558, 559, 560, 561, 562, 563, 564, 565, 5...27, 628, 629, 630, 631, 632, 633, 634, 635, 636])), (array([   0,    1,    2, ..., 1582, 1583, 1584]), array([637, 638, 639, 640, 641, 642, 643, 644, 6...06, 707, 708, 709, 710, 711, 712, 713, 714, 715])), (array([   0,    1,    2, ..., 1582, 1583, 1584]), array([716, 717, 718, 719, 720, 721, 722, 723, 7...85, 786, 787, 788, 789, 790, 791, 792, 793, 794])), (array([   0,    1,    2, ..., 1582, 1583, 1584]), array([795, 796, 797, 798, 799, 800, 801, 802, 8...64, 865, 866, 867, 868, 869, 870, 871, 872, 873])), (array([   0,    1,    2, ..., 1582, 1583, 1584]), array([874, 875, 876, 877, 878, 879, 880, 881, 8...43, 944, 945, 946, 947, 948, 949, 950, 951, 952])), (array([   0,    1,    2, ..., 1582, 1583, 1584]), array([ 953,  954,  955,  956,  957,  958,  959,...1025, 1026, 1027, 1028, 1029,\n       1030, 1031])), (array([   0,    1,    2, ..., 1582, 1583, 1584]), array([1032, 1033, 1034, 1035, 1036, 1037, 1038,...1104, 1105, 1106, 1107, 1108,\n       1109, 1110])), (array([   0,    1,    2, ..., 1582, 1583, 1584]), array([1111, 1112, 1113, 1114, 1115, 1116, 1117,...1183, 1184, 1185, 1186, 1187,\n       1188, 1189])), (array([   0,    1,    2, ..., 1582, 1583, 1584]), array([1190, 1191, 1192, 1193, 1194, 1195, 1196,...1262, 1263, 1264, 1265, 1266,\n       1267, 1268])), (array([   0,    1,    2, ..., 1582, 1583, 1584]), array([1269, 1270, 1271, 1272, 1273, 1274, 1275,...1341, 1342, 1343, 1344, 1345,\n       1346, 1347])), (array([   0,    1,    2, ..., 1582, 1583, 1584]), array([1348, 1349, 1350, 1351, 1352, 1353, 1354,...1420, 1421, 1422, 1423, 1424,\n       1425, 1426])), (array([   0,    1,    2, ..., 1582, 1583, 1584]), array([1427, 1428, 1429, 1430, 1431, 1432, 1433,...1499, 1500, 1501, 1502, 1503,\n       1504, 1505])), (array([   0,    1,    2, ..., 1503, 1504, 1505]), array([1506, 1507, 1508, 1509, 1510, 1511, 1512,...1578, 1579, 1580, 1581, 1582,\n       1583, 1584]))]\n    773             for n_train_samples in train_sizes_abs)\n    774         out = np.array(out)\n    775         n_cv_folds = out.shape[0] // n_unique_ticks\n    776         out = out.reshape(n_cv_folds, n_unique_ticks, 2)\n\n...........................................................................\n/Users/flo/anaconda3/envs/adaenv/lib/python3.5/site-packages/sklearn/externals/joblib/parallel.py in __call__(self=Parallel(n_jobs=-1), iterable=<generator object learning_curve.<locals>.<genexpr>>)\n    763             if pre_dispatch == \"all\" or n_jobs == 1:\n    764                 # The iterable was consumed all at once by the above for loop.\n    765                 # No need to wait for async callbacks to trigger to\n    766                 # consumption.\n    767                 self._iterating = False\n--> 768             self.retrieve()\n        self.retrieve = <bound method Parallel.retrieve of Parallel(n_jobs=-1)>\n    769             # Make sure that we get a last message telling us we are done\n    770             elapsed_time = time.time() - self._start_time\n    771             self._print('Done %3i out of %3i | elapsed: %s finished',\n    772                         (len(self._output), len(self._output),\n\n---------------------------------------------------------------------------\nSub-process traceback:\n---------------------------------------------------------------------------\nValueError                                         Sun Nov 20 14:51:41 2016\nPID: 21972        Python 3.5.2: /Users/flo/anaconda3/envs/adaenv/bin/python\n...........................................................................\n/Users/flo/anaconda3/envs/adaenv/lib/python3.5/site-packages/sklearn/externals/joblib/parallel.py in __call__(self=<sklearn.externals.joblib.parallel.BatchedCalls object>)\n    126     def __init__(self, iterator_slice):\n    127         self.items = list(iterator_slice)\n    128         self._size = len(self.items)\n    129 \n    130     def __call__(self):\n--> 131         return [func(*args, **kwargs) for func, args, kwargs in self.items]\n        self.items = [(<function _fit_and_score>, (DummyClassifier(constant=None, random_state=None, strategy='stratified'),                         leagueCountry       cost...2.052402         4    80\n\n[1585 rows x 4 columns], playerShort\naaron-hughes              0.125\naaro...             0.000\nName: skintone, dtype: float64, <function _passthrough_scorer>, array([ 80,  81,  82,  83,  84,  85,  86,  87,  ..., 222,\n       223, 224, 225, 226, 227, 228, 229]), array([ 0,  1,  2,  3,  4,  5,  6,  7,  8,  9, 1... 68, 69, 70, 71, 72, 73, 74, 75, 76, 77, 78, 79]), 0), {'fit_params': None, 'parameters': None, 'return_train_score': True})]\n    132 \n    133     def __len__(self):\n    134         return self._size\n    135 \n\n...........................................................................\n/Users/flo/anaconda3/envs/adaenv/lib/python3.5/site-packages/sklearn/externals/joblib/parallel.py in <listcomp>(.0=<list_iterator object>)\n    126     def __init__(self, iterator_slice):\n    127         self.items = list(iterator_slice)\n    128         self._size = len(self.items)\n    129 \n    130     def __call__(self):\n--> 131         return [func(*args, **kwargs) for func, args, kwargs in self.items]\n        func = <function _fit_and_score>\n        args = (DummyClassifier(constant=None, random_state=None, strategy='stratified'),                         leagueCountry       cost...2.052402         4    80\n\n[1585 rows x 4 columns], playerShort\naaron-hughes              0.125\naaro...             0.000\nName: skintone, dtype: float64, <function _passthrough_scorer>, array([ 80,  81,  82,  83,  84,  85,  86,  87,  ..., 222,\n       223, 224, 225, 226, 227, 228, 229]), array([ 0,  1,  2,  3,  4,  5,  6,  7,  8,  9, 1... 68, 69, 70, 71, 72, 73, 74, 75, 76, 77, 78, 79]), 0)\n        kwargs = {'fit_params': None, 'parameters': None, 'return_train_score': True}\n    132 \n    133     def __len__(self):\n    134         return self._size\n    135 \n\n...........................................................................\n/Users/flo/anaconda3/envs/adaenv/lib/python3.5/site-packages/sklearn/model_selection/_validation.py in _fit_and_score(estimator=DummyClassifier(constant=None, random_state=None, strategy='stratified'), X=                        leagueCountry       cost...2.052402         4    80\n\n[1585 rows x 4 columns], y=playerShort\naaron-hughes              0.125\naaro...             0.000\nName: skintone, dtype: float64, scorer=<function _passthrough_scorer>, train=array([ 80,  81,  82,  83,  84,  85,  86,  87,  ..., 222,\n       223, 224, 225, 226, 227, 228, 229]), test=array([ 0,  1,  2,  3,  4,  5,  6,  7,  8,  9, 1... 68, 69, 70, 71, 72, 73, 74, 75, 76, 77, 78, 79]), verbose=0, parameters=None, fit_params={}, return_train_score=True, return_parameters=False, return_n_test_samples=False, return_times=False, error_score='raise')\n    255                              \" numeric value. (Hint: if using 'raise', please\"\n    256                              \" make sure that it has been spelled correctly.)\")\n    257 \n    258     else:\n    259         fit_time = time.time() - start_time\n--> 260         test_score = _score(estimator, X_test, y_test, scorer)\n        test_score = undefined\n        estimator = DummyClassifier(constant=None, random_state=None, strategy='stratified')\n        X_test =                         leagueCountry       cost...  2.031267         8    76\n\n[80 rows x 4 columns]\n        y_test = playerShort\naaron-hughes              0.125\naaro...o            0.375\nName: skintone, dtype: float64\n        scorer = <function _passthrough_scorer>\n    261         score_time = time.time() - start_time - fit_time\n    262         if return_train_score:\n    263             train_score = _score(estimator, X_train, y_train, scorer)\n    264 \n\n...........................................................................\n/Users/flo/anaconda3/envs/adaenv/lib/python3.5/site-packages/sklearn/model_selection/_validation.py in _score(estimator=DummyClassifier(constant=None, random_state=None, strategy='stratified'), X_test=                        leagueCountry       cost...  2.031267         8    76\n\n[80 rows x 4 columns], y_test=playerShort\naaron-hughes              0.125\naaro...o            0.375\nName: skintone, dtype: float64, scorer=<function _passthrough_scorer>)\n    283 def _score(estimator, X_test, y_test, scorer):\n    284     \"\"\"Compute the score of an estimator on a given test set.\"\"\"\n    285     if y_test is None:\n    286         score = scorer(estimator, X_test)\n    287     else:\n--> 288         score = scorer(estimator, X_test, y_test)\n        score = undefined\n        scorer = <function _passthrough_scorer>\n        estimator = DummyClassifier(constant=None, random_state=None, strategy='stratified')\n        X_test =                         leagueCountry       cost...  2.031267         8    76\n\n[80 rows x 4 columns]\n        y_test = playerShort\naaron-hughes              0.125\naaro...o            0.375\nName: skintone, dtype: float64\n    289     if hasattr(score, 'item'):\n    290         try:\n    291             # e.g. unwrap memmapped scalars\n    292             score = score.item()\n\n...........................................................................\n/Users/flo/anaconda3/envs/adaenv/lib/python3.5/site-packages/sklearn/metrics/scorer.py in _passthrough_scorer(estimator=DummyClassifier(constant=None, random_state=None, strategy='stratified'), *args=(                        leagueCountry       cost...  2.031267         8    76\n\n[80 rows x 4 columns], playerShort\naaron-hughes              0.125\naaro...o            0.375\nName: skintone, dtype: float64), **kwargs={})\n    214     return scorer\n    215 \n    216 \n    217 def _passthrough_scorer(estimator, *args, **kwargs):\n    218     \"\"\"Function that wraps estimator.score\"\"\"\n--> 219     return estimator.score(*args, **kwargs)\n        estimator.score = <bound method ClassifierMixin.score of DummyClas...=None, random_state=None, strategy='stratified')>\n        args = (                        leagueCountry       cost...  2.031267         8    76\n\n[80 rows x 4 columns], playerShort\naaron-hughes              0.125\naaro...o            0.375\nName: skintone, dtype: float64)\n        kwargs = {}\n    220 \n    221 \n    222 def check_scoring(estimator, scoring=None, allow_none=False):\n    223     \"\"\"Determine scorer from user options.\n\n...........................................................................\n/Users/flo/anaconda3/envs/adaenv/lib/python3.5/site-packages/sklearn/base.py in score(self=DummyClassifier(constant=None, random_state=None, strategy='stratified'), X=                        leagueCountry       cost...  2.031267         8    76\n\n[80 rows x 4 columns], y=playerShort\naaron-hughes              0.125\naaro...o            0.375\nName: skintone, dtype: float64, sample_weight=None)\n    344         score : float\n    345             Mean accuracy of self.predict(X) wrt. y.\n    346 \n    347         \"\"\"\n    348         from .metrics import accuracy_score\n--> 349         return accuracy_score(y, self.predict(X), sample_weight=sample_weight)\n        accuracy_score = <function accuracy_score>\n        y = playerShort\naaron-hughes              0.125\naaro...o            0.375\nName: skintone, dtype: float64\n        self.predict = <bound method DummyClassifier.predict of DummyCl...=None, random_state=None, strategy='stratified')>\n        X =                         leagueCountry       cost...  2.031267         8    76\n\n[80 rows x 4 columns]\n        sample_weight = None\n    350 \n    351 \n    352 ###############################################################################\n    353 class RegressorMixin(object):\n\n...........................................................................\n/Users/flo/anaconda3/envs/adaenv/lib/python3.5/site-packages/sklearn/metrics/classification.py in accuracy_score(y_true=playerShort\naaron-hughes              0.125\naaro...o            0.375\nName: skintone, dtype: float64, y_pred=array([ 0.25 ,  0.25 ,  0.75 ,  1.   ,  0.25 ,  ...  0.   ,  0.125,  0.75 ,  0.   ,  0.25 ,  0.75 ]), normalize=True, sample_weight=None)\n    167     >>> accuracy_score(np.array([[0, 1], [1, 1]]), np.ones((2, 2)))\n    168     0.5\n    169     \"\"\"\n    170 \n    171     # Compute accuracy for each possible representation\n--> 172     y_type, y_true, y_pred = _check_targets(y_true, y_pred)\n        y_type = undefined\n        y_true = playerShort\naaron-hughes              0.125\naaro...o            0.375\nName: skintone, dtype: float64\n        y_pred = array([ 0.25 ,  0.25 ,  0.75 ,  1.   ,  0.25 ,  ...  0.   ,  0.125,  0.75 ,  0.   ,  0.25 ,  0.75 ])\n    173     if y_type.startswith('multilabel'):\n    174         differing_labels = count_nonzero(y_true - y_pred, axis=1)\n    175         score = differing_labels == 0\n    176     else:\n\n...........................................................................\n/Users/flo/anaconda3/envs/adaenv/lib/python3.5/site-packages/sklearn/metrics/classification.py in _check_targets(y_true=playerShort\naaron-hughes              0.125\naaro...o            0.375\nName: skintone, dtype: float64, y_pred=array([ 0.25 ,  0.25 ,  0.75 ,  1.   ,  0.25 ,  ...  0.   ,  0.125,  0.75 ,  0.   ,  0.25 ,  0.75 ]))\n     84     # We can't have more than one value on y_type => The set is no more needed\n     85     y_type = y_type.pop()\n     86 \n     87     # No metrics support \"multiclass-multioutput\" format\n     88     if (y_type not in [\"binary\", \"multiclass\", \"multilabel-indicator\"]):\n---> 89         raise ValueError(\"{0} is not supported\".format(y_type))\n        y_type = 'continuous'\n     90 \n     91     if y_type in [\"binary\", \"multiclass\"]:\n     92         y_true = column_or_1d(y_true)\n     93         y_pred = column_or_1d(y_pred)\n\nValueError: continuous is not supported\n___________________________________________________________________________",
     "output_type": "error",
     "traceback": [
      "\u001b[0;31m---------------------------------------------------------------------------\u001b[0m",
      "\u001b[0;31mRemoteTraceback\u001b[0m                           Traceback (most recent call last)",
      "\u001b[0;31mRemoteTraceback\u001b[0m: \n\"\"\"\nTraceback (most recent call last):\n  File \"/Users/flo/anaconda3/envs/adaenv/lib/python3.5/site-packages/sklearn/externals/joblib/_parallel_backends.py\", line 344, in __call__\n    return self.func(*args, **kwargs)\n  File \"/Users/flo/anaconda3/envs/adaenv/lib/python3.5/site-packages/sklearn/externals/joblib/parallel.py\", line 131, in __call__\n    return [func(*args, **kwargs) for func, args, kwargs in self.items]\n  File \"/Users/flo/anaconda3/envs/adaenv/lib/python3.5/site-packages/sklearn/externals/joblib/parallel.py\", line 131, in <listcomp>\n    return [func(*args, **kwargs) for func, args, kwargs in self.items]\n  File \"/Users/flo/anaconda3/envs/adaenv/lib/python3.5/site-packages/sklearn/model_selection/_validation.py\", line 260, in _fit_and_score\n    test_score = _score(estimator, X_test, y_test, scorer)\n  File \"/Users/flo/anaconda3/envs/adaenv/lib/python3.5/site-packages/sklearn/model_selection/_validation.py\", line 288, in _score\n    score = scorer(estimator, X_test, y_test)\n  File \"/Users/flo/anaconda3/envs/adaenv/lib/python3.5/site-packages/sklearn/metrics/scorer.py\", line 219, in _passthrough_scorer\n    return estimator.score(*args, **kwargs)\n  File \"/Users/flo/anaconda3/envs/adaenv/lib/python3.5/site-packages/sklearn/base.py\", line 349, in score\n    return accuracy_score(y, self.predict(X), sample_weight=sample_weight)\n  File \"/Users/flo/anaconda3/envs/adaenv/lib/python3.5/site-packages/sklearn/metrics/classification.py\", line 172, in accuracy_score\n    y_type, y_true, y_pred = _check_targets(y_true, y_pred)\n  File \"/Users/flo/anaconda3/envs/adaenv/lib/python3.5/site-packages/sklearn/metrics/classification.py\", line 89, in _check_targets\n    raise ValueError(\"{0} is not supported\".format(y_type))\nValueError: continuous is not supported\n\nDuring handling of the above exception, another exception occurred:\n\nTraceback (most recent call last):\n  File \"/Users/flo/anaconda3/envs/adaenv/lib/python3.5/multiprocessing/pool.py\", line 119, in worker\n    result = (True, func(*args, **kwds))\n  File \"/Users/flo/anaconda3/envs/adaenv/lib/python3.5/site-packages/sklearn/externals/joblib/_parallel_backends.py\", line 353, in __call__\n    raise TransportableException(text, e_type)\nsklearn.externals.joblib.my_exceptions.TransportableException: TransportableException\n___________________________________________________________________________\nValueError                                         Sun Nov 20 14:51:41 2016\nPID: 21972        Python 3.5.2: /Users/flo/anaconda3/envs/adaenv/bin/python\n...........................................................................\n/Users/flo/anaconda3/envs/adaenv/lib/python3.5/site-packages/sklearn/externals/joblib/parallel.py in __call__(self=<sklearn.externals.joblib.parallel.BatchedCalls object>)\n    126     def __init__(self, iterator_slice):\n    127         self.items = list(iterator_slice)\n    128         self._size = len(self.items)\n    129 \n    130     def __call__(self):\n--> 131         return [func(*args, **kwargs) for func, args, kwargs in self.items]\n        self.items = [(<function _fit_and_score>, (DummyClassifier(constant=None, random_state=None, strategy='stratified'),                         leagueCountry       cost...2.052402         4    80\n\n[1585 rows x 4 columns], playerShort\naaron-hughes              0.125\naaro...             0.000\nName: skintone, dtype: float64, <function _passthrough_scorer>, array([ 80,  81,  82,  83,  84,  85,  86,  87,  ..., 222,\n       223, 224, 225, 226, 227, 228, 229]), array([ 0,  1,  2,  3,  4,  5,  6,  7,  8,  9, 1... 68, 69, 70, 71, 72, 73, 74, 75, 76, 77, 78, 79]), 0), {'fit_params': None, 'parameters': None, 'return_train_score': True})]\n    132 \n    133     def __len__(self):\n    134         return self._size\n    135 \n\n...........................................................................\n/Users/flo/anaconda3/envs/adaenv/lib/python3.5/site-packages/sklearn/externals/joblib/parallel.py in <listcomp>(.0=<list_iterator object>)\n    126     def __init__(self, iterator_slice):\n    127         self.items = list(iterator_slice)\n    128         self._size = len(self.items)\n    129 \n    130     def __call__(self):\n--> 131         return [func(*args, **kwargs) for func, args, kwargs in self.items]\n        func = <function _fit_and_score>\n        args = (DummyClassifier(constant=None, random_state=None, strategy='stratified'),                         leagueCountry       cost...2.052402         4    80\n\n[1585 rows x 4 columns], playerShort\naaron-hughes              0.125\naaro...             0.000\nName: skintone, dtype: float64, <function _passthrough_scorer>, array([ 80,  81,  82,  83,  84,  85,  86,  87,  ..., 222,\n       223, 224, 225, 226, 227, 228, 229]), array([ 0,  1,  2,  3,  4,  5,  6,  7,  8,  9, 1... 68, 69, 70, 71, 72, 73, 74, 75, 76, 77, 78, 79]), 0)\n        kwargs = {'fit_params': None, 'parameters': None, 'return_train_score': True}\n    132 \n    133     def __len__(self):\n    134         return self._size\n    135 \n\n...........................................................................\n/Users/flo/anaconda3/envs/adaenv/lib/python3.5/site-packages/sklearn/model_selection/_validation.py in _fit_and_score(estimator=DummyClassifier(constant=None, random_state=None, strategy='stratified'), X=                        leagueCountry       cost...2.052402         4    80\n\n[1585 rows x 4 columns], y=playerShort\naaron-hughes              0.125\naaro...             0.000\nName: skintone, dtype: float64, scorer=<function _passthrough_scorer>, train=array([ 80,  81,  82,  83,  84,  85,  86,  87,  ..., 222,\n       223, 224, 225, 226, 227, 228, 229]), test=array([ 0,  1,  2,  3,  4,  5,  6,  7,  8,  9, 1... 68, 69, 70, 71, 72, 73, 74, 75, 76, 77, 78, 79]), verbose=0, parameters=None, fit_params={}, return_train_score=True, return_parameters=False, return_n_test_samples=False, return_times=False, error_score='raise')\n    255                              \" numeric value. (Hint: if using 'raise', please\"\n    256                              \" make sure that it has been spelled correctly.)\")\n    257 \n    258     else:\n    259         fit_time = time.time() - start_time\n--> 260         test_score = _score(estimator, X_test, y_test, scorer)\n        test_score = undefined\n        estimator = DummyClassifier(constant=None, random_state=None, strategy='stratified')\n        X_test =                         leagueCountry       cost...  2.031267         8    76\n\n[80 rows x 4 columns]\n        y_test = playerShort\naaron-hughes              0.125\naaro...o            0.375\nName: skintone, dtype: float64\n        scorer = <function _passthrough_scorer>\n    261         score_time = time.time() - start_time - fit_time\n    262         if return_train_score:\n    263             train_score = _score(estimator, X_train, y_train, scorer)\n    264 \n\n...........................................................................\n/Users/flo/anaconda3/envs/adaenv/lib/python3.5/site-packages/sklearn/model_selection/_validation.py in _score(estimator=DummyClassifier(constant=None, random_state=None, strategy='stratified'), X_test=                        leagueCountry       cost...  2.031267         8    76\n\n[80 rows x 4 columns], y_test=playerShort\naaron-hughes              0.125\naaro...o            0.375\nName: skintone, dtype: float64, scorer=<function _passthrough_scorer>)\n    283 def _score(estimator, X_test, y_test, scorer):\n    284     \"\"\"Compute the score of an estimator on a given test set.\"\"\"\n    285     if y_test is None:\n    286         score = scorer(estimator, X_test)\n    287     else:\n--> 288         score = scorer(estimator, X_test, y_test)\n        score = undefined\n        scorer = <function _passthrough_scorer>\n        estimator = DummyClassifier(constant=None, random_state=None, strategy='stratified')\n        X_test =                         leagueCountry       cost...  2.031267         8    76\n\n[80 rows x 4 columns]\n        y_test = playerShort\naaron-hughes              0.125\naaro...o            0.375\nName: skintone, dtype: float64\n    289     if hasattr(score, 'item'):\n    290         try:\n    291             # e.g. unwrap memmapped scalars\n    292             score = score.item()\n\n...........................................................................\n/Users/flo/anaconda3/envs/adaenv/lib/python3.5/site-packages/sklearn/metrics/scorer.py in _passthrough_scorer(estimator=DummyClassifier(constant=None, random_state=None, strategy='stratified'), *args=(                        leagueCountry       cost...  2.031267         8    76\n\n[80 rows x 4 columns], playerShort\naaron-hughes              0.125\naaro...o            0.375\nName: skintone, dtype: float64), **kwargs={})\n    214     return scorer\n    215 \n    216 \n    217 def _passthrough_scorer(estimator, *args, **kwargs):\n    218     \"\"\"Function that wraps estimator.score\"\"\"\n--> 219     return estimator.score(*args, **kwargs)\n        estimator.score = <bound method ClassifierMixin.score of DummyClas...=None, random_state=None, strategy='stratified')>\n        args = (                        leagueCountry       cost...  2.031267         8    76\n\n[80 rows x 4 columns], playerShort\naaron-hughes              0.125\naaro...o            0.375\nName: skintone, dtype: float64)\n        kwargs = {}\n    220 \n    221 \n    222 def check_scoring(estimator, scoring=None, allow_none=False):\n    223     \"\"\"Determine scorer from user options.\n\n...........................................................................\n/Users/flo/anaconda3/envs/adaenv/lib/python3.5/site-packages/sklearn/base.py in score(self=DummyClassifier(constant=None, random_state=None, strategy='stratified'), X=                        leagueCountry       cost...  2.031267         8    76\n\n[80 rows x 4 columns], y=playerShort\naaron-hughes              0.125\naaro...o            0.375\nName: skintone, dtype: float64, sample_weight=None)\n    344         score : float\n    345             Mean accuracy of self.predict(X) wrt. y.\n    346 \n    347         \"\"\"\n    348         from .metrics import accuracy_score\n--> 349         return accuracy_score(y, self.predict(X), sample_weight=sample_weight)\n        accuracy_score = <function accuracy_score>\n        y = playerShort\naaron-hughes              0.125\naaro...o            0.375\nName: skintone, dtype: float64\n        self.predict = <bound method DummyClassifier.predict of DummyCl...=None, random_state=None, strategy='stratified')>\n        X =                         leagueCountry       cost...  2.031267         8    76\n\n[80 rows x 4 columns]\n        sample_weight = None\n    350 \n    351 \n    352 ###############################################################################\n    353 class RegressorMixin(object):\n\n...........................................................................\n/Users/flo/anaconda3/envs/adaenv/lib/python3.5/site-packages/sklearn/metrics/classification.py in accuracy_score(y_true=playerShort\naaron-hughes              0.125\naaro...o            0.375\nName: skintone, dtype: float64, y_pred=array([ 0.25 ,  0.25 ,  0.75 ,  1.   ,  0.25 ,  ...  0.   ,  0.125,  0.75 ,  0.   ,  0.25 ,  0.75 ]), normalize=True, sample_weight=None)\n    167     >>> accuracy_score(np.array([[0, 1], [1, 1]]), np.ones((2, 2)))\n    168     0.5\n    169     \"\"\"\n    170 \n    171     # Compute accuracy for each possible representation\n--> 172     y_type, y_true, y_pred = _check_targets(y_true, y_pred)\n        y_type = undefined\n        y_true = playerShort\naaron-hughes              0.125\naaro...o            0.375\nName: skintone, dtype: float64\n        y_pred = array([ 0.25 ,  0.25 ,  0.75 ,  1.   ,  0.25 ,  ...  0.   ,  0.125,  0.75 ,  0.   ,  0.25 ,  0.75 ])\n    173     if y_type.startswith('multilabel'):\n    174         differing_labels = count_nonzero(y_true - y_pred, axis=1)\n    175         score = differing_labels == 0\n    176     else:\n\n...........................................................................\n/Users/flo/anaconda3/envs/adaenv/lib/python3.5/site-packages/sklearn/metrics/classification.py in _check_targets(y_true=playerShort\naaron-hughes              0.125\naaro...o            0.375\nName: skintone, dtype: float64, y_pred=array([ 0.25 ,  0.25 ,  0.75 ,  1.   ,  0.25 ,  ...  0.   ,  0.125,  0.75 ,  0.   ,  0.25 ,  0.75 ]))\n     84     # We can't have more than one value on y_type => The set is no more needed\n     85     y_type = y_type.pop()\n     86 \n     87     # No metrics support \"multiclass-multioutput\" format\n     88     if (y_type not in [\"binary\", \"multiclass\", \"multilabel-indicator\"]):\n---> 89         raise ValueError(\"{0} is not supported\".format(y_type))\n        y_type = 'continuous'\n     90 \n     91     if y_type in [\"binary\", \"multiclass\"]:\n     92         y_true = column_or_1d(y_true)\n     93         y_pred = column_or_1d(y_pred)\n\nValueError: continuous is not supported\n___________________________________________________________________________\n\"\"\"",
      "\nThe above exception was the direct cause of the following exception:\n",
      "\u001b[0;31mTransportableException\u001b[0m                    Traceback (most recent call last)",
      "\u001b[0;32m/Users/flo/anaconda3/envs/adaenv/lib/python3.5/site-packages/sklearn/externals/joblib/parallel.py\u001b[0m in \u001b[0;36mretrieve\u001b[0;34m(self)\u001b[0m\n\u001b[1;32m    681\u001b[0m                 \u001b[0;32mif\u001b[0m \u001b[0;34m'timeout'\u001b[0m \u001b[0;32min\u001b[0m \u001b[0mgetfullargspec\u001b[0m\u001b[0;34m(\u001b[0m\u001b[0mjob\u001b[0m\u001b[0;34m.\u001b[0m\u001b[0mget\u001b[0m\u001b[0;34m)\u001b[0m\u001b[0;34m.\u001b[0m\u001b[0margs\u001b[0m\u001b[0;34m:\u001b[0m\u001b[0;34m\u001b[0m\u001b[0m\n\u001b[0;32m--> 682\u001b[0;31m                     \u001b[0mself\u001b[0m\u001b[0;34m.\u001b[0m\u001b[0m_output\u001b[0m\u001b[0;34m.\u001b[0m\u001b[0mextend\u001b[0m\u001b[0;34m(\u001b[0m\u001b[0mjob\u001b[0m\u001b[0;34m.\u001b[0m\u001b[0mget\u001b[0m\u001b[0;34m(\u001b[0m\u001b[0mtimeout\u001b[0m\u001b[0;34m=\u001b[0m\u001b[0mself\u001b[0m\u001b[0;34m.\u001b[0m\u001b[0mtimeout\u001b[0m\u001b[0;34m)\u001b[0m\u001b[0;34m)\u001b[0m\u001b[0;34m\u001b[0m\u001b[0m\n\u001b[0m\u001b[1;32m    683\u001b[0m                 \u001b[0;32melse\u001b[0m\u001b[0;34m:\u001b[0m\u001b[0;34m\u001b[0m\u001b[0m\n",
      "\u001b[0;32m/Users/flo/anaconda3/envs/adaenv/lib/python3.5/multiprocessing/pool.py\u001b[0m in \u001b[0;36mget\u001b[0;34m(self, timeout)\u001b[0m\n\u001b[1;32m    607\u001b[0m         \u001b[0;32melse\u001b[0m\u001b[0;34m:\u001b[0m\u001b[0;34m\u001b[0m\u001b[0m\n\u001b[0;32m--> 608\u001b[0;31m             \u001b[0;32mraise\u001b[0m \u001b[0mself\u001b[0m\u001b[0;34m.\u001b[0m\u001b[0m_value\u001b[0m\u001b[0;34m\u001b[0m\u001b[0m\n\u001b[0m\u001b[1;32m    609\u001b[0m \u001b[0;34m\u001b[0m\u001b[0m\n",
      "\u001b[0;31mTransportableException\u001b[0m: TransportableException\n___________________________________________________________________________\nValueError                                         Sun Nov 20 14:51:41 2016\nPID: 21972        Python 3.5.2: /Users/flo/anaconda3/envs/adaenv/bin/python\n...........................................................................\n/Users/flo/anaconda3/envs/adaenv/lib/python3.5/site-packages/sklearn/externals/joblib/parallel.py in __call__(self=<sklearn.externals.joblib.parallel.BatchedCalls object>)\n    126     def __init__(self, iterator_slice):\n    127         self.items = list(iterator_slice)\n    128         self._size = len(self.items)\n    129 \n    130     def __call__(self):\n--> 131         return [func(*args, **kwargs) for func, args, kwargs in self.items]\n        self.items = [(<function _fit_and_score>, (DummyClassifier(constant=None, random_state=None, strategy='stratified'),                         leagueCountry       cost...2.052402         4    80\n\n[1585 rows x 4 columns], playerShort\naaron-hughes              0.125\naaro...             0.000\nName: skintone, dtype: float64, <function _passthrough_scorer>, array([ 80,  81,  82,  83,  84,  85,  86,  87,  ..., 222,\n       223, 224, 225, 226, 227, 228, 229]), array([ 0,  1,  2,  3,  4,  5,  6,  7,  8,  9, 1... 68, 69, 70, 71, 72, 73, 74, 75, 76, 77, 78, 79]), 0), {'fit_params': None, 'parameters': None, 'return_train_score': True})]\n    132 \n    133     def __len__(self):\n    134         return self._size\n    135 \n\n...........................................................................\n/Users/flo/anaconda3/envs/adaenv/lib/python3.5/site-packages/sklearn/externals/joblib/parallel.py in <listcomp>(.0=<list_iterator object>)\n    126     def __init__(self, iterator_slice):\n    127         self.items = list(iterator_slice)\n    128         self._size = len(self.items)\n    129 \n    130     def __call__(self):\n--> 131         return [func(*args, **kwargs) for func, args, kwargs in self.items]\n        func = <function _fit_and_score>\n        args = (DummyClassifier(constant=None, random_state=None, strategy='stratified'),                         leagueCountry       cost...2.052402         4    80\n\n[1585 rows x 4 columns], playerShort\naaron-hughes              0.125\naaro...             0.000\nName: skintone, dtype: float64, <function _passthrough_scorer>, array([ 80,  81,  82,  83,  84,  85,  86,  87,  ..., 222,\n       223, 224, 225, 226, 227, 228, 229]), array([ 0,  1,  2,  3,  4,  5,  6,  7,  8,  9, 1... 68, 69, 70, 71, 72, 73, 74, 75, 76, 77, 78, 79]), 0)\n        kwargs = {'fit_params': None, 'parameters': None, 'return_train_score': True}\n    132 \n    133     def __len__(self):\n    134         return self._size\n    135 \n\n...........................................................................\n/Users/flo/anaconda3/envs/adaenv/lib/python3.5/site-packages/sklearn/model_selection/_validation.py in _fit_and_score(estimator=DummyClassifier(constant=None, random_state=None, strategy='stratified'), X=                        leagueCountry       cost...2.052402         4    80\n\n[1585 rows x 4 columns], y=playerShort\naaron-hughes              0.125\naaro...             0.000\nName: skintone, dtype: float64, scorer=<function _passthrough_scorer>, train=array([ 80,  81,  82,  83,  84,  85,  86,  87,  ..., 222,\n       223, 224, 225, 226, 227, 228, 229]), test=array([ 0,  1,  2,  3,  4,  5,  6,  7,  8,  9, 1... 68, 69, 70, 71, 72, 73, 74, 75, 76, 77, 78, 79]), verbose=0, parameters=None, fit_params={}, return_train_score=True, return_parameters=False, return_n_test_samples=False, return_times=False, error_score='raise')\n    255                              \" numeric value. (Hint: if using 'raise', please\"\n    256                              \" make sure that it has been spelled correctly.)\")\n    257 \n    258     else:\n    259         fit_time = time.time() - start_time\n--> 260         test_score = _score(estimator, X_test, y_test, scorer)\n        test_score = undefined\n        estimator = DummyClassifier(constant=None, random_state=None, strategy='stratified')\n        X_test =                         leagueCountry       cost...  2.031267         8    76\n\n[80 rows x 4 columns]\n        y_test = playerShort\naaron-hughes              0.125\naaro...o            0.375\nName: skintone, dtype: float64\n        scorer = <function _passthrough_scorer>\n    261         score_time = time.time() - start_time - fit_time\n    262         if return_train_score:\n    263             train_score = _score(estimator, X_train, y_train, scorer)\n    264 \n\n...........................................................................\n/Users/flo/anaconda3/envs/adaenv/lib/python3.5/site-packages/sklearn/model_selection/_validation.py in _score(estimator=DummyClassifier(constant=None, random_state=None, strategy='stratified'), X_test=                        leagueCountry       cost...  2.031267         8    76\n\n[80 rows x 4 columns], y_test=playerShort\naaron-hughes              0.125\naaro...o            0.375\nName: skintone, dtype: float64, scorer=<function _passthrough_scorer>)\n    283 def _score(estimator, X_test, y_test, scorer):\n    284     \"\"\"Compute the score of an estimator on a given test set.\"\"\"\n    285     if y_test is None:\n    286         score = scorer(estimator, X_test)\n    287     else:\n--> 288         score = scorer(estimator, X_test, y_test)\n        score = undefined\n        scorer = <function _passthrough_scorer>\n        estimator = DummyClassifier(constant=None, random_state=None, strategy='stratified')\n        X_test =                         leagueCountry       cost...  2.031267         8    76\n\n[80 rows x 4 columns]\n        y_test = playerShort\naaron-hughes              0.125\naaro...o            0.375\nName: skintone, dtype: float64\n    289     if hasattr(score, 'item'):\n    290         try:\n    291             # e.g. unwrap memmapped scalars\n    292             score = score.item()\n\n...........................................................................\n/Users/flo/anaconda3/envs/adaenv/lib/python3.5/site-packages/sklearn/metrics/scorer.py in _passthrough_scorer(estimator=DummyClassifier(constant=None, random_state=None, strategy='stratified'), *args=(                        leagueCountry       cost...  2.031267         8    76\n\n[80 rows x 4 columns], playerShort\naaron-hughes              0.125\naaro...o            0.375\nName: skintone, dtype: float64), **kwargs={})\n    214     return scorer\n    215 \n    216 \n    217 def _passthrough_scorer(estimator, *args, **kwargs):\n    218     \"\"\"Function that wraps estimator.score\"\"\"\n--> 219     return estimator.score(*args, **kwargs)\n        estimator.score = <bound method ClassifierMixin.score of DummyClas...=None, random_state=None, strategy='stratified')>\n        args = (                        leagueCountry       cost...  2.031267         8    76\n\n[80 rows x 4 columns], playerShort\naaron-hughes              0.125\naaro...o            0.375\nName: skintone, dtype: float64)\n        kwargs = {}\n    220 \n    221 \n    222 def check_scoring(estimator, scoring=None, allow_none=False):\n    223     \"\"\"Determine scorer from user options.\n\n...........................................................................\n/Users/flo/anaconda3/envs/adaenv/lib/python3.5/site-packages/sklearn/base.py in score(self=DummyClassifier(constant=None, random_state=None, strategy='stratified'), X=                        leagueCountry       cost...  2.031267         8    76\n\n[80 rows x 4 columns], y=playerShort\naaron-hughes              0.125\naaro...o            0.375\nName: skintone, dtype: float64, sample_weight=None)\n    344         score : float\n    345             Mean accuracy of self.predict(X) wrt. y.\n    346 \n    347         \"\"\"\n    348         from .metrics import accuracy_score\n--> 349         return accuracy_score(y, self.predict(X), sample_weight=sample_weight)\n        accuracy_score = <function accuracy_score>\n        y = playerShort\naaron-hughes              0.125\naaro...o            0.375\nName: skintone, dtype: float64\n        self.predict = <bound method DummyClassifier.predict of DummyCl...=None, random_state=None, strategy='stratified')>\n        X =                         leagueCountry       cost...  2.031267         8    76\n\n[80 rows x 4 columns]\n        sample_weight = None\n    350 \n    351 \n    352 ###############################################################################\n    353 class RegressorMixin(object):\n\n...........................................................................\n/Users/flo/anaconda3/envs/adaenv/lib/python3.5/site-packages/sklearn/metrics/classification.py in accuracy_score(y_true=playerShort\naaron-hughes              0.125\naaro...o            0.375\nName: skintone, dtype: float64, y_pred=array([ 0.25 ,  0.25 ,  0.75 ,  1.   ,  0.25 ,  ...  0.   ,  0.125,  0.75 ,  0.   ,  0.25 ,  0.75 ]), normalize=True, sample_weight=None)\n    167     >>> accuracy_score(np.array([[0, 1], [1, 1]]), np.ones((2, 2)))\n    168     0.5\n    169     \"\"\"\n    170 \n    171     # Compute accuracy for each possible representation\n--> 172     y_type, y_true, y_pred = _check_targets(y_true, y_pred)\n        y_type = undefined\n        y_true = playerShort\naaron-hughes              0.125\naaro...o            0.375\nName: skintone, dtype: float64\n        y_pred = array([ 0.25 ,  0.25 ,  0.75 ,  1.   ,  0.25 ,  ...  0.   ,  0.125,  0.75 ,  0.   ,  0.25 ,  0.75 ])\n    173     if y_type.startswith('multilabel'):\n    174         differing_labels = count_nonzero(y_true - y_pred, axis=1)\n    175         score = differing_labels == 0\n    176     else:\n\n...........................................................................\n/Users/flo/anaconda3/envs/adaenv/lib/python3.5/site-packages/sklearn/metrics/classification.py in _check_targets(y_true=playerShort\naaron-hughes              0.125\naaro...o            0.375\nName: skintone, dtype: float64, y_pred=array([ 0.25 ,  0.25 ,  0.75 ,  1.   ,  0.25 ,  ...  0.   ,  0.125,  0.75 ,  0.   ,  0.25 ,  0.75 ]))\n     84     # We can't have more than one value on y_type => The set is no more needed\n     85     y_type = y_type.pop()\n     86 \n     87     # No metrics support \"multiclass-multioutput\" format\n     88     if (y_type not in [\"binary\", \"multiclass\", \"multilabel-indicator\"]):\n---> 89         raise ValueError(\"{0} is not supported\".format(y_type))\n        y_type = 'continuous'\n     90 \n     91     if y_type in [\"binary\", \"multiclass\"]:\n     92         y_true = column_or_1d(y_true)\n     93         y_pred = column_or_1d(y_pred)\n\nValueError: continuous is not supported\n___________________________________________________________________________",
      "\nDuring handling of the above exception, another exception occurred:\n",
      "\u001b[0;31mJoblibValueError\u001b[0m                          Traceback (most recent call last)",
      "\u001b[0;32m<ipython-input-36-c185615abed1>\u001b[0m in \u001b[0;36m<module>\u001b[0;34m()\u001b[0m\n\u001b[1;32m      1\u001b[0m \u001b[0mestimator\u001b[0m \u001b[0;34m=\u001b[0m \u001b[0mRandomForestRegressor\u001b[0m\u001b[0;34m(\u001b[0m\u001b[0mmax_features\u001b[0m\u001b[0;34m=\u001b[0m\u001b[0mcv_result\u001b[0m\u001b[0;34m.\u001b[0m\u001b[0mbest_params_\u001b[0m\u001b[0;34m[\u001b[0m\u001b[0;34m'max_features'\u001b[0m\u001b[0;34m]\u001b[0m\u001b[0;34m,\u001b[0m \u001b[0mn_estimators\u001b[0m\u001b[0;34m=\u001b[0m\u001b[0mcv_result\u001b[0m\u001b[0;34m.\u001b[0m\u001b[0mbest_params_\u001b[0m\u001b[0;34m[\u001b[0m\u001b[0;34m'n_estimators'\u001b[0m\u001b[0;34m]\u001b[0m\u001b[0;34m)\u001b[0m\u001b[0;34m\u001b[0m\u001b[0m\n\u001b[0;32m----> 2\u001b[0;31m \u001b[0mhelpers\u001b[0m\u001b[0;34m.\u001b[0m\u001b[0mplot_learning_curve\u001b[0m\u001b[0;34m(\u001b[0m\u001b[0mestimator\u001b[0m\u001b[0;34m,\u001b[0m \u001b[0;34m'Baseline regression'\u001b[0m\u001b[0;34m,\u001b[0m \u001b[0mx_training\u001b[0m\u001b[0;34m,\u001b[0m \u001b[0my_training\u001b[0m\u001b[0;34m,\u001b[0m\u001b[0mn_jobs\u001b[0m\u001b[0;34m=\u001b[0m\u001b[0;34m-\u001b[0m\u001b[0;36m1\u001b[0m\u001b[0;34m,\u001b[0m \u001b[0mcv\u001b[0m\u001b[0;34m=\u001b[0m\u001b[0;36m20\u001b[0m\u001b[0;34m,\u001b[0m \u001b[0mdummy\u001b[0m\u001b[0;34m=\u001b[0m\u001b[0mdummy_estimator\u001b[0m\u001b[0;34m)\u001b[0m\u001b[0;34m\u001b[0m\u001b[0m\n\u001b[0m",
      "\u001b[0;32m/Users/flo/Documents/Etudes/EPFL/ma3/ada/ada-homeworks/04 - Applied ML/helpers.py\u001b[0m in \u001b[0;36mplot_learning_curve\u001b[0;34m(estimator, title, X, y, ylim, cv, n_jobs, train_sizes, scoring, dummy)\u001b[0m\n\u001b[1;32m     81\u001b[0m         _, _, dummy_scores = learning_curve(\n\u001b[1;32m     82\u001b[0m             \u001b[0mdummy\u001b[0m\u001b[0;34m,\u001b[0m \u001b[0mX\u001b[0m\u001b[0;34m,\u001b[0m \u001b[0my\u001b[0m\u001b[0;34m,\u001b[0m \u001b[0mcv\u001b[0m\u001b[0;34m=\u001b[0m\u001b[0mcv\u001b[0m\u001b[0;34m,\u001b[0m \u001b[0mn_jobs\u001b[0m\u001b[0;34m=\u001b[0m\u001b[0mn_jobs\u001b[0m\u001b[0;34m,\u001b[0m \u001b[0mtrain_sizes\u001b[0m\u001b[0;34m=\u001b[0m\u001b[0mtrain_sizes\u001b[0m\u001b[0;34m,\u001b[0m \u001b[0mscoring\u001b[0m\u001b[0;34m=\u001b[0m\u001b[0mscoring\u001b[0m\u001b[0;34m\u001b[0m\u001b[0m\n\u001b[0;32m---> 83\u001b[0;31m         )\n\u001b[0m\u001b[1;32m     84\u001b[0m         \u001b[0mdummy_mean\u001b[0m \u001b[0;34m=\u001b[0m \u001b[0mnp\u001b[0m\u001b[0;34m.\u001b[0m\u001b[0mmean\u001b[0m\u001b[0;34m(\u001b[0m\u001b[0mdummy_scores\u001b[0m\u001b[0;34m,\u001b[0m \u001b[0maxis\u001b[0m\u001b[0;34m=\u001b[0m\u001b[0;36m1\u001b[0m\u001b[0;34m)\u001b[0m\u001b[0;34m\u001b[0m\u001b[0m\n\u001b[1;32m     85\u001b[0m         \u001b[0mdummy_std\u001b[0m \u001b[0;34m=\u001b[0m \u001b[0mnp\u001b[0m\u001b[0;34m.\u001b[0m\u001b[0mstd\u001b[0m\u001b[0;34m(\u001b[0m\u001b[0mdummy_scores\u001b[0m\u001b[0;34m,\u001b[0m \u001b[0maxis\u001b[0m\u001b[0;34m=\u001b[0m\u001b[0;36m1\u001b[0m\u001b[0;34m)\u001b[0m\u001b[0;34m\u001b[0m\u001b[0m\n",
      "\u001b[0;32m/Users/flo/anaconda3/envs/adaenv/lib/python3.5/site-packages/sklearn/model_selection/_validation.py\u001b[0m in \u001b[0;36mlearning_curve\u001b[0;34m(estimator, X, y, groups, train_sizes, cv, scoring, exploit_incremental_learning, n_jobs, pre_dispatch, verbose)\u001b[0m\n\u001b[1;32m    770\u001b[0m             \u001b[0mclone\u001b[0m\u001b[0;34m(\u001b[0m\u001b[0mestimator\u001b[0m\u001b[0;34m)\u001b[0m\u001b[0;34m,\u001b[0m \u001b[0mX\u001b[0m\u001b[0;34m,\u001b[0m \u001b[0my\u001b[0m\u001b[0;34m,\u001b[0m \u001b[0mscorer\u001b[0m\u001b[0;34m,\u001b[0m \u001b[0mtrain\u001b[0m\u001b[0;34m[\u001b[0m\u001b[0;34m:\u001b[0m\u001b[0mn_train_samples\u001b[0m\u001b[0;34m]\u001b[0m\u001b[0;34m,\u001b[0m \u001b[0mtest\u001b[0m\u001b[0;34m,\u001b[0m\u001b[0;34m\u001b[0m\u001b[0m\n\u001b[1;32m    771\u001b[0m             verbose, parameters=None, fit_params=None, return_train_score=True)\n\u001b[0;32m--> 772\u001b[0;31m             \u001b[0;32mfor\u001b[0m \u001b[0mtrain\u001b[0m\u001b[0;34m,\u001b[0m \u001b[0mtest\u001b[0m \u001b[0;32min\u001b[0m \u001b[0mcv_iter\u001b[0m\u001b[0;34m\u001b[0m\u001b[0m\n\u001b[0m\u001b[1;32m    773\u001b[0m             for n_train_samples in train_sizes_abs)\n\u001b[1;32m    774\u001b[0m         \u001b[0mout\u001b[0m \u001b[0;34m=\u001b[0m \u001b[0mnp\u001b[0m\u001b[0;34m.\u001b[0m\u001b[0marray\u001b[0m\u001b[0;34m(\u001b[0m\u001b[0mout\u001b[0m\u001b[0;34m)\u001b[0m\u001b[0;34m\u001b[0m\u001b[0m\n",
      "\u001b[0;32m/Users/flo/anaconda3/envs/adaenv/lib/python3.5/site-packages/sklearn/externals/joblib/parallel.py\u001b[0m in \u001b[0;36m__call__\u001b[0;34m(self, iterable)\u001b[0m\n\u001b[1;32m    766\u001b[0m                 \u001b[0;31m# consumption.\u001b[0m\u001b[0;34m\u001b[0m\u001b[0;34m\u001b[0m\u001b[0m\n\u001b[1;32m    767\u001b[0m                 \u001b[0mself\u001b[0m\u001b[0;34m.\u001b[0m\u001b[0m_iterating\u001b[0m \u001b[0;34m=\u001b[0m \u001b[0;32mFalse\u001b[0m\u001b[0;34m\u001b[0m\u001b[0m\n\u001b[0;32m--> 768\u001b[0;31m             \u001b[0mself\u001b[0m\u001b[0;34m.\u001b[0m\u001b[0mretrieve\u001b[0m\u001b[0;34m(\u001b[0m\u001b[0;34m)\u001b[0m\u001b[0;34m\u001b[0m\u001b[0m\n\u001b[0m\u001b[1;32m    769\u001b[0m             \u001b[0;31m# Make sure that we get a last message telling us we are done\u001b[0m\u001b[0;34m\u001b[0m\u001b[0;34m\u001b[0m\u001b[0m\n\u001b[1;32m    770\u001b[0m             \u001b[0melapsed_time\u001b[0m \u001b[0;34m=\u001b[0m \u001b[0mtime\u001b[0m\u001b[0;34m.\u001b[0m\u001b[0mtime\u001b[0m\u001b[0;34m(\u001b[0m\u001b[0;34m)\u001b[0m \u001b[0;34m-\u001b[0m \u001b[0mself\u001b[0m\u001b[0;34m.\u001b[0m\u001b[0m_start_time\u001b[0m\u001b[0;34m\u001b[0m\u001b[0m\n",
      "\u001b[0;32m/Users/flo/anaconda3/envs/adaenv/lib/python3.5/site-packages/sklearn/externals/joblib/parallel.py\u001b[0m in \u001b[0;36mretrieve\u001b[0;34m(self)\u001b[0m\n\u001b[1;32m    717\u001b[0m                     \u001b[0mensure_ready\u001b[0m \u001b[0;34m=\u001b[0m \u001b[0mself\u001b[0m\u001b[0;34m.\u001b[0m\u001b[0m_managed_backend\u001b[0m\u001b[0;34m\u001b[0m\u001b[0m\n\u001b[1;32m    718\u001b[0m                     \u001b[0mbackend\u001b[0m\u001b[0;34m.\u001b[0m\u001b[0mabort_everything\u001b[0m\u001b[0;34m(\u001b[0m\u001b[0mensure_ready\u001b[0m\u001b[0;34m=\u001b[0m\u001b[0mensure_ready\u001b[0m\u001b[0;34m)\u001b[0m\u001b[0;34m\u001b[0m\u001b[0m\n\u001b[0;32m--> 719\u001b[0;31m                 \u001b[0;32mraise\u001b[0m \u001b[0mexception\u001b[0m\u001b[0;34m\u001b[0m\u001b[0m\n\u001b[0m\u001b[1;32m    720\u001b[0m \u001b[0;34m\u001b[0m\u001b[0m\n\u001b[1;32m    721\u001b[0m     \u001b[0;32mdef\u001b[0m \u001b[0m__call__\u001b[0m\u001b[0;34m(\u001b[0m\u001b[0mself\u001b[0m\u001b[0;34m,\u001b[0m \u001b[0miterable\u001b[0m\u001b[0;34m)\u001b[0m\u001b[0;34m:\u001b[0m\u001b[0;34m\u001b[0m\u001b[0m\n",
      "\u001b[0;31mJoblibValueError\u001b[0m: JoblibValueError\n___________________________________________________________________________\nMultiprocessing exception:\n...........................................................................\n/Users/flo/anaconda3/envs/adaenv/lib/python3.5/runpy.py in _run_module_as_main(mod_name='ipykernel.__main__', alter_argv=1)\n    179         sys.exit(msg)\n    180     main_globals = sys.modules[\"__main__\"].__dict__\n    181     if alter_argv:\n    182         sys.argv[0] = mod_spec.origin\n    183     return _run_code(code, main_globals, None,\n--> 184                      \"__main__\", mod_spec)\n        mod_spec = ModuleSpec(name='ipykernel.__main__', loader=<_f...b/python3.5/site-packages/ipykernel/__main__.py')\n    185 \n    186 def run_module(mod_name, init_globals=None,\n    187                run_name=None, alter_sys=False):\n    188     \"\"\"Execute a module's code without importing it\n\n...........................................................................\n/Users/flo/anaconda3/envs/adaenv/lib/python3.5/runpy.py in _run_code(code=<code object <module> at 0x103165ae0, file \"/Use...3.5/site-packages/ipykernel/__main__.py\", line 1>, run_globals={'__builtins__': <module 'builtins' (built-in)>, '__cached__': '/Users/flo/anaconda3/envs/adaenv/lib/python3.5/s...ges/ipykernel/__pycache__/__main__.cpython-35.pyc', '__doc__': None, '__file__': '/Users/flo/anaconda3/envs/adaenv/lib/python3.5/site-packages/ipykernel/__main__.py', '__loader__': <_frozen_importlib_external.SourceFileLoader object>, '__name__': '__main__', '__package__': 'ipykernel', '__spec__': ModuleSpec(name='ipykernel.__main__', loader=<_f...b/python3.5/site-packages/ipykernel/__main__.py'), 'app': <module 'ipykernel.kernelapp' from '/Users/flo/a.../python3.5/site-packages/ipykernel/kernelapp.py'>}, init_globals=None, mod_name='__main__', mod_spec=ModuleSpec(name='ipykernel.__main__', loader=<_f...b/python3.5/site-packages/ipykernel/__main__.py'), pkg_name='ipykernel', script_name=None)\n     80                        __cached__ = cached,\n     81                        __doc__ = None,\n     82                        __loader__ = loader,\n     83                        __package__ = pkg_name,\n     84                        __spec__ = mod_spec)\n---> 85     exec(code, run_globals)\n        code = <code object <module> at 0x103165ae0, file \"/Use...3.5/site-packages/ipykernel/__main__.py\", line 1>\n        run_globals = {'__builtins__': <module 'builtins' (built-in)>, '__cached__': '/Users/flo/anaconda3/envs/adaenv/lib/python3.5/s...ges/ipykernel/__pycache__/__main__.cpython-35.pyc', '__doc__': None, '__file__': '/Users/flo/anaconda3/envs/adaenv/lib/python3.5/site-packages/ipykernel/__main__.py', '__loader__': <_frozen_importlib_external.SourceFileLoader object>, '__name__': '__main__', '__package__': 'ipykernel', '__spec__': ModuleSpec(name='ipykernel.__main__', loader=<_f...b/python3.5/site-packages/ipykernel/__main__.py'), 'app': <module 'ipykernel.kernelapp' from '/Users/flo/a.../python3.5/site-packages/ipykernel/kernelapp.py'>}\n     86     return run_globals\n     87 \n     88 def _run_module_code(code, init_globals=None,\n     89                     mod_name=None, mod_spec=None,\n\n...........................................................................\n/Users/flo/anaconda3/envs/adaenv/lib/python3.5/site-packages/ipykernel/__main__.py in <module>()\n      1 \n      2 \n----> 3 \n      4 if __name__ == '__main__':\n      5     from ipykernel import kernelapp as app\n      6     app.launch_new_instance()\n      7 \n      8 \n      9 \n     10 \n\n...........................................................................\n/Users/flo/anaconda3/envs/adaenv/lib/python3.5/site-packages/traitlets/config/application.py in launch_instance(cls=<class 'ipykernel.kernelapp.IPKernelApp'>, argv=None, **kwargs={})\n    653 \n    654         If a global instance already exists, this reinitializes and starts it\n    655         \"\"\"\n    656         app = cls.instance(**kwargs)\n    657         app.initialize(argv)\n--> 658         app.start()\n        app.start = <bound method IPKernelApp.start of <ipykernel.kernelapp.IPKernelApp object>>\n    659 \n    660 #-----------------------------------------------------------------------------\n    661 # utility functions, for convenience\n    662 #-----------------------------------------------------------------------------\n\n...........................................................................\n/Users/flo/anaconda3/envs/adaenv/lib/python3.5/site-packages/ipykernel/kernelapp.py in start(self=<ipykernel.kernelapp.IPKernelApp object>)\n    469             return self.subapp.start()\n    470         if self.poller is not None:\n    471             self.poller.start()\n    472         self.kernel.start()\n    473         try:\n--> 474             ioloop.IOLoop.instance().start()\n    475         except KeyboardInterrupt:\n    476             pass\n    477 \n    478 launch_new_instance = IPKernelApp.launch_instance\n\n...........................................................................\n/Users/flo/anaconda3/envs/adaenv/lib/python3.5/site-packages/zmq/eventloop/ioloop.py in start(self=<zmq.eventloop.ioloop.ZMQIOLoop object>)\n    172             )\n    173         return loop\n    174     \n    175     def start(self):\n    176         try:\n--> 177             super(ZMQIOLoop, self).start()\n        self.start = <bound method ZMQIOLoop.start of <zmq.eventloop.ioloop.ZMQIOLoop object>>\n    178         except ZMQError as e:\n    179             if e.errno == ETERM:\n    180                 # quietly return on ETERM\n    181                 pass\n\n...........................................................................\n/Users/flo/anaconda3/envs/adaenv/lib/python3.5/site-packages/tornado/ioloop.py in start(self=<zmq.eventloop.ioloop.ZMQIOLoop object>)\n    882                 self._events.update(event_pairs)\n    883                 while self._events:\n    884                     fd, events = self._events.popitem()\n    885                     try:\n    886                         fd_obj, handler_func = self._handlers[fd]\n--> 887                         handler_func(fd_obj, events)\n        handler_func = <function wrap.<locals>.null_wrapper>\n        fd_obj = <zmq.sugar.socket.Socket object>\n        events = 1\n    888                     except (OSError, IOError) as e:\n    889                         if errno_from_exception(e) == errno.EPIPE:\n    890                             # Happens when the client closes the connection\n    891                             pass\n\n...........................................................................\n/Users/flo/anaconda3/envs/adaenv/lib/python3.5/site-packages/tornado/stack_context.py in null_wrapper(*args=(<zmq.sugar.socket.Socket object>, 1), **kwargs={})\n    270         # Fast path when there are no active contexts.\n    271         def null_wrapper(*args, **kwargs):\n    272             try:\n    273                 current_state = _state.contexts\n    274                 _state.contexts = cap_contexts[0]\n--> 275                 return fn(*args, **kwargs)\n        args = (<zmq.sugar.socket.Socket object>, 1)\n        kwargs = {}\n    276             finally:\n    277                 _state.contexts = current_state\n    278         null_wrapper._wrapped = True\n    279         return null_wrapper\n\n...........................................................................\n/Users/flo/anaconda3/envs/adaenv/lib/python3.5/site-packages/zmq/eventloop/zmqstream.py in _handle_events(self=<zmq.eventloop.zmqstream.ZMQStream object>, fd=<zmq.sugar.socket.Socket object>, events=1)\n    435             # dispatch events:\n    436             if events & IOLoop.ERROR:\n    437                 gen_log.error(\"got POLLERR event on ZMQStream, which doesn't make sense\")\n    438                 return\n    439             if events & IOLoop.READ:\n--> 440                 self._handle_recv()\n        self._handle_recv = <bound method ZMQStream._handle_recv of <zmq.eventloop.zmqstream.ZMQStream object>>\n    441                 if not self.socket:\n    442                     return\n    443             if events & IOLoop.WRITE:\n    444                 self._handle_send()\n\n...........................................................................\n/Users/flo/anaconda3/envs/adaenv/lib/python3.5/site-packages/zmq/eventloop/zmqstream.py in _handle_recv(self=<zmq.eventloop.zmqstream.ZMQStream object>)\n    467                 gen_log.error(\"RECV Error: %s\"%zmq.strerror(e.errno))\n    468         else:\n    469             if self._recv_callback:\n    470                 callback = self._recv_callback\n    471                 # self._recv_callback = None\n--> 472                 self._run_callback(callback, msg)\n        self._run_callback = <bound method ZMQStream._run_callback of <zmq.eventloop.zmqstream.ZMQStream object>>\n        callback = <function wrap.<locals>.null_wrapper>\n        msg = [<zmq.sugar.frame.Frame object>, <zmq.sugar.frame.Frame object>, <zmq.sugar.frame.Frame object>, <zmq.sugar.frame.Frame object>, <zmq.sugar.frame.Frame object>, <zmq.sugar.frame.Frame object>, <zmq.sugar.frame.Frame object>]\n    473                 \n    474         # self.update_state()\n    475         \n    476 \n\n...........................................................................\n/Users/flo/anaconda3/envs/adaenv/lib/python3.5/site-packages/zmq/eventloop/zmqstream.py in _run_callback(self=<zmq.eventloop.zmqstream.ZMQStream object>, callback=<function wrap.<locals>.null_wrapper>, *args=([<zmq.sugar.frame.Frame object>, <zmq.sugar.frame.Frame object>, <zmq.sugar.frame.Frame object>, <zmq.sugar.frame.Frame object>, <zmq.sugar.frame.Frame object>, <zmq.sugar.frame.Frame object>, <zmq.sugar.frame.Frame object>],), **kwargs={})\n    409         close our socket.\"\"\"\n    410         try:\n    411             # Use a NullContext to ensure that all StackContexts are run\n    412             # inside our blanket exception handler rather than outside.\n    413             with stack_context.NullContext():\n--> 414                 callback(*args, **kwargs)\n        callback = <function wrap.<locals>.null_wrapper>\n        args = ([<zmq.sugar.frame.Frame object>, <zmq.sugar.frame.Frame object>, <zmq.sugar.frame.Frame object>, <zmq.sugar.frame.Frame object>, <zmq.sugar.frame.Frame object>, <zmq.sugar.frame.Frame object>, <zmq.sugar.frame.Frame object>],)\n        kwargs = {}\n    415         except:\n    416             gen_log.error(\"Uncaught exception, closing connection.\",\n    417                           exc_info=True)\n    418             # Close the socket on an uncaught exception from a user callback\n\n...........................................................................\n/Users/flo/anaconda3/envs/adaenv/lib/python3.5/site-packages/tornado/stack_context.py in null_wrapper(*args=([<zmq.sugar.frame.Frame object>, <zmq.sugar.frame.Frame object>, <zmq.sugar.frame.Frame object>, <zmq.sugar.frame.Frame object>, <zmq.sugar.frame.Frame object>, <zmq.sugar.frame.Frame object>, <zmq.sugar.frame.Frame object>],), **kwargs={})\n    270         # Fast path when there are no active contexts.\n    271         def null_wrapper(*args, **kwargs):\n    272             try:\n    273                 current_state = _state.contexts\n    274                 _state.contexts = cap_contexts[0]\n--> 275                 return fn(*args, **kwargs)\n        args = ([<zmq.sugar.frame.Frame object>, <zmq.sugar.frame.Frame object>, <zmq.sugar.frame.Frame object>, <zmq.sugar.frame.Frame object>, <zmq.sugar.frame.Frame object>, <zmq.sugar.frame.Frame object>, <zmq.sugar.frame.Frame object>],)\n        kwargs = {}\n    276             finally:\n    277                 _state.contexts = current_state\n    278         null_wrapper._wrapped = True\n    279         return null_wrapper\n\n...........................................................................\n/Users/flo/anaconda3/envs/adaenv/lib/python3.5/site-packages/ipykernel/kernelbase.py in dispatcher(msg=[<zmq.sugar.frame.Frame object>, <zmq.sugar.frame.Frame object>, <zmq.sugar.frame.Frame object>, <zmq.sugar.frame.Frame object>, <zmq.sugar.frame.Frame object>, <zmq.sugar.frame.Frame object>, <zmq.sugar.frame.Frame object>])\n    271         if self.control_stream:\n    272             self.control_stream.on_recv(self.dispatch_control, copy=False)\n    273 \n    274         def make_dispatcher(stream):\n    275             def dispatcher(msg):\n--> 276                 return self.dispatch_shell(stream, msg)\n        msg = [<zmq.sugar.frame.Frame object>, <zmq.sugar.frame.Frame object>, <zmq.sugar.frame.Frame object>, <zmq.sugar.frame.Frame object>, <zmq.sugar.frame.Frame object>, <zmq.sugar.frame.Frame object>, <zmq.sugar.frame.Frame object>]\n    277             return dispatcher\n    278 \n    279         for s in self.shell_streams:\n    280             s.on_recv(make_dispatcher(s), copy=False)\n\n...........................................................................\n/Users/flo/anaconda3/envs/adaenv/lib/python3.5/site-packages/ipykernel/kernelbase.py in dispatch_shell(self=<ipykernel.ipkernel.IPythonKernel object>, stream=<zmq.eventloop.zmqstream.ZMQStream object>, msg={'buffers': [], 'content': {'allow_stdin': True, 'code': 'estimator = RandomForestRegressor(max_features=c...training,n_jobs=-1, cv=20, dummy=dummy_estimator)', 'silent': False, 'stop_on_error': True, 'store_history': True, 'user_expressions': {}}, 'header': {'date': '2016-11-20T14:51:37.804963', 'msg_id': 'A9794A1BFA72442681D7F6739E17CAC5', 'msg_type': 'execute_request', 'session': '2310805B2F6D4A128C1173DDC45AFA06', 'username': 'username', 'version': '5.0'}, 'metadata': {}, 'msg_id': 'A9794A1BFA72442681D7F6739E17CAC5', 'msg_type': 'execute_request', 'parent_header': {}})\n    223             self.log.error(\"UNKNOWN MESSAGE TYPE: %r\", msg_type)\n    224         else:\n    225             self.log.debug(\"%s: %s\", msg_type, msg)\n    226             self.pre_handler_hook()\n    227             try:\n--> 228                 handler(stream, idents, msg)\n        handler = <bound method Kernel.execute_request of <ipykernel.ipkernel.IPythonKernel object>>\n        stream = <zmq.eventloop.zmqstream.ZMQStream object>\n        idents = [b'2310805B2F6D4A128C1173DDC45AFA06']\n        msg = {'buffers': [], 'content': {'allow_stdin': True, 'code': 'estimator = RandomForestRegressor(max_features=c...training,n_jobs=-1, cv=20, dummy=dummy_estimator)', 'silent': False, 'stop_on_error': True, 'store_history': True, 'user_expressions': {}}, 'header': {'date': '2016-11-20T14:51:37.804963', 'msg_id': 'A9794A1BFA72442681D7F6739E17CAC5', 'msg_type': 'execute_request', 'session': '2310805B2F6D4A128C1173DDC45AFA06', 'username': 'username', 'version': '5.0'}, 'metadata': {}, 'msg_id': 'A9794A1BFA72442681D7F6739E17CAC5', 'msg_type': 'execute_request', 'parent_header': {}}\n    229             except Exception:\n    230                 self.log.error(\"Exception in message handler:\", exc_info=True)\n    231             finally:\n    232                 self.post_handler_hook()\n\n...........................................................................\n/Users/flo/anaconda3/envs/adaenv/lib/python3.5/site-packages/ipykernel/kernelbase.py in execute_request(self=<ipykernel.ipkernel.IPythonKernel object>, stream=<zmq.eventloop.zmqstream.ZMQStream object>, ident=[b'2310805B2F6D4A128C1173DDC45AFA06'], parent={'buffers': [], 'content': {'allow_stdin': True, 'code': 'estimator = RandomForestRegressor(max_features=c...training,n_jobs=-1, cv=20, dummy=dummy_estimator)', 'silent': False, 'stop_on_error': True, 'store_history': True, 'user_expressions': {}}, 'header': {'date': '2016-11-20T14:51:37.804963', 'msg_id': 'A9794A1BFA72442681D7F6739E17CAC5', 'msg_type': 'execute_request', 'session': '2310805B2F6D4A128C1173DDC45AFA06', 'username': 'username', 'version': '5.0'}, 'metadata': {}, 'msg_id': 'A9794A1BFA72442681D7F6739E17CAC5', 'msg_type': 'execute_request', 'parent_header': {}})\n    385         if not silent:\n    386             self.execution_count += 1\n    387             self._publish_execute_input(code, parent, self.execution_count)\n    388 \n    389         reply_content = self.do_execute(code, silent, store_history,\n--> 390                                         user_expressions, allow_stdin)\n        user_expressions = {}\n        allow_stdin = True\n    391 \n    392         # Flush output before sending the reply.\n    393         sys.stdout.flush()\n    394         sys.stderr.flush()\n\n...........................................................................\n/Users/flo/anaconda3/envs/adaenv/lib/python3.5/site-packages/ipykernel/ipkernel.py in do_execute(self=<ipykernel.ipkernel.IPythonKernel object>, code='estimator = RandomForestRegressor(max_features=c...training,n_jobs=-1, cv=20, dummy=dummy_estimator)', silent=False, store_history=True, user_expressions={}, allow_stdin=True)\n    191 \n    192         self._forward_input(allow_stdin)\n    193 \n    194         reply_content = {}\n    195         try:\n--> 196             res = shell.run_cell(code, store_history=store_history, silent=silent)\n        res = undefined\n        shell.run_cell = <bound method ZMQInteractiveShell.run_cell of <ipykernel.zmqshell.ZMQInteractiveShell object>>\n        code = 'estimator = RandomForestRegressor(max_features=c...training,n_jobs=-1, cv=20, dummy=dummy_estimator)'\n        store_history = True\n        silent = False\n    197         finally:\n    198             self._restore_input()\n    199 \n    200         if res.error_before_exec is not None:\n\n...........................................................................\n/Users/flo/anaconda3/envs/adaenv/lib/python3.5/site-packages/ipykernel/zmqshell.py in run_cell(self=<ipykernel.zmqshell.ZMQInteractiveShell object>, *args=('estimator = RandomForestRegressor(max_features=c...training,n_jobs=-1, cv=20, dummy=dummy_estimator)',), **kwargs={'silent': False, 'store_history': True})\n    496             )\n    497         self.payload_manager.write_payload(payload)\n    498 \n    499     def run_cell(self, *args, **kwargs):\n    500         self._last_traceback = None\n--> 501         return super(ZMQInteractiveShell, self).run_cell(*args, **kwargs)\n        self.run_cell = <bound method ZMQInteractiveShell.run_cell of <ipykernel.zmqshell.ZMQInteractiveShell object>>\n        args = ('estimator = RandomForestRegressor(max_features=c...training,n_jobs=-1, cv=20, dummy=dummy_estimator)',)\n        kwargs = {'silent': False, 'store_history': True}\n    502 \n    503     def _showtraceback(self, etype, evalue, stb):\n    504         # try to preserve ordering of tracebacks and print statements\n    505         sys.stdout.flush()\n\n...........................................................................\n/Users/flo/anaconda3/envs/adaenv/lib/python3.5/site-packages/IPython/core/interactiveshell.py in run_cell(self=<ipykernel.zmqshell.ZMQInteractiveShell object>, raw_cell='estimator = RandomForestRegressor(max_features=c...training,n_jobs=-1, cv=20, dummy=dummy_estimator)', store_history=True, silent=False, shell_futures=True)\n   2712                 self.displayhook.exec_result = result\n   2713 \n   2714                 # Execute the user code\n   2715                 interactivity = \"none\" if silent else self.ast_node_interactivity\n   2716                 has_raised = self.run_ast_nodes(code_ast.body, cell_name,\n-> 2717                    interactivity=interactivity, compiler=compiler, result=result)\n        interactivity = 'last_expr'\n        compiler = <IPython.core.compilerop.CachingCompiler object>\n   2718                 \n   2719                 self.last_execution_succeeded = not has_raised\n   2720 \n   2721                 # Reset this so later displayed values do not modify the\n\n...........................................................................\n/Users/flo/anaconda3/envs/adaenv/lib/python3.5/site-packages/IPython/core/interactiveshell.py in run_ast_nodes(self=<ipykernel.zmqshell.ZMQInteractiveShell object>, nodelist=[<_ast.Assign object>, <_ast.Expr object>], cell_name='<ipython-input-36-c185615abed1>', interactivity='last', compiler=<IPython.core.compilerop.CachingCompiler object>, result=<ExecutionResult object at 10de15ef0, execution_..._before_exec=None error_in_exec=None result=None>)\n   2822                     return True\n   2823 \n   2824             for i, node in enumerate(to_run_interactive):\n   2825                 mod = ast.Interactive([node])\n   2826                 code = compiler(mod, cell_name, \"single\")\n-> 2827                 if self.run_code(code, result):\n        self.run_code = <bound method InteractiveShell.run_code of <ipykernel.zmqshell.ZMQInteractiveShell object>>\n        code = <code object <module> at 0x10e0a34b0, file \"<ipython-input-36-c185615abed1>\", line 2>\n        result = <ExecutionResult object at 10de15ef0, execution_..._before_exec=None error_in_exec=None result=None>\n   2828                     return True\n   2829 \n   2830             # Flush softspace\n   2831             if softspace(sys.stdout, 0):\n\n...........................................................................\n/Users/flo/anaconda3/envs/adaenv/lib/python3.5/site-packages/IPython/core/interactiveshell.py in run_code(self=<ipykernel.zmqshell.ZMQInteractiveShell object>, code_obj=<code object <module> at 0x10e0a34b0, file \"<ipython-input-36-c185615abed1>\", line 2>, result=<ExecutionResult object at 10de15ef0, execution_..._before_exec=None error_in_exec=None result=None>)\n   2876         outflag = 1  # happens in more places, so it's easier as default\n   2877         try:\n   2878             try:\n   2879                 self.hooks.pre_run_code_hook()\n   2880                 #rprint('Running code', repr(code_obj)) # dbg\n-> 2881                 exec(code_obj, self.user_global_ns, self.user_ns)\n        code_obj = <code object <module> at 0x10e0a34b0, file \"<ipython-input-36-c185615abed1>\", line 2>\n        self.user_global_ns = {'DummyClassifier': <class 'sklearn.dummy.DummyClassifier'>, 'GridSearchCV': <class 'sklearn.model_selection._search.GridSearchCV'>, 'In': ['', 'import os\\nimport pandas as pd\\nimport numpy as np...                               # For pretty plots', \"df = pd.read_csv(os.path.join('data', 'CrowdstormingDataJuly1st.csv'))\\nprint(df.head(10))\", \"dfd = pd.read_csv(os.path.join('data', 'crowdstorm_disaggregated.csv'))\\ndfd.head(10)\", 'df_cols = set(df.columns)\\ndfd_cols = set(dfd.col...ost columns: {}\".format(len(df_cols - dfd_cols)))', 'print(\"New columns: {}\".format(dfd_cols - df_cols))', 'print(\"All fields: {}\".format(dfd.columns))', \"df['skintone'] = 0.5 * (df['rater1']+df['rater2'])\\ndf.head()\", 'df_skinton = df[[\"playerShort\", \"skintone\"]].res...mat(mean_skin.symmetric_difference(unique_skin)))', \"df_skinton['skintone'].dropna().hist()\", \"referee_per_player = df.groupby('playerShort').count()['player']\\nreferee_per_player.describe()\", \"referee_per_player.hist()\\nplt.title('Number of referee per player')\", '(referee_per_player < 5).sum()', 'player_low_n_referees = df.set_index(\\'playerShor...{:0.1f}%\".format(player_low_referee_ratio * 100))', 'player_one_referee = df.set_index(\\'playerShort\\')...= {:0.1f}%\".format(player_one_referee_ratio*100))', \"LABEL_FIELDS = ['club', 'leagueCountry', 'positi...rs['skintone'] = encoder\\n\\ndf_categorized.head(10)\", \"with pd.option_context('display.max_columns', 100):\\n    print(df_categorized.head(5))\", \"df_subset = df_categorized[['playerShort', 'club...] + 3*df_subset['redCards']) / df_subset['games']\", 'def check_field_uniqueness_per_player(df, field)...rint(\"All tested fields are unique for a player\")', 'def pick_first(elements):\\n    \"\"\"\\n    Aggregator... are the same\\n    \"\"\"\\n    return elements.iloc[0]', ...], 'LABEL_FIELDS': ['club', 'leagueCountry', 'position', 'Alpha_3'], 'LabelEncoder': <class 'sklearn.preprocessing.label.LabelEncoder'>, 'Out': {3:           playerShort              player       ...            0        30  \n\n[10 rows x 32 columns], 7:      playerShort         player             club...  \n4  0.001002       NaN  \n\n[5 rows x 29 columns], 9: <matplotlib.axes._subplots.AxesSubplot object>, 10: count    2053.000000\nmean       71.129079\nstd   ...max       202.000000\nName: player, dtype: float64, 11: <matplotlib.text.Text object>, 12: 39, 15:           playerShort              player  club ...0.0  0.013752       0.0  \n\n[10 rows x 29 columns], 20:                         leagueCountry      cost ...            1  0.000000         5    95       7.0, 22: {'max_features': 2, 'n_estimators': 30}, 25: <module 'matplotlib.pyplot' from '/Users/flo/ana...ib/python3.5/site-packages/matplotlib/pyplot.py'>, ...}, 'RandomForestClassifier': <class 'sklearn.ensemble.forest.RandomForestClassifier'>, 'RandomForestRegressor': <class 'sklearn.ensemble.forest.RandomForestRegressor'>, 'UNKNOWN_LABEL': 'MISSING', '_':                         leagueCountry      cost ...            1  0.000000         5    95     0.875, ...}\n        self.user_ns = {'DummyClassifier': <class 'sklearn.dummy.DummyClassifier'>, 'GridSearchCV': <class 'sklearn.model_selection._search.GridSearchCV'>, 'In': ['', 'import os\\nimport pandas as pd\\nimport numpy as np...                               # For pretty plots', \"df = pd.read_csv(os.path.join('data', 'CrowdstormingDataJuly1st.csv'))\\nprint(df.head(10))\", \"dfd = pd.read_csv(os.path.join('data', 'crowdstorm_disaggregated.csv'))\\ndfd.head(10)\", 'df_cols = set(df.columns)\\ndfd_cols = set(dfd.col...ost columns: {}\".format(len(df_cols - dfd_cols)))', 'print(\"New columns: {}\".format(dfd_cols - df_cols))', 'print(\"All fields: {}\".format(dfd.columns))', \"df['skintone'] = 0.5 * (df['rater1']+df['rater2'])\\ndf.head()\", 'df_skinton = df[[\"playerShort\", \"skintone\"]].res...mat(mean_skin.symmetric_difference(unique_skin)))', \"df_skinton['skintone'].dropna().hist()\", \"referee_per_player = df.groupby('playerShort').count()['player']\\nreferee_per_player.describe()\", \"referee_per_player.hist()\\nplt.title('Number of referee per player')\", '(referee_per_player < 5).sum()', 'player_low_n_referees = df.set_index(\\'playerShor...{:0.1f}%\".format(player_low_referee_ratio * 100))', 'player_one_referee = df.set_index(\\'playerShort\\')...= {:0.1f}%\".format(player_one_referee_ratio*100))', \"LABEL_FIELDS = ['club', 'leagueCountry', 'positi...rs['skintone'] = encoder\\n\\ndf_categorized.head(10)\", \"with pd.option_context('display.max_columns', 100):\\n    print(df_categorized.head(5))\", \"df_subset = df_categorized[['playerShort', 'club...] + 3*df_subset['redCards']) / df_subset['games']\", 'def check_field_uniqueness_per_player(df, field)...rint(\"All tested fields are unique for a player\")', 'def pick_first(elements):\\n    \"\"\"\\n    Aggregator... are the same\\n    \"\"\"\\n    return elements.iloc[0]', ...], 'LABEL_FIELDS': ['club', 'leagueCountry', 'position', 'Alpha_3'], 'LabelEncoder': <class 'sklearn.preprocessing.label.LabelEncoder'>, 'Out': {3:           playerShort              player       ...            0        30  \n\n[10 rows x 32 columns], 7:      playerShort         player             club...  \n4  0.001002       NaN  \n\n[5 rows x 29 columns], 9: <matplotlib.axes._subplots.AxesSubplot object>, 10: count    2053.000000\nmean       71.129079\nstd   ...max       202.000000\nName: player, dtype: float64, 11: <matplotlib.text.Text object>, 12: 39, 15:           playerShort              player  club ...0.0  0.013752       0.0  \n\n[10 rows x 29 columns], 20:                         leagueCountry      cost ...            1  0.000000         5    95       7.0, 22: {'max_features': 2, 'n_estimators': 30}, 25: <module 'matplotlib.pyplot' from '/Users/flo/ana...ib/python3.5/site-packages/matplotlib/pyplot.py'>, ...}, 'RandomForestClassifier': <class 'sklearn.ensemble.forest.RandomForestClassifier'>, 'RandomForestRegressor': <class 'sklearn.ensemble.forest.RandomForestRegressor'>, 'UNKNOWN_LABEL': 'MISSING', '_':                         leagueCountry      cost ...            1  0.000000         5    95     0.875, ...}\n   2882             finally:\n   2883                 # Reset our crash handler in place\n   2884                 sys.excepthook = old_excepthook\n   2885         except SystemExit as e:\n\n...........................................................................\n/Users/flo/Documents/Etudes/EPFL/ma3/ada/ada-homeworks/04 - Applied ML/<ipython-input-36-c185615abed1> in <module>()\n      1 \n----> 2 \n      3 \n      4 \n      5 estimator = RandomForestRegressor(max_features=cv_result.best_params_['max_features'], n_estimators=cv_result.best_params_['n_estimators'])\n      6 helpers.plot_learning_curve(estimator, 'Baseline regression', x_training, y_training,n_jobs=-1, cv=20, dummy=dummy_estimator)\n      7 \n      8 \n      9 \n     10 \n\n...........................................................................\n/Users/flo/Documents/Etudes/EPFL/ma3/ada/ada-homeworks/04 - Applied ML/helpers.py in plot_learning_curve(estimator=RandomForestRegressor(bootstrap=True, criterion=..., random_state=None, verbose=0, warm_start=False), title='Baseline regression', X=                        leagueCountry       cost...2.052402         4    80\n\n[1585 rows x 4 columns], y=playerShort\naaron-hughes              0.125\naaro...             0.000\nName: skintone, dtype: float64, ylim=None, cv=20, n_jobs=-1, train_sizes=array([ 150,  489,  827, 1166, 1505]), scoring=None, dummy=DummyClassifier(constant=None, random_state=None, strategy='stratified'))\n     78              label=\"Cross-validation score\")\n     79     \n     80     if dummy is not None:\n     81         _, _, dummy_scores = learning_curve(\n     82             dummy, X, y, cv=cv, n_jobs=n_jobs, train_sizes=train_sizes, scoring=scoring\n---> 83         )\n     84         dummy_mean = np.mean(dummy_scores, axis=1)\n     85         dummy_std = np.std(dummy_scores, axis=1)\n     86 \n     87         plt.fill_between(train_sizes, dummy_mean - dummy_std,\n\n...........................................................................\n/Users/flo/anaconda3/envs/adaenv/lib/python3.5/site-packages/sklearn/model_selection/_validation.py in learning_curve(estimator=DummyClassifier(constant=None, random_state=None, strategy='stratified'), X=                        leagueCountry       cost...2.052402         4    80\n\n[1585 rows x 4 columns], y=playerShort\naaron-hughes              0.125\naaro...             0.000\nName: skintone, dtype: float64, groups=None, train_sizes=array([ 150,  489,  827, 1166, 1505]), cv=KFold(n_splits=20, random_state=None, shuffle=False), scoring=None, exploit_incremental_learning=False, n_jobs=-1, pre_dispatch='all', verbose=0)\n    767             scorer, verbose) for train, test in cv_iter)\n    768     else:\n    769         out = parallel(delayed(_fit_and_score)(\n    770             clone(estimator), X, y, scorer, train[:n_train_samples], test,\n    771             verbose, parameters=None, fit_params=None, return_train_score=True)\n--> 772             for train, test in cv_iter\n        cv_iter = [(array([  80,   81,   82, ..., 1582, 1583, 1584]), array([ 0,  1,  2,  3,  4,  5,  6,  7,  8,  9, 1... 68, 69, 70, 71, 72, 73, 74, 75, 76, 77, 78, 79])), (array([   0,    1,    2, ..., 1582, 1583, 1584]), array([ 80,  81,  82,  83,  84,  85,  86,  87,  ..., 152, 153, 154, 155, 156, 157,\n       158, 159])), (array([   0,    1,    2, ..., 1582, 1583, 1584]), array([160, 161, 162, 163, 164, 165, 166, 167, 1..., 232, 233, 234, 235, 236, 237,\n       238, 239])), (array([   0,    1,    2, ..., 1582, 1583, 1584]), array([240, 241, 242, 243, 244, 245, 246, 247, 2..., 312, 313, 314, 315, 316, 317,\n       318, 319])), (array([   0,    1,    2, ..., 1582, 1583, 1584]), array([320, 321, 322, 323, 324, 325, 326, 327, 3..., 392, 393, 394, 395, 396, 397,\n       398, 399])), (array([   0,    1,    2, ..., 1582, 1583, 1584]), array([400, 401, 402, 403, 404, 405, 406, 407, 4...69, 470, 471, 472, 473, 474, 475, 476, 477, 478])), (array([   0,    1,    2, ..., 1582, 1583, 1584]), array([479, 480, 481, 482, 483, 484, 485, 486, 4...48, 549, 550, 551, 552, 553, 554, 555, 556, 557])), (array([   0,    1,    2, ..., 1582, 1583, 1584]), array([558, 559, 560, 561, 562, 563, 564, 565, 5...27, 628, 629, 630, 631, 632, 633, 634, 635, 636])), (array([   0,    1,    2, ..., 1582, 1583, 1584]), array([637, 638, 639, 640, 641, 642, 643, 644, 6...06, 707, 708, 709, 710, 711, 712, 713, 714, 715])), (array([   0,    1,    2, ..., 1582, 1583, 1584]), array([716, 717, 718, 719, 720, 721, 722, 723, 7...85, 786, 787, 788, 789, 790, 791, 792, 793, 794])), (array([   0,    1,    2, ..., 1582, 1583, 1584]), array([795, 796, 797, 798, 799, 800, 801, 802, 8...64, 865, 866, 867, 868, 869, 870, 871, 872, 873])), (array([   0,    1,    2, ..., 1582, 1583, 1584]), array([874, 875, 876, 877, 878, 879, 880, 881, 8...43, 944, 945, 946, 947, 948, 949, 950, 951, 952])), (array([   0,    1,    2, ..., 1582, 1583, 1584]), array([ 953,  954,  955,  956,  957,  958,  959,...1025, 1026, 1027, 1028, 1029,\n       1030, 1031])), (array([   0,    1,    2, ..., 1582, 1583, 1584]), array([1032, 1033, 1034, 1035, 1036, 1037, 1038,...1104, 1105, 1106, 1107, 1108,\n       1109, 1110])), (array([   0,    1,    2, ..., 1582, 1583, 1584]), array([1111, 1112, 1113, 1114, 1115, 1116, 1117,...1183, 1184, 1185, 1186, 1187,\n       1188, 1189])), (array([   0,    1,    2, ..., 1582, 1583, 1584]), array([1190, 1191, 1192, 1193, 1194, 1195, 1196,...1262, 1263, 1264, 1265, 1266,\n       1267, 1268])), (array([   0,    1,    2, ..., 1582, 1583, 1584]), array([1269, 1270, 1271, 1272, 1273, 1274, 1275,...1341, 1342, 1343, 1344, 1345,\n       1346, 1347])), (array([   0,    1,    2, ..., 1582, 1583, 1584]), array([1348, 1349, 1350, 1351, 1352, 1353, 1354,...1420, 1421, 1422, 1423, 1424,\n       1425, 1426])), (array([   0,    1,    2, ..., 1582, 1583, 1584]), array([1427, 1428, 1429, 1430, 1431, 1432, 1433,...1499, 1500, 1501, 1502, 1503,\n       1504, 1505])), (array([   0,    1,    2, ..., 1503, 1504, 1505]), array([1506, 1507, 1508, 1509, 1510, 1511, 1512,...1578, 1579, 1580, 1581, 1582,\n       1583, 1584]))]\n    773             for n_train_samples in train_sizes_abs)\n    774         out = np.array(out)\n    775         n_cv_folds = out.shape[0] // n_unique_ticks\n    776         out = out.reshape(n_cv_folds, n_unique_ticks, 2)\n\n...........................................................................\n/Users/flo/anaconda3/envs/adaenv/lib/python3.5/site-packages/sklearn/externals/joblib/parallel.py in __call__(self=Parallel(n_jobs=-1), iterable=<generator object learning_curve.<locals>.<genexpr>>)\n    763             if pre_dispatch == \"all\" or n_jobs == 1:\n    764                 # The iterable was consumed all at once by the above for loop.\n    765                 # No need to wait for async callbacks to trigger to\n    766                 # consumption.\n    767                 self._iterating = False\n--> 768             self.retrieve()\n        self.retrieve = <bound method Parallel.retrieve of Parallel(n_jobs=-1)>\n    769             # Make sure that we get a last message telling us we are done\n    770             elapsed_time = time.time() - self._start_time\n    771             self._print('Done %3i out of %3i | elapsed: %s finished',\n    772                         (len(self._output), len(self._output),\n\n---------------------------------------------------------------------------\nSub-process traceback:\n---------------------------------------------------------------------------\nValueError                                         Sun Nov 20 14:51:41 2016\nPID: 21972        Python 3.5.2: /Users/flo/anaconda3/envs/adaenv/bin/python\n...........................................................................\n/Users/flo/anaconda3/envs/adaenv/lib/python3.5/site-packages/sklearn/externals/joblib/parallel.py in __call__(self=<sklearn.externals.joblib.parallel.BatchedCalls object>)\n    126     def __init__(self, iterator_slice):\n    127         self.items = list(iterator_slice)\n    128         self._size = len(self.items)\n    129 \n    130     def __call__(self):\n--> 131         return [func(*args, **kwargs) for func, args, kwargs in self.items]\n        self.items = [(<function _fit_and_score>, (DummyClassifier(constant=None, random_state=None, strategy='stratified'),                         leagueCountry       cost...2.052402         4    80\n\n[1585 rows x 4 columns], playerShort\naaron-hughes              0.125\naaro...             0.000\nName: skintone, dtype: float64, <function _passthrough_scorer>, array([ 80,  81,  82,  83,  84,  85,  86,  87,  ..., 222,\n       223, 224, 225, 226, 227, 228, 229]), array([ 0,  1,  2,  3,  4,  5,  6,  7,  8,  9, 1... 68, 69, 70, 71, 72, 73, 74, 75, 76, 77, 78, 79]), 0), {'fit_params': None, 'parameters': None, 'return_train_score': True})]\n    132 \n    133     def __len__(self):\n    134         return self._size\n    135 \n\n...........................................................................\n/Users/flo/anaconda3/envs/adaenv/lib/python3.5/site-packages/sklearn/externals/joblib/parallel.py in <listcomp>(.0=<list_iterator object>)\n    126     def __init__(self, iterator_slice):\n    127         self.items = list(iterator_slice)\n    128         self._size = len(self.items)\n    129 \n    130     def __call__(self):\n--> 131         return [func(*args, **kwargs) for func, args, kwargs in self.items]\n        func = <function _fit_and_score>\n        args = (DummyClassifier(constant=None, random_state=None, strategy='stratified'),                         leagueCountry       cost...2.052402         4    80\n\n[1585 rows x 4 columns], playerShort\naaron-hughes              0.125\naaro...             0.000\nName: skintone, dtype: float64, <function _passthrough_scorer>, array([ 80,  81,  82,  83,  84,  85,  86,  87,  ..., 222,\n       223, 224, 225, 226, 227, 228, 229]), array([ 0,  1,  2,  3,  4,  5,  6,  7,  8,  9, 1... 68, 69, 70, 71, 72, 73, 74, 75, 76, 77, 78, 79]), 0)\n        kwargs = {'fit_params': None, 'parameters': None, 'return_train_score': True}\n    132 \n    133     def __len__(self):\n    134         return self._size\n    135 \n\n...........................................................................\n/Users/flo/anaconda3/envs/adaenv/lib/python3.5/site-packages/sklearn/model_selection/_validation.py in _fit_and_score(estimator=DummyClassifier(constant=None, random_state=None, strategy='stratified'), X=                        leagueCountry       cost...2.052402         4    80\n\n[1585 rows x 4 columns], y=playerShort\naaron-hughes              0.125\naaro...             0.000\nName: skintone, dtype: float64, scorer=<function _passthrough_scorer>, train=array([ 80,  81,  82,  83,  84,  85,  86,  87,  ..., 222,\n       223, 224, 225, 226, 227, 228, 229]), test=array([ 0,  1,  2,  3,  4,  5,  6,  7,  8,  9, 1... 68, 69, 70, 71, 72, 73, 74, 75, 76, 77, 78, 79]), verbose=0, parameters=None, fit_params={}, return_train_score=True, return_parameters=False, return_n_test_samples=False, return_times=False, error_score='raise')\n    255                              \" numeric value. (Hint: if using 'raise', please\"\n    256                              \" make sure that it has been spelled correctly.)\")\n    257 \n    258     else:\n    259         fit_time = time.time() - start_time\n--> 260         test_score = _score(estimator, X_test, y_test, scorer)\n        test_score = undefined\n        estimator = DummyClassifier(constant=None, random_state=None, strategy='stratified')\n        X_test =                         leagueCountry       cost...  2.031267         8    76\n\n[80 rows x 4 columns]\n        y_test = playerShort\naaron-hughes              0.125\naaro...o            0.375\nName: skintone, dtype: float64\n        scorer = <function _passthrough_scorer>\n    261         score_time = time.time() - start_time - fit_time\n    262         if return_train_score:\n    263             train_score = _score(estimator, X_train, y_train, scorer)\n    264 \n\n...........................................................................\n/Users/flo/anaconda3/envs/adaenv/lib/python3.5/site-packages/sklearn/model_selection/_validation.py in _score(estimator=DummyClassifier(constant=None, random_state=None, strategy='stratified'), X_test=                        leagueCountry       cost...  2.031267         8    76\n\n[80 rows x 4 columns], y_test=playerShort\naaron-hughes              0.125\naaro...o            0.375\nName: skintone, dtype: float64, scorer=<function _passthrough_scorer>)\n    283 def _score(estimator, X_test, y_test, scorer):\n    284     \"\"\"Compute the score of an estimator on a given test set.\"\"\"\n    285     if y_test is None:\n    286         score = scorer(estimator, X_test)\n    287     else:\n--> 288         score = scorer(estimator, X_test, y_test)\n        score = undefined\n        scorer = <function _passthrough_scorer>\n        estimator = DummyClassifier(constant=None, random_state=None, strategy='stratified')\n        X_test =                         leagueCountry       cost...  2.031267         8    76\n\n[80 rows x 4 columns]\n        y_test = playerShort\naaron-hughes              0.125\naaro...o            0.375\nName: skintone, dtype: float64\n    289     if hasattr(score, 'item'):\n    290         try:\n    291             # e.g. unwrap memmapped scalars\n    292             score = score.item()\n\n...........................................................................\n/Users/flo/anaconda3/envs/adaenv/lib/python3.5/site-packages/sklearn/metrics/scorer.py in _passthrough_scorer(estimator=DummyClassifier(constant=None, random_state=None, strategy='stratified'), *args=(                        leagueCountry       cost...  2.031267         8    76\n\n[80 rows x 4 columns], playerShort\naaron-hughes              0.125\naaro...o            0.375\nName: skintone, dtype: float64), **kwargs={})\n    214     return scorer\n    215 \n    216 \n    217 def _passthrough_scorer(estimator, *args, **kwargs):\n    218     \"\"\"Function that wraps estimator.score\"\"\"\n--> 219     return estimator.score(*args, **kwargs)\n        estimator.score = <bound method ClassifierMixin.score of DummyClas...=None, random_state=None, strategy='stratified')>\n        args = (                        leagueCountry       cost...  2.031267         8    76\n\n[80 rows x 4 columns], playerShort\naaron-hughes              0.125\naaro...o            0.375\nName: skintone, dtype: float64)\n        kwargs = {}\n    220 \n    221 \n    222 def check_scoring(estimator, scoring=None, allow_none=False):\n    223     \"\"\"Determine scorer from user options.\n\n...........................................................................\n/Users/flo/anaconda3/envs/adaenv/lib/python3.5/site-packages/sklearn/base.py in score(self=DummyClassifier(constant=None, random_state=None, strategy='stratified'), X=                        leagueCountry       cost...  2.031267         8    76\n\n[80 rows x 4 columns], y=playerShort\naaron-hughes              0.125\naaro...o            0.375\nName: skintone, dtype: float64, sample_weight=None)\n    344         score : float\n    345             Mean accuracy of self.predict(X) wrt. y.\n    346 \n    347         \"\"\"\n    348         from .metrics import accuracy_score\n--> 349         return accuracy_score(y, self.predict(X), sample_weight=sample_weight)\n        accuracy_score = <function accuracy_score>\n        y = playerShort\naaron-hughes              0.125\naaro...o            0.375\nName: skintone, dtype: float64\n        self.predict = <bound method DummyClassifier.predict of DummyCl...=None, random_state=None, strategy='stratified')>\n        X =                         leagueCountry       cost...  2.031267         8    76\n\n[80 rows x 4 columns]\n        sample_weight = None\n    350 \n    351 \n    352 ###############################################################################\n    353 class RegressorMixin(object):\n\n...........................................................................\n/Users/flo/anaconda3/envs/adaenv/lib/python3.5/site-packages/sklearn/metrics/classification.py in accuracy_score(y_true=playerShort\naaron-hughes              0.125\naaro...o            0.375\nName: skintone, dtype: float64, y_pred=array([ 0.25 ,  0.25 ,  0.75 ,  1.   ,  0.25 ,  ...  0.   ,  0.125,  0.75 ,  0.   ,  0.25 ,  0.75 ]), normalize=True, sample_weight=None)\n    167     >>> accuracy_score(np.array([[0, 1], [1, 1]]), np.ones((2, 2)))\n    168     0.5\n    169     \"\"\"\n    170 \n    171     # Compute accuracy for each possible representation\n--> 172     y_type, y_true, y_pred = _check_targets(y_true, y_pred)\n        y_type = undefined\n        y_true = playerShort\naaron-hughes              0.125\naaro...o            0.375\nName: skintone, dtype: float64\n        y_pred = array([ 0.25 ,  0.25 ,  0.75 ,  1.   ,  0.25 ,  ...  0.   ,  0.125,  0.75 ,  0.   ,  0.25 ,  0.75 ])\n    173     if y_type.startswith('multilabel'):\n    174         differing_labels = count_nonzero(y_true - y_pred, axis=1)\n    175         score = differing_labels == 0\n    176     else:\n\n...........................................................................\n/Users/flo/anaconda3/envs/adaenv/lib/python3.5/site-packages/sklearn/metrics/classification.py in _check_targets(y_true=playerShort\naaron-hughes              0.125\naaro...o            0.375\nName: skintone, dtype: float64, y_pred=array([ 0.25 ,  0.25 ,  0.75 ,  1.   ,  0.25 ,  ...  0.   ,  0.125,  0.75 ,  0.   ,  0.25 ,  0.75 ]))\n     84     # We can't have more than one value on y_type => The set is no more needed\n     85     y_type = y_type.pop()\n     86 \n     87     # No metrics support \"multiclass-multioutput\" format\n     88     if (y_type not in [\"binary\", \"multiclass\", \"multilabel-indicator\"]):\n---> 89         raise ValueError(\"{0} is not supported\".format(y_type))\n        y_type = 'continuous'\n     90 \n     91     if y_type in [\"binary\", \"multiclass\"]:\n     92         y_true = column_or_1d(y_true)\n     93         y_pred = column_or_1d(y_pred)\n\nValueError: continuous is not supported\n___________________________________________________________________________"
     ]
    },
    {
     "data": {
      "image/png": "[encoded data removed]",
      "text/plain": [
       "<matplotlib.figure.Figure at 0x10de31588>"
      ]
     },
     "metadata": {},
     "output_type": "display_data"
    }
   ],
   "source": [
    "estimator = RandomForestRegressor(max_features=cv_result.best_params_['max_features'], n_estimators=cv_result.best_params_['n_estimators'])\n",
    "helpers.plot_learning_curve(estimator, 'Baseline regression', x_training, y_training,n_jobs=-1, cv=20, dummy=dummy_estimator)"
   ]
  },
  {
   "cell_type": "code",
   "execution_count": null,
   "metadata": {
    "collapsed": true
   },
   "outputs": [],
   "source": []
  }
 ],
 "metadata": {
  "anaconda-cloud": {},
  "kernelspec": {
   "display_name": "Python [conda env:adaenv]",
   "language": "python",
   "name": "conda-env-adaenv-py"
  },
  "language_info": {
   "codemirror_mode": {
    "name": "ipython",
    "version": 3
   },
   "file_extension": ".py",
   "mimetype": "text/x-python",
   "name": "python",
   "nbconvert_exporter": "python",
   "pygments_lexer": "ipython3",
   "version": "3.5.2"
  }
 },
 "nbformat": 4,
 "nbformat_minor": 0
}
