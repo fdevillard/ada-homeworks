{
 "cells": [
  {
   "cell_type": "markdown",
   "metadata": {},
   "source": [
    "# Description\n",
    "The first part is focused on inferring the missing value about skin color rating using machine learning algorithm. The second part try to infer wether referees' behavior change depending of the skin-color of the player.\n",
    "\n",
    "Let start by doing some imports."
   ]
  },
  {
   "cell_type": "code",
   "execution_count": 1,
   "metadata": {
    "collapsed": true
   },
   "outputs": [],
   "source": [
    "import os\n",
    "import pandas as pd\n",
    "import numpy as np\n",
    "import sklearn\n",
    "\n",
    "%matplotlib inline\n",
    "import matplotlib.pyplot as plt                         # Matplotlib's pyplot: MATLAB-like syntax\n",
    "import seaborn as sns                                   # For pretty plots"
   ]
  },
  {
   "cell_type": "markdown",
   "metadata": {},
   "source": [
    "## Skin-color inferring\n",
    "First, let have a look to [mathewzila's suggestion](https://github.com/mathewzilla/redcard/blob/master/Crowdstorming_visualisation.ipynb) where the dataset is a disaggregate version of `data/CrowdstormingDataJuly1st.csv`. By _disaggregate_, we means that there is one observation per game between a player and a referee (in place of one observation per dyad).\n",
    "\n",
    "Depending of the computations, this dataset might be a better option. Both will be imported in order to do some comparison."
   ]
  },
  {
   "cell_type": "code",
   "execution_count": 2,
   "metadata": {
    "collapsed": false
   },
   "outputs": [
    {
     "name": "stdout",
     "output_type": "stream",
     "text": [
      "          playerShort              player               club leagueCountry  \\\n",
      "0       lucas-wilchez       Lucas Wilchez      Real Zaragoza         Spain   \n",
      "1          john-utaka          John Utaka    Montpellier HSC        France   \n",
      "2         abdon-prats         Abdón Prats       RCD Mallorca         Spain   \n",
      "3          pablo-mari          Pablo Marí       RCD Mallorca         Spain   \n",
      "4          ruben-pena          Rubén Peña    Real Valladolid         Spain   \n",
      "5        aaron-hughes        Aaron Hughes          Fulham FC       England   \n",
      "6  aleksandar-kolarov  Aleksandar Kolarov    Manchester City       England   \n",
      "7    alexander-tettey    Alexander Tettey       Norwich City       England   \n",
      "8   anders-lindegaard   Anders Lindegaard  Manchester United       England   \n",
      "9        andreas-beck        Andreas Beck    1899 Hoffenheim       Germany   \n",
      "\n",
      "     birthday  height  weight              position  games  victories  \\\n",
      "0  31.08.1983   177.0    72.0  Attacking Midfielder      1          0   \n",
      "1  08.01.1982   179.0    82.0          Right Winger      1          0   \n",
      "2  17.12.1992   181.0    79.0                   NaN      1          0   \n",
      "3  31.08.1993   191.0    87.0           Center Back      1          1   \n",
      "4  18.07.1991   172.0    70.0      Right Midfielder      1          1   \n",
      "5  08.11.1979   182.0    71.0           Center Back      1          0   \n",
      "6  10.11.1985   187.0    80.0         Left Fullback      1          1   \n",
      "7  04.04.1986   180.0    68.0  Defensive Midfielder      1          0   \n",
      "8  13.04.1984   193.0    80.0            Goalkeeper      1          0   \n",
      "9  13.03.1987   180.0    70.0        Right Fullback      1          1   \n",
      "\n",
      "     ...     rater2  refNum  refCountry  Alpha_3   meanIAT    nIAT     seIAT  \\\n",
      "0    ...       0.50       1           1      GRC  0.326391   712.0  0.000564   \n",
      "1    ...       0.75       2           2      ZMB  0.203375    40.0  0.010875   \n",
      "2    ...        NaN       3           3      ESP  0.369894  1785.0  0.000229   \n",
      "3    ...        NaN       3           3      ESP  0.369894  1785.0  0.000229   \n",
      "4    ...        NaN       3           3      ESP  0.369894  1785.0  0.000229   \n",
      "5    ...       0.00       4           4      LUX  0.325185   127.0  0.003297   \n",
      "6    ...       0.25       4           4      LUX  0.325185   127.0  0.003297   \n",
      "7    ...       1.00       4           4      LUX  0.325185   127.0  0.003297   \n",
      "8    ...       0.25       4           4      LUX  0.325185   127.0  0.003297   \n",
      "9    ...       0.00       4           4      LUX  0.325185   127.0  0.003297   \n",
      "\n",
      "    meanExp    nExp     seExp  \n",
      "0  0.396000   750.0  0.002696  \n",
      "1 -0.204082    49.0  0.061504  \n",
      "2  0.588297  1897.0  0.001002  \n",
      "3  0.588297  1897.0  0.001002  \n",
      "4  0.588297  1897.0  0.001002  \n",
      "5  0.538462   130.0  0.013752  \n",
      "6  0.538462   130.0  0.013752  \n",
      "7  0.538462   130.0  0.013752  \n",
      "8  0.538462   130.0  0.013752  \n",
      "9  0.538462   130.0  0.013752  \n",
      "\n",
      "[10 rows x 28 columns]\n"
     ]
    }
   ],
   "source": [
    "df = pd.read_csv(os.path.join('data', 'CrowdstormingDataJuly1st.csv'))\n",
    "print(df.head(10))"
   ]
  },
  {
   "cell_type": "code",
   "execution_count": 3,
   "metadata": {
    "collapsed": false
   },
   "outputs": [
    {
     "data": {
      "text/html": [
       "<div>\n",
       "<table border=\"1\" class=\"dataframe\">\n",
       "  <thead>\n",
       "    <tr style=\"text-align: right;\">\n",
       "      <th></th>\n",
       "      <th>playerShort</th>\n",
       "      <th>player</th>\n",
       "      <th>club</th>\n",
       "      <th>leagueCountry</th>\n",
       "      <th>birthday</th>\n",
       "      <th>height</th>\n",
       "      <th>weight</th>\n",
       "      <th>position</th>\n",
       "      <th>games</th>\n",
       "      <th>victories</th>\n",
       "      <th>...</th>\n",
       "      <th>meanIAT</th>\n",
       "      <th>nIAT</th>\n",
       "      <th>seIAT</th>\n",
       "      <th>meanExp</th>\n",
       "      <th>nExp</th>\n",
       "      <th>seExp</th>\n",
       "      <th>skintone</th>\n",
       "      <th>allreds</th>\n",
       "      <th>allredsStrict</th>\n",
       "      <th>refCount</th>\n",
       "    </tr>\n",
       "  </thead>\n",
       "  <tbody>\n",
       "    <tr>\n",
       "      <th>0</th>\n",
       "      <td>lucas-wilchez</td>\n",
       "      <td>Lucas Wilchez</td>\n",
       "      <td>Real Zaragoza</td>\n",
       "      <td>Spain</td>\n",
       "      <td>31.08.1983</td>\n",
       "      <td>177.0</td>\n",
       "      <td>72.0</td>\n",
       "      <td>Attacking Midfielder</td>\n",
       "      <td>1</td>\n",
       "      <td>0</td>\n",
       "      <td>...</td>\n",
       "      <td>0.326391</td>\n",
       "      <td>712.0</td>\n",
       "      <td>0.000564</td>\n",
       "      <td>0.396000</td>\n",
       "      <td>750.0</td>\n",
       "      <td>0.002696</td>\n",
       "      <td>0.375</td>\n",
       "      <td>0</td>\n",
       "      <td>0</td>\n",
       "      <td>1</td>\n",
       "    </tr>\n",
       "    <tr>\n",
       "      <th>1</th>\n",
       "      <td>john-utaka</td>\n",
       "      <td>John Utaka</td>\n",
       "      <td>Montpellier HSC</td>\n",
       "      <td>France</td>\n",
       "      <td>08.01.1982</td>\n",
       "      <td>179.0</td>\n",
       "      <td>82.0</td>\n",
       "      <td>Right Winger</td>\n",
       "      <td>1</td>\n",
       "      <td>0</td>\n",
       "      <td>...</td>\n",
       "      <td>0.203375</td>\n",
       "      <td>40.0</td>\n",
       "      <td>0.010875</td>\n",
       "      <td>-0.204082</td>\n",
       "      <td>49.0</td>\n",
       "      <td>0.061504</td>\n",
       "      <td>0.750</td>\n",
       "      <td>0</td>\n",
       "      <td>0</td>\n",
       "      <td>1</td>\n",
       "    </tr>\n",
       "    <tr>\n",
       "      <th>2</th>\n",
       "      <td>abdon-prats</td>\n",
       "      <td>Abdón Prats</td>\n",
       "      <td>RCD Mallorca</td>\n",
       "      <td>Spain</td>\n",
       "      <td>17.12.1992</td>\n",
       "      <td>181.0</td>\n",
       "      <td>79.0</td>\n",
       "      <td>NaN</td>\n",
       "      <td>1</td>\n",
       "      <td>0</td>\n",
       "      <td>...</td>\n",
       "      <td>0.369894</td>\n",
       "      <td>1785.0</td>\n",
       "      <td>0.000229</td>\n",
       "      <td>0.588297</td>\n",
       "      <td>1897.0</td>\n",
       "      <td>0.001002</td>\n",
       "      <td>NaN</td>\n",
       "      <td>0</td>\n",
       "      <td>0</td>\n",
       "      <td>3</td>\n",
       "    </tr>\n",
       "    <tr>\n",
       "      <th>3</th>\n",
       "      <td>pablo-mari</td>\n",
       "      <td>Pablo Marí</td>\n",
       "      <td>RCD Mallorca</td>\n",
       "      <td>Spain</td>\n",
       "      <td>31.08.1993</td>\n",
       "      <td>191.0</td>\n",
       "      <td>87.0</td>\n",
       "      <td>Center Back</td>\n",
       "      <td>1</td>\n",
       "      <td>1</td>\n",
       "      <td>...</td>\n",
       "      <td>0.369894</td>\n",
       "      <td>1785.0</td>\n",
       "      <td>0.000229</td>\n",
       "      <td>0.588297</td>\n",
       "      <td>1897.0</td>\n",
       "      <td>0.001002</td>\n",
       "      <td>NaN</td>\n",
       "      <td>0</td>\n",
       "      <td>0</td>\n",
       "      <td>3</td>\n",
       "    </tr>\n",
       "    <tr>\n",
       "      <th>4</th>\n",
       "      <td>ruben-pena</td>\n",
       "      <td>Rubén Peña</td>\n",
       "      <td>Real Valladolid</td>\n",
       "      <td>Spain</td>\n",
       "      <td>18.07.1991</td>\n",
       "      <td>172.0</td>\n",
       "      <td>70.0</td>\n",
       "      <td>Right Midfielder</td>\n",
       "      <td>1</td>\n",
       "      <td>1</td>\n",
       "      <td>...</td>\n",
       "      <td>0.369894</td>\n",
       "      <td>1785.0</td>\n",
       "      <td>0.000229</td>\n",
       "      <td>0.588297</td>\n",
       "      <td>1897.0</td>\n",
       "      <td>0.001002</td>\n",
       "      <td>NaN</td>\n",
       "      <td>0</td>\n",
       "      <td>0</td>\n",
       "      <td>3</td>\n",
       "    </tr>\n",
       "    <tr>\n",
       "      <th>5</th>\n",
       "      <td>aaron-hughes</td>\n",
       "      <td>Aaron Hughes</td>\n",
       "      <td>Fulham FC</td>\n",
       "      <td>England</td>\n",
       "      <td>08.11.1979</td>\n",
       "      <td>182.0</td>\n",
       "      <td>71.0</td>\n",
       "      <td>Center Back</td>\n",
       "      <td>1</td>\n",
       "      <td>0</td>\n",
       "      <td>...</td>\n",
       "      <td>0.325185</td>\n",
       "      <td>127.0</td>\n",
       "      <td>0.003297</td>\n",
       "      <td>0.538462</td>\n",
       "      <td>130.0</td>\n",
       "      <td>0.013752</td>\n",
       "      <td>0.125</td>\n",
       "      <td>0</td>\n",
       "      <td>0</td>\n",
       "      <td>30</td>\n",
       "    </tr>\n",
       "    <tr>\n",
       "      <th>6</th>\n",
       "      <td>aleksandar-kolarov</td>\n",
       "      <td>Aleksandar Kolarov</td>\n",
       "      <td>Manchester City</td>\n",
       "      <td>England</td>\n",
       "      <td>10.11.1985</td>\n",
       "      <td>187.0</td>\n",
       "      <td>80.0</td>\n",
       "      <td>Left Fullback</td>\n",
       "      <td>1</td>\n",
       "      <td>1</td>\n",
       "      <td>...</td>\n",
       "      <td>0.325185</td>\n",
       "      <td>127.0</td>\n",
       "      <td>0.003297</td>\n",
       "      <td>0.538462</td>\n",
       "      <td>130.0</td>\n",
       "      <td>0.013752</td>\n",
       "      <td>0.125</td>\n",
       "      <td>0</td>\n",
       "      <td>0</td>\n",
       "      <td>30</td>\n",
       "    </tr>\n",
       "    <tr>\n",
       "      <th>7</th>\n",
       "      <td>alexander-tettey</td>\n",
       "      <td>Alexander Tettey</td>\n",
       "      <td>Norwich City</td>\n",
       "      <td>England</td>\n",
       "      <td>04.04.1986</td>\n",
       "      <td>180.0</td>\n",
       "      <td>68.0</td>\n",
       "      <td>Defensive Midfielder</td>\n",
       "      <td>1</td>\n",
       "      <td>0</td>\n",
       "      <td>...</td>\n",
       "      <td>0.325185</td>\n",
       "      <td>127.0</td>\n",
       "      <td>0.003297</td>\n",
       "      <td>0.538462</td>\n",
       "      <td>130.0</td>\n",
       "      <td>0.013752</td>\n",
       "      <td>1.000</td>\n",
       "      <td>0</td>\n",
       "      <td>0</td>\n",
       "      <td>30</td>\n",
       "    </tr>\n",
       "    <tr>\n",
       "      <th>8</th>\n",
       "      <td>anders-lindegaard</td>\n",
       "      <td>Anders Lindegaard</td>\n",
       "      <td>Manchester United</td>\n",
       "      <td>England</td>\n",
       "      <td>13.04.1984</td>\n",
       "      <td>193.0</td>\n",
       "      <td>80.0</td>\n",
       "      <td>Goalkeeper</td>\n",
       "      <td>1</td>\n",
       "      <td>0</td>\n",
       "      <td>...</td>\n",
       "      <td>0.325185</td>\n",
       "      <td>127.0</td>\n",
       "      <td>0.003297</td>\n",
       "      <td>0.538462</td>\n",
       "      <td>130.0</td>\n",
       "      <td>0.013752</td>\n",
       "      <td>0.250</td>\n",
       "      <td>0</td>\n",
       "      <td>0</td>\n",
       "      <td>30</td>\n",
       "    </tr>\n",
       "    <tr>\n",
       "      <th>9</th>\n",
       "      <td>andreas-beck</td>\n",
       "      <td>Andreas Beck</td>\n",
       "      <td>1899 Hoffenheim</td>\n",
       "      <td>Germany</td>\n",
       "      <td>13.03.1987</td>\n",
       "      <td>180.0</td>\n",
       "      <td>70.0</td>\n",
       "      <td>Right Fullback</td>\n",
       "      <td>1</td>\n",
       "      <td>1</td>\n",
       "      <td>...</td>\n",
       "      <td>0.325185</td>\n",
       "      <td>127.0</td>\n",
       "      <td>0.003297</td>\n",
       "      <td>0.538462</td>\n",
       "      <td>130.0</td>\n",
       "      <td>0.013752</td>\n",
       "      <td>0.000</td>\n",
       "      <td>0</td>\n",
       "      <td>0</td>\n",
       "      <td>30</td>\n",
       "    </tr>\n",
       "  </tbody>\n",
       "</table>\n",
       "<p>10 rows × 32 columns</p>\n",
       "</div>"
      ],
      "text/plain": [
       "          playerShort              player               club leagueCountry  \\\n",
       "0       lucas-wilchez       Lucas Wilchez      Real Zaragoza         Spain   \n",
       "1          john-utaka          John Utaka    Montpellier HSC        France   \n",
       "2         abdon-prats         Abdón Prats       RCD Mallorca         Spain   \n",
       "3          pablo-mari          Pablo Marí       RCD Mallorca         Spain   \n",
       "4          ruben-pena          Rubén Peña    Real Valladolid         Spain   \n",
       "5        aaron-hughes        Aaron Hughes          Fulham FC       England   \n",
       "6  aleksandar-kolarov  Aleksandar Kolarov    Manchester City       England   \n",
       "7    alexander-tettey    Alexander Tettey       Norwich City       England   \n",
       "8   anders-lindegaard   Anders Lindegaard  Manchester United       England   \n",
       "9        andreas-beck        Andreas Beck    1899 Hoffenheim       Germany   \n",
       "\n",
       "     birthday  height  weight              position  games  victories  \\\n",
       "0  31.08.1983   177.0    72.0  Attacking Midfielder      1          0   \n",
       "1  08.01.1982   179.0    82.0          Right Winger      1          0   \n",
       "2  17.12.1992   181.0    79.0                   NaN      1          0   \n",
       "3  31.08.1993   191.0    87.0           Center Back      1          1   \n",
       "4  18.07.1991   172.0    70.0      Right Midfielder      1          1   \n",
       "5  08.11.1979   182.0    71.0           Center Back      1          0   \n",
       "6  10.11.1985   187.0    80.0         Left Fullback      1          1   \n",
       "7  04.04.1986   180.0    68.0  Defensive Midfielder      1          0   \n",
       "8  13.04.1984   193.0    80.0            Goalkeeper      1          0   \n",
       "9  13.03.1987   180.0    70.0        Right Fullback      1          1   \n",
       "\n",
       "     ...      meanIAT    nIAT     seIAT   meanExp    nExp     seExp skintone  \\\n",
       "0    ...     0.326391   712.0  0.000564  0.396000   750.0  0.002696    0.375   \n",
       "1    ...     0.203375    40.0  0.010875 -0.204082    49.0  0.061504    0.750   \n",
       "2    ...     0.369894  1785.0  0.000229  0.588297  1897.0  0.001002      NaN   \n",
       "3    ...     0.369894  1785.0  0.000229  0.588297  1897.0  0.001002      NaN   \n",
       "4    ...     0.369894  1785.0  0.000229  0.588297  1897.0  0.001002      NaN   \n",
       "5    ...     0.325185   127.0  0.003297  0.538462   130.0  0.013752    0.125   \n",
       "6    ...     0.325185   127.0  0.003297  0.538462   130.0  0.013752    0.125   \n",
       "7    ...     0.325185   127.0  0.003297  0.538462   130.0  0.013752    1.000   \n",
       "8    ...     0.325185   127.0  0.003297  0.538462   130.0  0.013752    0.250   \n",
       "9    ...     0.325185   127.0  0.003297  0.538462   130.0  0.013752    0.000   \n",
       "\n",
       "   allreds  allredsStrict  refCount  \n",
       "0        0              0         1  \n",
       "1        0              0         1  \n",
       "2        0              0         3  \n",
       "3        0              0         3  \n",
       "4        0              0         3  \n",
       "5        0              0        30  \n",
       "6        0              0        30  \n",
       "7        0              0        30  \n",
       "8        0              0        30  \n",
       "9        0              0        30  \n",
       "\n",
       "[10 rows x 32 columns]"
      ]
     },
     "execution_count": 3,
     "metadata": {},
     "output_type": "execute_result"
    }
   ],
   "source": [
    "dfd = pd.read_csv(os.path.join('data', 'crowdstorm_disaggregated.csv'))\n",
    "dfd.head(10)"
   ]
  },
  {
   "cell_type": "code",
   "execution_count": 4,
   "metadata": {
    "collapsed": false
   },
   "outputs": [
    {
     "name": "stdout",
     "output_type": "stream",
     "text": [
      "Number of lost columns: 0\n"
     ]
    }
   ],
   "source": [
    "df_cols = set(df.columns)\n",
    "dfd_cols = set(dfd.columns)\n",
    "\n",
    "print(\"Number of lost columns: {}\".format(len(df_cols - dfd_cols)))"
   ]
  },
  {
   "cell_type": "markdown",
   "metadata": {},
   "source": [
    "As we can see, the deaggregated dataset doesn't remove any columns from the base data set."
   ]
  },
  {
   "cell_type": "code",
   "execution_count": 5,
   "metadata": {
    "collapsed": false
   },
   "outputs": [
    {
     "name": "stdout",
     "output_type": "stream",
     "text": [
      "New columns: {'skintone', 'allredsStrict', 'allreds', 'refCount'}\n"
     ]
    }
   ],
   "source": [
    "print(\"New columns: {}\".format(dfd_cols - df_cols))"
   ]
  },
  {
   "cell_type": "markdown",
   "metadata": {},
   "source": [
    "As we can see, new columns are created. Based on [source code](https://osf.io/w7tds/),\n",
    "\n",
    "- allredsStrict: If player has received a red without a yellow\n",
    "- allreds: If player has received a red during this game (either because he had a yellow one before, or if he's directly received a red)\n",
    "- skintone: Average of rater1 and rater2 for this player\n",
    "- refCount: Number of dyads per referee (thus, how many player the referee is linked to)\n",
    "\n",
    "All are indicator variable (either 1 if true, 0 o.w.)\n",
    "\n",
    "**Remark**: the field `games` (i.e. count the number of match between the player and the referee) is redundant on `dfd`, since there is one observation per game."
   ]
  },
  {
   "cell_type": "code",
   "execution_count": 6,
   "metadata": {
    "collapsed": false
   },
   "outputs": [
    {
     "name": "stdout",
     "output_type": "stream",
     "text": [
      "All fields: Index(['playerShort', 'player', 'club', 'leagueCountry', 'birthday', 'height',\n",
      "       'weight', 'position', 'games', 'victories', 'ties', 'defeats', 'goals',\n",
      "       'yellowCards', 'yellowReds', 'redCards', 'photoID', 'rater1', 'rater2',\n",
      "       'refNum', 'refCountry', 'Alpha_3', 'meanIAT', 'nIAT', 'seIAT',\n",
      "       'meanExp', 'nExp', 'seExp', 'skintone', 'allreds', 'allredsStrict',\n",
      "       'refCount'],\n",
      "      dtype='object')\n"
     ]
    }
   ],
   "source": [
    "print(\"All fields: {}\".format(dfd.columns))"
   ]
  },
  {
   "cell_type": "markdown",
   "metadata": {},
   "source": [
    "Let add a `skintone` field to the aggregated version of the data"
   ]
  },
  {
   "cell_type": "code",
   "execution_count": 7,
   "metadata": {
    "collapsed": false
   },
   "outputs": [
    {
     "data": {
      "text/html": [
       "<div>\n",
       "<table border=\"1\" class=\"dataframe\">\n",
       "  <thead>\n",
       "    <tr style=\"text-align: right;\">\n",
       "      <th></th>\n",
       "      <th>playerShort</th>\n",
       "      <th>player</th>\n",
       "      <th>club</th>\n",
       "      <th>leagueCountry</th>\n",
       "      <th>birthday</th>\n",
       "      <th>height</th>\n",
       "      <th>weight</th>\n",
       "      <th>position</th>\n",
       "      <th>games</th>\n",
       "      <th>victories</th>\n",
       "      <th>...</th>\n",
       "      <th>refNum</th>\n",
       "      <th>refCountry</th>\n",
       "      <th>Alpha_3</th>\n",
       "      <th>meanIAT</th>\n",
       "      <th>nIAT</th>\n",
       "      <th>seIAT</th>\n",
       "      <th>meanExp</th>\n",
       "      <th>nExp</th>\n",
       "      <th>seExp</th>\n",
       "      <th>skintone</th>\n",
       "    </tr>\n",
       "  </thead>\n",
       "  <tbody>\n",
       "    <tr>\n",
       "      <th>0</th>\n",
       "      <td>lucas-wilchez</td>\n",
       "      <td>Lucas Wilchez</td>\n",
       "      <td>Real Zaragoza</td>\n",
       "      <td>Spain</td>\n",
       "      <td>31.08.1983</td>\n",
       "      <td>177.0</td>\n",
       "      <td>72.0</td>\n",
       "      <td>Attacking Midfielder</td>\n",
       "      <td>1</td>\n",
       "      <td>0</td>\n",
       "      <td>...</td>\n",
       "      <td>1</td>\n",
       "      <td>1</td>\n",
       "      <td>GRC</td>\n",
       "      <td>0.326391</td>\n",
       "      <td>712.0</td>\n",
       "      <td>0.000564</td>\n",
       "      <td>0.396000</td>\n",
       "      <td>750.0</td>\n",
       "      <td>0.002696</td>\n",
       "      <td>0.375</td>\n",
       "    </tr>\n",
       "    <tr>\n",
       "      <th>1</th>\n",
       "      <td>john-utaka</td>\n",
       "      <td>John Utaka</td>\n",
       "      <td>Montpellier HSC</td>\n",
       "      <td>France</td>\n",
       "      <td>08.01.1982</td>\n",
       "      <td>179.0</td>\n",
       "      <td>82.0</td>\n",
       "      <td>Right Winger</td>\n",
       "      <td>1</td>\n",
       "      <td>0</td>\n",
       "      <td>...</td>\n",
       "      <td>2</td>\n",
       "      <td>2</td>\n",
       "      <td>ZMB</td>\n",
       "      <td>0.203375</td>\n",
       "      <td>40.0</td>\n",
       "      <td>0.010875</td>\n",
       "      <td>-0.204082</td>\n",
       "      <td>49.0</td>\n",
       "      <td>0.061504</td>\n",
       "      <td>0.750</td>\n",
       "    </tr>\n",
       "    <tr>\n",
       "      <th>2</th>\n",
       "      <td>abdon-prats</td>\n",
       "      <td>Abdón Prats</td>\n",
       "      <td>RCD Mallorca</td>\n",
       "      <td>Spain</td>\n",
       "      <td>17.12.1992</td>\n",
       "      <td>181.0</td>\n",
       "      <td>79.0</td>\n",
       "      <td>NaN</td>\n",
       "      <td>1</td>\n",
       "      <td>0</td>\n",
       "      <td>...</td>\n",
       "      <td>3</td>\n",
       "      <td>3</td>\n",
       "      <td>ESP</td>\n",
       "      <td>0.369894</td>\n",
       "      <td>1785.0</td>\n",
       "      <td>0.000229</td>\n",
       "      <td>0.588297</td>\n",
       "      <td>1897.0</td>\n",
       "      <td>0.001002</td>\n",
       "      <td>NaN</td>\n",
       "    </tr>\n",
       "    <tr>\n",
       "      <th>3</th>\n",
       "      <td>pablo-mari</td>\n",
       "      <td>Pablo Marí</td>\n",
       "      <td>RCD Mallorca</td>\n",
       "      <td>Spain</td>\n",
       "      <td>31.08.1993</td>\n",
       "      <td>191.0</td>\n",
       "      <td>87.0</td>\n",
       "      <td>Center Back</td>\n",
       "      <td>1</td>\n",
       "      <td>1</td>\n",
       "      <td>...</td>\n",
       "      <td>3</td>\n",
       "      <td>3</td>\n",
       "      <td>ESP</td>\n",
       "      <td>0.369894</td>\n",
       "      <td>1785.0</td>\n",
       "      <td>0.000229</td>\n",
       "      <td>0.588297</td>\n",
       "      <td>1897.0</td>\n",
       "      <td>0.001002</td>\n",
       "      <td>NaN</td>\n",
       "    </tr>\n",
       "    <tr>\n",
       "      <th>4</th>\n",
       "      <td>ruben-pena</td>\n",
       "      <td>Rubén Peña</td>\n",
       "      <td>Real Valladolid</td>\n",
       "      <td>Spain</td>\n",
       "      <td>18.07.1991</td>\n",
       "      <td>172.0</td>\n",
       "      <td>70.0</td>\n",
       "      <td>Right Midfielder</td>\n",
       "      <td>1</td>\n",
       "      <td>1</td>\n",
       "      <td>...</td>\n",
       "      <td>3</td>\n",
       "      <td>3</td>\n",
       "      <td>ESP</td>\n",
       "      <td>0.369894</td>\n",
       "      <td>1785.0</td>\n",
       "      <td>0.000229</td>\n",
       "      <td>0.588297</td>\n",
       "      <td>1897.0</td>\n",
       "      <td>0.001002</td>\n",
       "      <td>NaN</td>\n",
       "    </tr>\n",
       "  </tbody>\n",
       "</table>\n",
       "<p>5 rows × 29 columns</p>\n",
       "</div>"
      ],
      "text/plain": [
       "     playerShort         player             club leagueCountry    birthday  \\\n",
       "0  lucas-wilchez  Lucas Wilchez    Real Zaragoza         Spain  31.08.1983   \n",
       "1     john-utaka     John Utaka  Montpellier HSC        France  08.01.1982   \n",
       "2    abdon-prats    Abdón Prats     RCD Mallorca         Spain  17.12.1992   \n",
       "3     pablo-mari     Pablo Marí     RCD Mallorca         Spain  31.08.1993   \n",
       "4     ruben-pena     Rubén Peña  Real Valladolid         Spain  18.07.1991   \n",
       "\n",
       "   height  weight              position  games  victories    ...     refNum  \\\n",
       "0   177.0    72.0  Attacking Midfielder      1          0    ...          1   \n",
       "1   179.0    82.0          Right Winger      1          0    ...          2   \n",
       "2   181.0    79.0                   NaN      1          0    ...          3   \n",
       "3   191.0    87.0           Center Back      1          1    ...          3   \n",
       "4   172.0    70.0      Right Midfielder      1          1    ...          3   \n",
       "\n",
       "   refCountry  Alpha_3   meanIAT    nIAT     seIAT   meanExp    nExp  \\\n",
       "0           1      GRC  0.326391   712.0  0.000564  0.396000   750.0   \n",
       "1           2      ZMB  0.203375    40.0  0.010875 -0.204082    49.0   \n",
       "2           3      ESP  0.369894  1785.0  0.000229  0.588297  1897.0   \n",
       "3           3      ESP  0.369894  1785.0  0.000229  0.588297  1897.0   \n",
       "4           3      ESP  0.369894  1785.0  0.000229  0.588297  1897.0   \n",
       "\n",
       "      seExp  skintone  \n",
       "0  0.002696     0.375  \n",
       "1  0.061504     0.750  \n",
       "2  0.001002       NaN  \n",
       "3  0.001002       NaN  \n",
       "4  0.001002       NaN  \n",
       "\n",
       "[5 rows x 29 columns]"
      ]
     },
     "execution_count": 7,
     "metadata": {},
     "output_type": "execute_result"
    }
   ],
   "source": [
    "df['skintone'] = 0.5 * (df['rater1']+df['rater2'])\n",
    "df.head()"
   ]
  },
  {
   "cell_type": "markdown",
   "metadata": {},
   "source": [
    "### Look on skintone\n",
    "As mentioned before, `skintone` is the mean between the two skin-color ratings"
   ]
  },
  {
   "cell_type": "code",
   "execution_count": 8,
   "metadata": {
    "collapsed": false,
    "scrolled": false
   },
   "outputs": [
    {
     "name": "stdout",
     "output_type": "stream",
     "text": [
      "Values not in both: set()\n"
     ]
    }
   ],
   "source": [
    "df_skinton = df[[\"playerShort\", \"skintone\"]].reset_index().groupby('playerShort', axis=0).mean()\n",
    "mean_skin = set(df_skinton['skintone'].dropna().unique().tolist())\n",
    "\n",
    "unique_skin = set(df['skintone'].dropna().unique().tolist())\n",
    "\n",
    "print(\"Values not in both: {}\".format(mean_skin.symmetric_difference(unique_skin)))\n"
   ]
  },
  {
   "cell_type": "markdown",
   "metadata": {},
   "source": [
    "One error in the dataset might have been to have several different `skintone` value for the same user. As the previous code suggests, the mean of the `skintone` over a player doesn't create new value (suggesting that all the `skintone` for a player are the same)."
   ]
  },
  {
   "cell_type": "code",
   "execution_count": 9,
   "metadata": {
    "collapsed": false
   },
   "outputs": [
    {
     "data": {
      "text/plain": [
       "<matplotlib.axes._subplots.AxesSubplot at 0x116e88eb8>"
      ]
     },
     "execution_count": 9,
     "metadata": {},
     "output_type": "execute_result"
    },
    {
     "data": {
      "image/png": "[encoded data removed]",
      "text/plain": [
       "<matplotlib.figure.Figure at 0x10f98deb8>"
      ]
     },
     "metadata": {},
     "output_type": "display_data"
    }
   ],
   "source": [
    "df_skinton['skintone'].dropna().hist()"
   ]
  },
  {
   "cell_type": "markdown",
   "metadata": {},
   "source": [
    "As we can see, there are more players with a white skin than with a dark one. This need to be taken into consideration for the analysis.\n",
    "\n",
    "### Information about players"
   ]
  },
  {
   "cell_type": "code",
   "execution_count": 10,
   "metadata": {
    "collapsed": false
   },
   "outputs": [
    {
     "data": {
      "text/plain": [
       "count    2053.000000\n",
       "mean       71.129079\n",
       "std        36.171246\n",
       "min         1.000000\n",
       "25%        45.000000\n",
       "50%        67.000000\n",
       "75%        92.000000\n",
       "max       202.000000\n",
       "Name: player, dtype: float64"
      ]
     },
     "execution_count": 10,
     "metadata": {},
     "output_type": "execute_result"
    }
   ],
   "source": [
    "referee_per_player = df.groupby('playerShort').count()['player']\n",
    "referee_per_player.describe()"
   ]
  },
  {
   "cell_type": "markdown",
   "metadata": {},
   "source": [
    "We can see that player have played with a lot of different referee, in general. "
   ]
  },
  {
   "cell_type": "code",
   "execution_count": 11,
   "metadata": {
    "collapsed": false
   },
   "outputs": [
    {
     "data": {
      "text/plain": [
       "<matplotlib.text.Text at 0x10738a4e0>"
      ]
     },
     "execution_count": 11,
     "metadata": {},
     "output_type": "execute_result"
    },
    {
     "data": {
      "image/png": "[encoded data removed]",
      "text/plain": [
       "<matplotlib.figure.Figure at 0x10bd3ea20>"
      ]
     },
     "metadata": {},
     "output_type": "display_data"
    }
   ],
   "source": [
    "referee_per_player.hist()\n",
    "plt.title('Number of referee per player')"
   ]
  },
  {
   "cell_type": "markdown",
   "metadata": {},
   "source": [
    "One issue that might arise is for player having played with only a few referee. Let arbitrarly check for player have played with less than 5 different referees"
   ]
  },
  {
   "cell_type": "code",
   "execution_count": 12,
   "metadata": {
    "collapsed": false
   },
   "outputs": [
    {
     "data": {
      "text/plain": [
       "39"
      ]
     },
     "execution_count": 12,
     "metadata": {},
     "output_type": "execute_result"
    }
   ],
   "source": [
    "(referee_per_player < 5).sum()"
   ]
  },
  {
   "cell_type": "markdown",
   "metadata": {},
   "source": [
    "Let see the full data for these players"
   ]
  },
  {
   "cell_type": "code",
   "execution_count": 13,
   "metadata": {
    "collapsed": false
   },
   "outputs": [
    {
     "name": "stdout",
     "output_type": "stream",
     "text": [
      "P(no skintone | player has less 5 different referees) = 79.7%\n"
     ]
    },
    {
     "name": "stderr",
     "output_type": "stream",
     "text": [
      "/Users/flo/anaconda3/envs/adaenv/lib/python3.5/site-packages/ipykernel/__main__.py:1: UserWarning: Boolean Series key will be reindexed to match DataFrame index.\n",
      "  if __name__ == '__main__':\n"
     ]
    }
   ],
   "source": [
    "player_low_n_referees = df.set_index('playerShort')[referee_per_player < 5]\n",
    "player_low_referee_ratio = player_low_n_referees['skintone'].isnull().mean()\n",
    "\n",
    "print(\"P(no skintone | player has less 5 different referees) = {:0.1f}%\".format(player_low_referee_ratio * 100))"
   ]
  },
  {
   "cell_type": "markdown",
   "metadata": {},
   "source": [
    "As we can see, we don't have skintone information for roughly 80% of the players that have less than 5 different referees. This means that it might be hard to predict the skintone for these players.\n",
    "\n",
    "The situation might be very significant for player having only one referee linked to it."
   ]
  },
  {
   "cell_type": "code",
   "execution_count": 14,
   "metadata": {
    "collapsed": false
   },
   "outputs": [
    {
     "name": "stdout",
     "output_type": "stream",
     "text": [
      "P(no skintone information | player has only one referee linked to him) = 77.8%\n"
     ]
    },
    {
     "name": "stderr",
     "output_type": "stream",
     "text": [
      "/Users/flo/anaconda3/envs/adaenv/lib/python3.5/site-packages/ipykernel/__main__.py:1: UserWarning: Boolean Series key will be reindexed to match DataFrame index.\n",
      "  if __name__ == '__main__':\n"
     ]
    }
   ],
   "source": [
    "player_one_referee = df.set_index('playerShort')[referee_per_player == 1]\n",
    "player_one_referee_ratio = player_one_referee['skintone'].isnull().mean()\n",
    "\n",
    "print(\"P(no skintone information | player has only one referee linked to him) = {:0.1f}%\".format(player_one_referee_ratio*100))"
   ]
  },
  {
   "cell_type": "markdown",
   "metadata": {},
   "source": [
    "For these players, it might be harder to infer skintone."
   ]
  },
  {
   "cell_type": "markdown",
   "metadata": {
    "collapsed": true
   },
   "source": [
    "### Numerize categories\n",
    "Some field are categories but with a string representation. This breaks the random forest algorithm. In this part, we categorize the field as numeric value. \n",
    "\n",
    "** Remark **: Using numeric field has the issue of being ordered (where the categories aren't ordered). But, one alternative is to use dummy features. At this part of the process, dummies features would add a lot of explanatory variable. Therefore, we don't create dummy features yet."
   ]
  },
  {
   "cell_type": "code",
   "execution_count": 15,
   "metadata": {
    "collapsed": false
   },
   "outputs": [
    {
     "data": {
      "text/html": [
       "<div>\n",
       "<table border=\"1\" class=\"dataframe\">\n",
       "  <thead>\n",
       "    <tr style=\"text-align: right;\">\n",
       "      <th></th>\n",
       "      <th>playerShort</th>\n",
       "      <th>player</th>\n",
       "      <th>club</th>\n",
       "      <th>leagueCountry</th>\n",
       "      <th>birthday</th>\n",
       "      <th>height</th>\n",
       "      <th>weight</th>\n",
       "      <th>position</th>\n",
       "      <th>games</th>\n",
       "      <th>victories</th>\n",
       "      <th>...</th>\n",
       "      <th>refNum</th>\n",
       "      <th>refCountry</th>\n",
       "      <th>Alpha_3</th>\n",
       "      <th>meanIAT</th>\n",
       "      <th>nIAT</th>\n",
       "      <th>seIAT</th>\n",
       "      <th>meanExp</th>\n",
       "      <th>nExp</th>\n",
       "      <th>seExp</th>\n",
       "      <th>skintone</th>\n",
       "    </tr>\n",
       "  </thead>\n",
       "  <tbody>\n",
       "    <tr>\n",
       "      <th>0</th>\n",
       "      <td>lucas-wilchez</td>\n",
       "      <td>Lucas Wilchez</td>\n",
       "      <td>82</td>\n",
       "      <td>3</td>\n",
       "      <td>31.08.1983</td>\n",
       "      <td>177.0</td>\n",
       "      <td>72.0</td>\n",
       "      <td>0</td>\n",
       "      <td>1</td>\n",
       "      <td>0</td>\n",
       "      <td>...</td>\n",
       "      <td>1</td>\n",
       "      <td>1</td>\n",
       "      <td>60</td>\n",
       "      <td>0.326391</td>\n",
       "      <td>712.0</td>\n",
       "      <td>0.000564</td>\n",
       "      <td>0.396000</td>\n",
       "      <td>750.0</td>\n",
       "      <td>0.002696</td>\n",
       "      <td>3.0</td>\n",
       "    </tr>\n",
       "    <tr>\n",
       "      <th>1</th>\n",
       "      <td>john-utaka</td>\n",
       "      <td>John Utaka</td>\n",
       "      <td>62</td>\n",
       "      <td>1</td>\n",
       "      <td>08.01.1982</td>\n",
       "      <td>179.0</td>\n",
       "      <td>82.0</td>\n",
       "      <td>12</td>\n",
       "      <td>1</td>\n",
       "      <td>0</td>\n",
       "      <td>...</td>\n",
       "      <td>2</td>\n",
       "      <td>2</td>\n",
       "      <td>159</td>\n",
       "      <td>0.203375</td>\n",
       "      <td>40.0</td>\n",
       "      <td>0.010875</td>\n",
       "      <td>-0.204082</td>\n",
       "      <td>49.0</td>\n",
       "      <td>0.061504</td>\n",
       "      <td>6.0</td>\n",
       "    </tr>\n",
       "    <tr>\n",
       "      <th>2</th>\n",
       "      <td>abdon-prats</td>\n",
       "      <td>Abdón Prats</td>\n",
       "      <td>73</td>\n",
       "      <td>3</td>\n",
       "      <td>17.12.1992</td>\n",
       "      <td>181.0</td>\n",
       "      <td>79.0</td>\n",
       "      <td>9</td>\n",
       "      <td>1</td>\n",
       "      <td>0</td>\n",
       "      <td>...</td>\n",
       "      <td>3</td>\n",
       "      <td>3</td>\n",
       "      <td>47</td>\n",
       "      <td>0.369894</td>\n",
       "      <td>1785.0</td>\n",
       "      <td>0.000229</td>\n",
       "      <td>0.588297</td>\n",
       "      <td>1897.0</td>\n",
       "      <td>0.001002</td>\n",
       "      <td>NaN</td>\n",
       "    </tr>\n",
       "    <tr>\n",
       "      <th>3</th>\n",
       "      <td>pablo-mari</td>\n",
       "      <td>Pablo Marí</td>\n",
       "      <td>73</td>\n",
       "      <td>3</td>\n",
       "      <td>31.08.1993</td>\n",
       "      <td>191.0</td>\n",
       "      <td>87.0</td>\n",
       "      <td>1</td>\n",
       "      <td>1</td>\n",
       "      <td>1</td>\n",
       "      <td>...</td>\n",
       "      <td>3</td>\n",
       "      <td>3</td>\n",
       "      <td>47</td>\n",
       "      <td>0.369894</td>\n",
       "      <td>1785.0</td>\n",
       "      <td>0.000229</td>\n",
       "      <td>0.588297</td>\n",
       "      <td>1897.0</td>\n",
       "      <td>0.001002</td>\n",
       "      <td>NaN</td>\n",
       "    </tr>\n",
       "    <tr>\n",
       "      <th>4</th>\n",
       "      <td>ruben-pena</td>\n",
       "      <td>Rubén Peña</td>\n",
       "      <td>81</td>\n",
       "      <td>3</td>\n",
       "      <td>18.07.1991</td>\n",
       "      <td>172.0</td>\n",
       "      <td>70.0</td>\n",
       "      <td>11</td>\n",
       "      <td>1</td>\n",
       "      <td>1</td>\n",
       "      <td>...</td>\n",
       "      <td>3</td>\n",
       "      <td>3</td>\n",
       "      <td>47</td>\n",
       "      <td>0.369894</td>\n",
       "      <td>1785.0</td>\n",
       "      <td>0.000229</td>\n",
       "      <td>0.588297</td>\n",
       "      <td>1897.0</td>\n",
       "      <td>0.001002</td>\n",
       "      <td>NaN</td>\n",
       "    </tr>\n",
       "    <tr>\n",
       "      <th>5</th>\n",
       "      <td>aaron-hughes</td>\n",
       "      <td>Aaron Hughes</td>\n",
       "      <td>42</td>\n",
       "      <td>0</td>\n",
       "      <td>08.11.1979</td>\n",
       "      <td>182.0</td>\n",
       "      <td>71.0</td>\n",
       "      <td>1</td>\n",
       "      <td>1</td>\n",
       "      <td>0</td>\n",
       "      <td>...</td>\n",
       "      <td>4</td>\n",
       "      <td>4</td>\n",
       "      <td>89</td>\n",
       "      <td>0.325185</td>\n",
       "      <td>127.0</td>\n",
       "      <td>0.003297</td>\n",
       "      <td>0.538462</td>\n",
       "      <td>130.0</td>\n",
       "      <td>0.013752</td>\n",
       "      <td>1.0</td>\n",
       "    </tr>\n",
       "    <tr>\n",
       "      <th>6</th>\n",
       "      <td>aleksandar-kolarov</td>\n",
       "      <td>Aleksandar Kolarov</td>\n",
       "      <td>59</td>\n",
       "      <td>0</td>\n",
       "      <td>10.11.1985</td>\n",
       "      <td>187.0</td>\n",
       "      <td>80.0</td>\n",
       "      <td>6</td>\n",
       "      <td>1</td>\n",
       "      <td>1</td>\n",
       "      <td>...</td>\n",
       "      <td>4</td>\n",
       "      <td>4</td>\n",
       "      <td>89</td>\n",
       "      <td>0.325185</td>\n",
       "      <td>127.0</td>\n",
       "      <td>0.003297</td>\n",
       "      <td>0.538462</td>\n",
       "      <td>130.0</td>\n",
       "      <td>0.013752</td>\n",
       "      <td>1.0</td>\n",
       "    </tr>\n",
       "    <tr>\n",
       "      <th>7</th>\n",
       "      <td>alexander-tettey</td>\n",
       "      <td>Alexander Tettey</td>\n",
       "      <td>65</td>\n",
       "      <td>0</td>\n",
       "      <td>04.04.1986</td>\n",
       "      <td>180.0</td>\n",
       "      <td>68.0</td>\n",
       "      <td>4</td>\n",
       "      <td>1</td>\n",
       "      <td>0</td>\n",
       "      <td>...</td>\n",
       "      <td>4</td>\n",
       "      <td>4</td>\n",
       "      <td>89</td>\n",
       "      <td>0.325185</td>\n",
       "      <td>127.0</td>\n",
       "      <td>0.003297</td>\n",
       "      <td>0.538462</td>\n",
       "      <td>130.0</td>\n",
       "      <td>0.013752</td>\n",
       "      <td>8.0</td>\n",
       "    </tr>\n",
       "    <tr>\n",
       "      <th>8</th>\n",
       "      <td>anders-lindegaard</td>\n",
       "      <td>Anders Lindegaard</td>\n",
       "      <td>60</td>\n",
       "      <td>0</td>\n",
       "      <td>13.04.1984</td>\n",
       "      <td>193.0</td>\n",
       "      <td>80.0</td>\n",
       "      <td>5</td>\n",
       "      <td>1</td>\n",
       "      <td>0</td>\n",
       "      <td>...</td>\n",
       "      <td>4</td>\n",
       "      <td>4</td>\n",
       "      <td>89</td>\n",
       "      <td>0.325185</td>\n",
       "      <td>127.0</td>\n",
       "      <td>0.003297</td>\n",
       "      <td>0.538462</td>\n",
       "      <td>130.0</td>\n",
       "      <td>0.013752</td>\n",
       "      <td>2.0</td>\n",
       "    </tr>\n",
       "    <tr>\n",
       "      <th>9</th>\n",
       "      <td>andreas-beck</td>\n",
       "      <td>Andreas Beck</td>\n",
       "      <td>2</td>\n",
       "      <td>2</td>\n",
       "      <td>13.03.1987</td>\n",
       "      <td>180.0</td>\n",
       "      <td>70.0</td>\n",
       "      <td>10</td>\n",
       "      <td>1</td>\n",
       "      <td>1</td>\n",
       "      <td>...</td>\n",
       "      <td>4</td>\n",
       "      <td>4</td>\n",
       "      <td>89</td>\n",
       "      <td>0.325185</td>\n",
       "      <td>127.0</td>\n",
       "      <td>0.003297</td>\n",
       "      <td>0.538462</td>\n",
       "      <td>130.0</td>\n",
       "      <td>0.013752</td>\n",
       "      <td>0.0</td>\n",
       "    </tr>\n",
       "  </tbody>\n",
       "</table>\n",
       "<p>10 rows × 29 columns</p>\n",
       "</div>"
      ],
      "text/plain": [
       "          playerShort              player  club  leagueCountry    birthday  \\\n",
       "0       lucas-wilchez       Lucas Wilchez    82              3  31.08.1983   \n",
       "1          john-utaka          John Utaka    62              1  08.01.1982   \n",
       "2         abdon-prats         Abdón Prats    73              3  17.12.1992   \n",
       "3          pablo-mari          Pablo Marí    73              3  31.08.1993   \n",
       "4          ruben-pena          Rubén Peña    81              3  18.07.1991   \n",
       "5        aaron-hughes        Aaron Hughes    42              0  08.11.1979   \n",
       "6  aleksandar-kolarov  Aleksandar Kolarov    59              0  10.11.1985   \n",
       "7    alexander-tettey    Alexander Tettey    65              0  04.04.1986   \n",
       "8   anders-lindegaard   Anders Lindegaard    60              0  13.04.1984   \n",
       "9        andreas-beck        Andreas Beck     2              2  13.03.1987   \n",
       "\n",
       "   height  weight  position  games  victories    ...     refNum  refCountry  \\\n",
       "0   177.0    72.0         0      1          0    ...          1           1   \n",
       "1   179.0    82.0        12      1          0    ...          2           2   \n",
       "2   181.0    79.0         9      1          0    ...          3           3   \n",
       "3   191.0    87.0         1      1          1    ...          3           3   \n",
       "4   172.0    70.0        11      1          1    ...          3           3   \n",
       "5   182.0    71.0         1      1          0    ...          4           4   \n",
       "6   187.0    80.0         6      1          1    ...          4           4   \n",
       "7   180.0    68.0         4      1          0    ...          4           4   \n",
       "8   193.0    80.0         5      1          0    ...          4           4   \n",
       "9   180.0    70.0        10      1          1    ...          4           4   \n",
       "\n",
       "   Alpha_3   meanIAT    nIAT     seIAT   meanExp    nExp     seExp  skintone  \n",
       "0       60  0.326391   712.0  0.000564  0.396000   750.0  0.002696       3.0  \n",
       "1      159  0.203375    40.0  0.010875 -0.204082    49.0  0.061504       6.0  \n",
       "2       47  0.369894  1785.0  0.000229  0.588297  1897.0  0.001002       NaN  \n",
       "3       47  0.369894  1785.0  0.000229  0.588297  1897.0  0.001002       NaN  \n",
       "4       47  0.369894  1785.0  0.000229  0.588297  1897.0  0.001002       NaN  \n",
       "5       89  0.325185   127.0  0.003297  0.538462   130.0  0.013752       1.0  \n",
       "6       89  0.325185   127.0  0.003297  0.538462   130.0  0.013752       1.0  \n",
       "7       89  0.325185   127.0  0.003297  0.538462   130.0  0.013752       8.0  \n",
       "8       89  0.325185   127.0  0.003297  0.538462   130.0  0.013752       2.0  \n",
       "9       89  0.325185   127.0  0.003297  0.538462   130.0  0.013752       0.0  \n",
       "\n",
       "[10 rows x 29 columns]"
      ]
     },
     "execution_count": 15,
     "metadata": {},
     "output_type": "execute_result"
    }
   ],
   "source": [
    "LABEL_FIELDS = ['club', 'leagueCountry', 'position', 'Alpha_3']\n",
    "UNKNOWN_LABEL = 'MISSING'\n",
    "\n",
    "label_encoders = {}\n",
    "\n",
    "from sklearn.preprocessing import LabelEncoder\n",
    "\n",
    "df_categorized = df.copy()\n",
    "\n",
    "for label in LABEL_FIELDS:\n",
    "    encoder = LabelEncoder()\n",
    "    values = df_categorized[label].fillna(UNKNOWN_LABEL, inplace=False)\n",
    "    encoder.fit(values)\n",
    "    transformed = encoder.transform(values)\n",
    "    df_categorized[label] = transformed\n",
    "    \n",
    "    label_encoders[label] = encoder\n",
    "    \n",
    "    \n",
    "# Special case for the skintone where we need to keep NaN values\n",
    "encoder = LabelEncoder()\n",
    "skintone = df_categorized['skintone']\n",
    "skintone = skintone[skintone.notnull()]\n",
    "encoder.fit(skintone)\n",
    "df_categorized.loc[skintone.index, 'skintone'] = encoder.transform(skintone)\n",
    "label_encoders['skintone'] = encoder\n",
    "\n",
    "df_categorized.head(10)"
   ]
  },
  {
   "cell_type": "markdown",
   "metadata": {},
   "source": [
    "# Predicting\n",
    "This part focuses on predicting the `skintone`.\n",
    "\n",
    "## Baseline\n",
    "First, let try to do a naive classification with the metric:\n",
    "$$\n",
    "cost(p) = \\sum_{a \\in A(p)} IAT(a)(\\text{Yellow}(p, a) + 3\\text{Reds}(p,a)),\n",
    "$$\n",
    "where $IAT(a)$ is the IAT of the referee $a$, Yellow$(p,a)$ is the number of yellow cards given by $a$ to player $p$, and reds is the number of red cards (similarly than for the yellow).\n",
    "\n",
    "We slighlty count that reds are more importants then yellows. Also, note that with this metric the red cards reveived by successive yellow cards are counted more than red cards given directly."
   ]
  },
  {
   "cell_type": "code",
   "execution_count": 16,
   "metadata": {
    "collapsed": false
   },
   "outputs": [
    {
     "name": "stdout",
     "output_type": "stream",
     "text": [
      "     playerShort         player  club  leagueCountry    birthday  height  \\\n",
      "0  lucas-wilchez  Lucas Wilchez    82              3  31.08.1983   177.0   \n",
      "1     john-utaka     John Utaka    62              1  08.01.1982   179.0   \n",
      "2    abdon-prats    Abdón Prats    73              3  17.12.1992   181.0   \n",
      "3     pablo-mari     Pablo Marí    73              3  31.08.1993   191.0   \n",
      "4     ruben-pena     Rubén Peña    81              3  18.07.1991   172.0   \n",
      "\n",
      "   weight  position  games  victories  ties  defeats  goals  yellowCards  \\\n",
      "0    72.0         0      1          0     0        1      0            0   \n",
      "1    82.0        12      1          0     0        1      0            1   \n",
      "2    79.0         9      1          0     1        0      0            1   \n",
      "3    87.0         1      1          1     0        0      0            0   \n",
      "4    70.0        11      1          1     0        0      0            0   \n",
      "\n",
      "   yellowReds  redCards    photoID  rater1  rater2  refNum  refCountry  \\\n",
      "0           0         0  95212.jpg    0.25    0.50       1           1   \n",
      "1           0         0   1663.jpg    0.75    0.75       2           2   \n",
      "2           0         0        NaN     NaN     NaN       3           3   \n",
      "3           0         0        NaN     NaN     NaN       3           3   \n",
      "4           0         0        NaN     NaN     NaN       3           3   \n",
      "\n",
      "   Alpha_3   meanIAT    nIAT     seIAT   meanExp    nExp     seExp  skintone  \n",
      "0       60  0.326391   712.0  0.000564  0.396000   750.0  0.002696       3.0  \n",
      "1      159  0.203375    40.0  0.010875 -0.204082    49.0  0.061504       6.0  \n",
      "2       47  0.369894  1785.0  0.000229  0.588297  1897.0  0.001002       NaN  \n",
      "3       47  0.369894  1785.0  0.000229  0.588297  1897.0  0.001002       NaN  \n",
      "4       47  0.369894  1785.0  0.000229  0.588297  1897.0  0.001002       NaN  \n"
     ]
    }
   ],
   "source": [
    "with pd.option_context('display.max_columns', 100):\n",
    "    print(df_categorized.head(5))"
   ]
  },
  {
   "cell_type": "code",
   "execution_count": 17,
   "metadata": {
    "collapsed": false
   },
   "outputs": [],
   "source": [
    "df_subset = df_categorized[['playerShort', 'club', 'leagueCountry', 'position','games', 'yellowCards', 'redCards', 'meanIAT', 'skintone']].copy()\n",
    "\n",
    "for f in ['meanIAT', 'yellowCards', 'redCards']:\n",
    "    df_subset[f].fillna(0, inplace=True)\n",
    "\n",
    "df_subset[\"cost\"] = df_subset['meanIAT']*(df_subset['yellowCards'] + 3*df_subset['redCards'])"
   ]
  },
  {
   "cell_type": "code",
   "execution_count": 18,
   "metadata": {
    "collapsed": false
   },
   "outputs": [
    {
     "name": "stdout",
     "output_type": "stream",
     "text": [
      "All tested fields are unique for a player\n"
     ]
    }
   ],
   "source": [
    "def check_field_uniqueness_per_player(df, field):\n",
    "    \"\"\"\n",
    "    Check if the field is unique on a user basis\n",
    "    Example:\n",
    "      - Player one: [1,1,1,1]  -> Unique \n",
    "      - Player two: [1,1,1,2]  -> Non-unique\n",
    "      - Player three: [2,2,2]  -> Unique (even if not the same as player one)\n",
    "\n",
    "    Return if uniqueness holds for every player.\n",
    "    \"\"\"\n",
    "    fields = list(set(['playerShort', field]))\n",
    "    number_different_value_per_player = df[fields].groupby('playerShort')[field].nunique()\n",
    "        \n",
    "    return not any(number_different_value_per_player > 1)\n",
    "\n",
    "non_unique_fields = []\n",
    "for f in ['club', 'leagueCountry', 'position', 'skintone']:\n",
    "    if not check_field_uniqueness_per_player(df_subset, f):\n",
    "        non_unique_fields.append(f)\n",
    "        \n",
    "if len(non_unique_fields) > 0:\n",
    "    print(\"Non-unique fields: {}\".format(non_unique_fields))\n",
    "else:\n",
    "    print(\"All tested fields are unique for a player\")\n"
   ]
  },
  {
   "cell_type": "markdown",
   "metadata": {},
   "source": [
    "As we can see, each tested field is unique per player. This means that the data is quite clean (there is no case where the player-specific data is different between two player-referee dyad). Thus, for these fields, we can take an element of the grouped list as aggregator function."
   ]
  },
  {
   "cell_type": "code",
   "execution_count": 19,
   "metadata": {
    "collapsed": true
   },
   "outputs": [],
   "source": [
    "def pick_first(elements):\n",
    "    \"\"\"\n",
    "    Aggregator for fields where each element are the same\n",
    "    \"\"\"\n",
    "    return elements.iloc[0]"
   ]
  },
  {
   "cell_type": "code",
   "execution_count": 20,
   "metadata": {
    "collapsed": false
   },
   "outputs": [
    {
     "data": {
      "text/html": [
       "<div>\n",
       "<table border=\"1\" class=\"dataframe\">\n",
       "  <thead>\n",
       "    <tr style=\"text-align: right;\">\n",
       "      <th></th>\n",
       "      <th>skintone</th>\n",
       "      <th>club</th>\n",
       "      <th>position</th>\n",
       "      <th>leagueCountry</th>\n",
       "      <th>cost</th>\n",
       "    </tr>\n",
       "    <tr>\n",
       "      <th>playerShort</th>\n",
       "      <th></th>\n",
       "      <th></th>\n",
       "      <th></th>\n",
       "      <th></th>\n",
       "      <th></th>\n",
       "    </tr>\n",
       "  </thead>\n",
       "  <tbody>\n",
       "    <tr>\n",
       "      <th>aaron-hughes</th>\n",
       "      <td>1.0</td>\n",
       "      <td>42</td>\n",
       "      <td>1</td>\n",
       "      <td>0</td>\n",
       "      <td>6.420221</td>\n",
       "    </tr>\n",
       "    <tr>\n",
       "      <th>aaron-hunt</th>\n",
       "      <td>1.0</td>\n",
       "      <td>110</td>\n",
       "      <td>0</td>\n",
       "      <td>2</td>\n",
       "      <td>15.384280</td>\n",
       "    </tr>\n",
       "    <tr>\n",
       "      <th>aaron-lennon</th>\n",
       "      <td>2.0</td>\n",
       "      <td>100</td>\n",
       "      <td>11</td>\n",
       "      <td>0</td>\n",
       "      <td>3.651979</td>\n",
       "    </tr>\n",
       "    <tr>\n",
       "      <th>aaron-ramsey</th>\n",
       "      <td>0.0</td>\n",
       "      <td>8</td>\n",
       "      <td>3</td>\n",
       "      <td>0</td>\n",
       "      <td>11.466394</td>\n",
       "    </tr>\n",
       "    <tr>\n",
       "      <th>abdelhamid-el-kaoutari</th>\n",
       "      <td>2.0</td>\n",
       "      <td>62</td>\n",
       "      <td>1</td>\n",
       "      <td>1</td>\n",
       "      <td>4.685575</td>\n",
       "    </tr>\n",
       "    <tr>\n",
       "      <th>abdon-prats</th>\n",
       "      <td>NaN</td>\n",
       "      <td>73</td>\n",
       "      <td>9</td>\n",
       "      <td>3</td>\n",
       "      <td>2.219362</td>\n",
       "    </tr>\n",
       "    <tr>\n",
       "      <th>abdou-dampha</th>\n",
       "      <td>NaN</td>\n",
       "      <td>5</td>\n",
       "      <td>0</td>\n",
       "      <td>1</td>\n",
       "      <td>3.107747</td>\n",
       "    </tr>\n",
       "    <tr>\n",
       "      <th>abdou-traore_2</th>\n",
       "      <td>6.0</td>\n",
       "      <td>44</td>\n",
       "      <td>11</td>\n",
       "      <td>1</td>\n",
       "      <td>3.708738</td>\n",
       "    </tr>\n",
       "    <tr>\n",
       "      <th>abdoul-camara</th>\n",
       "      <td>NaN</td>\n",
       "      <td>40</td>\n",
       "      <td>8</td>\n",
       "      <td>1</td>\n",
       "      <td>0.979174</td>\n",
       "    </tr>\n",
       "    <tr>\n",
       "      <th>abdoulaye-diallo_2</th>\n",
       "      <td>7.0</td>\n",
       "      <td>95</td>\n",
       "      <td>5</td>\n",
       "      <td>1</td>\n",
       "      <td>0.000000</td>\n",
       "    </tr>\n",
       "  </tbody>\n",
       "</table>\n",
       "</div>"
      ],
      "text/plain": [
       "                        skintone  club  position  leagueCountry       cost\n",
       "playerShort                                                               \n",
       "aaron-hughes                 1.0    42         1              0   6.420221\n",
       "aaron-hunt                   1.0   110         0              2  15.384280\n",
       "aaron-lennon                 2.0   100        11              0   3.651979\n",
       "aaron-ramsey                 0.0     8         3              0  11.466394\n",
       "abdelhamid-el-kaoutari       2.0    62         1              1   4.685575\n",
       "abdon-prats                  NaN    73         9              3   2.219362\n",
       "abdou-dampha                 NaN     5         0              1   3.107747\n",
       "abdou-traore_2               6.0    44        11              1   3.708738\n",
       "abdoul-camara                NaN    40         8              1   0.979174\n",
       "abdoulaye-diallo_2           7.0    95         5              1   0.000000"
      ]
     },
     "execution_count": 20,
     "metadata": {},
     "output_type": "execute_result"
    }
   ],
   "source": [
    "df_grouped = df_subset.groupby('playerShort')\n",
    "\n",
    "df_final = df_grouped.agg({\n",
    "        'club': pick_first,\n",
    "        'leagueCountry': pick_first,\n",
    "        'position': pick_first,\n",
    "        'cost': 'sum',\n",
    "        'skintone': pick_first\n",
    "    })\n",
    "\n",
    "\n",
    "df_final.head(10)"
   ]
  },
  {
   "cell_type": "markdown",
   "metadata": {},
   "source": [
    "Preparing to deal with null values"
   ]
  },
  {
   "cell_type": "code",
   "execution_count": 21,
   "metadata": {
    "collapsed": false
   },
   "outputs": [
    {
     "name": "stdout",
     "output_type": "stream",
     "text": [
      "Column skintone has missing entries\n"
     ]
    }
   ],
   "source": [
    "for c in df_final.columns:\n",
    "    if any(df_final[c].isnull()):\n",
    "        print(\"Column {} has missing entries\".format(c))"
   ]
  },
  {
   "cell_type": "markdown",
   "metadata": {},
   "source": [
    "### Training"
   ]
  },
  {
   "cell_type": "code",
   "execution_count": 25,
   "metadata": {
    "collapsed": false
   },
   "outputs": [
    {
     "name": "stdout",
     "output_type": "stream",
     "text": [
      "[1, 2, 3, 4, 5]\n"
     ]
    }
   ],
   "source": [
    "def split_training_predicting(df, y_label):\n",
    "    \"\"\"\n",
    "    Given a y_label, return the training set (where y_label != NaN), and the predict set\n",
    "    (where y_label == NaN).\n",
    "    \"\"\"\n",
    "    x_predict = df[df[y_label].isnull()].drop(y_label, 1)\n",
    "    \n",
    "    training = df[df[y_label].notnull()]\n",
    "    y_training = training[y_label]\n",
    "    x_training = training.drop(y_label, 1)\n",
    "    \n",
    "    return (x_training, y_training, x_predict)\n",
    "\n",
    "(x_training, y_training, x_predict) = split_training_predicting(df_final, 'skintone')\n",
    "\n",
    "number_of_estimators = list(range(5,100,5))\n",
    "max_features = list(range(1,df_final.shape[1]+1))\n",
    "\n",
    "print(max_features)\n",
    "\n",
    "params = {\n",
    "    'n_estimators': number_of_estimators,\n",
    "    'max_features': max_features,\n",
    "}\n",
    "\n",
    "#from sklearn.ensemble import RandomForestClassifier\n",
    "#from sklearn.grid_search import GridSearchCV\n",
    "\n",
    "#estimator = RandomForestClassifier(n_jobs=-1)\n",
    "#gscv = GridSearchCV(estimator, params, cv=10)\n",
    "#gscv.fit(x_training, list(y_training))"
   ]
  },
  {
   "cell_type": "code",
   "execution_count": null,
   "metadata": {
    "collapsed": false
   },
   "outputs": [],
   "source": [
    "df_final.shape"
   ]
  },
  {
   "cell_type": "code",
   "execution_count": null,
   "metadata": {
    "collapsed": true
   },
   "outputs": [],
   "source": []
  }
 ],
 "metadata": {
  "anaconda-cloud": {},
  "kernelspec": {
   "display_name": "Python [conda env:adaenv]",
   "language": "python",
   "name": "conda-env-adaenv-py"
  },
  "language_info": {
   "codemirror_mode": {
    "name": "ipython",
    "version": 3
   },
   "file_extension": ".py",
   "mimetype": "text/x-python",
   "name": "python",
   "nbconvert_exporter": "python",
   "pygments_lexer": "ipython3",
   "version": "3.5.2"
  }
 },
 "nbformat": 4,
 "nbformat_minor": 0
}
